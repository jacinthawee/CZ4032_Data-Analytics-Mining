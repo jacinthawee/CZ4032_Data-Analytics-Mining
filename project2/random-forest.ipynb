{
 "cells": [
  {
   "cell_type": "markdown",
   "metadata": {},
   "source": [
    "# Random Forest\n",
    "\n",
    "\n",
    "Datasets:\n",
    "- Australian\n",
    "- German\n",
    "- Iris\n",
    "- Tic-tac-toe\n",
    "- Zoo\n",
    "- Monks\n",
    "- Messidor \n",
    "- Seeds"
   ]
  },
  {
   "cell_type": "code",
   "execution_count": 480,
   "metadata": {},
   "outputs": [],
   "source": [
    "seedno = [1,12,123,1234,12345,123456, 1234567, 12345678, 123456789, 1234567890]"
   ]
  },
  {
   "cell_type": "code",
   "execution_count": 535,
   "metadata": {},
   "outputs": [],
   "source": [
    "import pandas as pd\n",
    "from sklearn.ensemble import RandomForestClassifier\n",
    "from sklearn.model_selection import train_test_split\n",
    "import matplotlib.pyplot as plt\n",
    "from sklearn.model_selection import GridSearchCV\n",
    "import numpy as np\n",
    "from sklearn.model_selection import RandomizedSearchCV\n",
    "from sklearn import preprocessing\n",
    "from sklearn.metrics import f1_score"
   ]
  },
  {
   "cell_type": "code",
   "execution_count": 664,
   "metadata": {},
   "outputs": [],
   "source": [
    "australian = pd.read_csv('australia.txt', sep=\",\")\n",
    "german = pd.read_csv('german.txt', sep=\",\")\n",
    "iris = pd.read_csv('iris.txt', sep=\",\")\n",
    "tictactoe = pd.read_csv('tictactoe.txt', sep=\",\")\n",
    "zoo = pd.read_csv('zoo.txt', sep=\",\")\n",
    "monks = pd.read_csv('monks.txt', sep=\",\")\n",
    "messidor = pd.read_csv('messidor.txt', sep=\",\")\n",
    "seeds = pd.read_csv('seeds.txt', sep=\",\")"
   ]
  },
  {
   "cell_type": "code",
   "execution_count": 537,
   "metadata": {},
   "outputs": [],
   "source": [
    "def evaluate(model, test_features, test_labels):\n",
    "    predictions = model.predict(test_features)\n",
    "    error = 0\n",
    "    for i in range(0, len(predictions)):\n",
    "        if test_labels.reset_index().iloc[i, 1] != predictions[i]:\n",
    "            error = error + 1\n",
    "    accuracy = 100-(error/len(predictions))*100\n",
    "    print('Accuracy = {:0.2f}%.'.format(accuracy))\n",
    "    f1score = f1_score(test_labels, predictions, average='weighted') \n",
    "    print('F1 Score = {:0.2f}.'.format(f1score))\n",
    "    \n",
    "    return accuracy, f1score"
   ]
  },
  {
   "cell_type": "code",
   "execution_count": 484,
   "metadata": {},
   "outputs": [],
   "source": [
    "def RandomForestBaseModel(X_train, X_test, y_train, y_test, index_col, seed):\n",
    "    clf=RandomForestClassifier(n_estimators=100, random_state=seed)\n",
    "    clf.fit(X_train,y_train)\n",
    "    print('Parameters currently in use:\\n')\n",
    "    print(clf.get_params())\n",
    "    base_accuracy.append(evaluate(clf, X_test, y_test))\n",
    "    feature_imp = pd.Series(clf.feature_importances_, index=index_col).sort_values(ascending=False)\n",
    "    feature_importance.append(feature_imp)\n",
    "    "
   ]
  },
  {
   "cell_type": "code",
   "execution_count": 485,
   "metadata": {},
   "outputs": [],
   "source": [
    "def RandomForestGridCV(X_train, X_test, y_train, y_test, param_grid, seed):\n",
    "    clf = RandomForestClassifier(random_state = seed)\n",
    "    grid_search = GridSearchCV(estimator = clf, param_grid = param_grid, \n",
    "                              cv = 3, n_jobs = -1, verbose = 2, error_score='raise')\n",
    "    grid_search.fit(X_train, y_train)\n",
    "    grid_cv_best_param.append(grid_search.best_params_)\n",
    "    b = evaluate(grid_search.best_estimator_, X_test, y_test)\n",
    "    grid_cv_accuracy.append(b)"
   ]
  },
  {
   "cell_type": "code",
   "execution_count": 486,
   "metadata": {},
   "outputs": [],
   "source": [
    "def EliminationFeatures(X, y, clf_features):\n",
    "    X_train, X_test, y_train, y_test = train_test_split(X, y, test_size=0.3, random_state = 42)\n",
    "    clf_features.fit(X_train, y_train)\n",
    "    b = evaluate(clf_features, X_test, y_test)\n",
    "    elimination_features_accuracy.append(b)\n",
    "    \n",
    "    "
   ]
  },
  {
   "cell_type": "code",
   "execution_count": 487,
   "metadata": {},
   "outputs": [],
   "source": [
    "def labelEncoded(columns, dataset):\n",
    "    le = preprocessing.LabelEncoder()\n",
    "    for i in range(0, len(columns)):\n",
    "        fit = le.fit(dataset[columns[i]].unique())\n",
    "        print(fit.classes_)\n",
    "        dataset[columns[i]] = le.transform(dataset[columns[i]])"
   ]
  },
  {
   "cell_type": "markdown",
   "metadata": {},
   "source": [
    "# Australian"
   ]
  },
  {
   "cell_type": "code",
   "execution_count": 538,
   "metadata": {},
   "outputs": [],
   "source": [
    "base_accuracy = []\n",
    "grid_cv_accuracy = []\n",
    "feature_importance = []\n",
    "grid_cv_best_param = []\n",
    "elimination_features_accuracy = []"
   ]
  },
  {
   "cell_type": "code",
   "execution_count": 573,
   "metadata": {},
   "outputs": [],
   "source": [
    "base_accuracy = []"
   ]
  },
  {
   "cell_type": "code",
   "execution_count": 574,
   "metadata": {},
   "outputs": [],
   "source": [
    "X_train, X_test, y_train, y_test = train_test_split(australian.iloc[:, 0:(len(australian.columns)-1)], australian.iloc[:, -1], test_size=0.3, random_state = 42)"
   ]
  },
  {
   "cell_type": "code",
   "execution_count": 575,
   "metadata": {
    "scrolled": true
   },
   "outputs": [
    {
     "name": "stdout",
     "output_type": "stream",
     "text": [
      "Parameters currently in use:\n",
      "\n",
      "{'bootstrap': True, 'ccp_alpha': 0.0, 'class_weight': None, 'criterion': 'gini', 'max_depth': None, 'max_features': 'sqrt', 'max_leaf_nodes': None, 'max_samples': None, 'min_impurity_decrease': 0.0, 'min_samples_leaf': 1, 'min_samples_split': 2, 'min_weight_fraction_leaf': 0.0, 'n_estimators': 100, 'n_jobs': None, 'oob_score': False, 'random_state': 1, 'verbose': 0, 'warm_start': False}\n",
      "Accuracy = 85.99%.\n",
      "F1 Score = 0.86.\n",
      "Parameters currently in use:\n",
      "\n",
      "{'bootstrap': True, 'ccp_alpha': 0.0, 'class_weight': None, 'criterion': 'gini', 'max_depth': None, 'max_features': 'sqrt', 'max_leaf_nodes': None, 'max_samples': None, 'min_impurity_decrease': 0.0, 'min_samples_leaf': 1, 'min_samples_split': 2, 'min_weight_fraction_leaf': 0.0, 'n_estimators': 100, 'n_jobs': None, 'oob_score': False, 'random_state': 12, 'verbose': 0, 'warm_start': False}\n",
      "Accuracy = 86.96%.\n",
      "F1 Score = 0.87.\n",
      "Parameters currently in use:\n",
      "\n",
      "{'bootstrap': True, 'ccp_alpha': 0.0, 'class_weight': None, 'criterion': 'gini', 'max_depth': None, 'max_features': 'sqrt', 'max_leaf_nodes': None, 'max_samples': None, 'min_impurity_decrease': 0.0, 'min_samples_leaf': 1, 'min_samples_split': 2, 'min_weight_fraction_leaf': 0.0, 'n_estimators': 100, 'n_jobs': None, 'oob_score': False, 'random_state': 123, 'verbose': 0, 'warm_start': False}\n",
      "Accuracy = 87.44%.\n",
      "F1 Score = 0.87.\n",
      "Parameters currently in use:\n",
      "\n",
      "{'bootstrap': True, 'ccp_alpha': 0.0, 'class_weight': None, 'criterion': 'gini', 'max_depth': None, 'max_features': 'sqrt', 'max_leaf_nodes': None, 'max_samples': None, 'min_impurity_decrease': 0.0, 'min_samples_leaf': 1, 'min_samples_split': 2, 'min_weight_fraction_leaf': 0.0, 'n_estimators': 100, 'n_jobs': None, 'oob_score': False, 'random_state': 1234, 'verbose': 0, 'warm_start': False}\n",
      "Accuracy = 86.47%.\n",
      "F1 Score = 0.86.\n",
      "Parameters currently in use:\n",
      "\n",
      "{'bootstrap': True, 'ccp_alpha': 0.0, 'class_weight': None, 'criterion': 'gini', 'max_depth': None, 'max_features': 'sqrt', 'max_leaf_nodes': None, 'max_samples': None, 'min_impurity_decrease': 0.0, 'min_samples_leaf': 1, 'min_samples_split': 2, 'min_weight_fraction_leaf': 0.0, 'n_estimators': 100, 'n_jobs': None, 'oob_score': False, 'random_state': 12345, 'verbose': 0, 'warm_start': False}\n",
      "Accuracy = 87.44%.\n",
      "F1 Score = 0.87.\n",
      "Parameters currently in use:\n",
      "\n",
      "{'bootstrap': True, 'ccp_alpha': 0.0, 'class_weight': None, 'criterion': 'gini', 'max_depth': None, 'max_features': 'sqrt', 'max_leaf_nodes': None, 'max_samples': None, 'min_impurity_decrease': 0.0, 'min_samples_leaf': 1, 'min_samples_split': 2, 'min_weight_fraction_leaf': 0.0, 'n_estimators': 100, 'n_jobs': None, 'oob_score': False, 'random_state': 123456, 'verbose': 0, 'warm_start': False}\n",
      "Accuracy = 86.96%.\n",
      "F1 Score = 0.87.\n",
      "Parameters currently in use:\n",
      "\n",
      "{'bootstrap': True, 'ccp_alpha': 0.0, 'class_weight': None, 'criterion': 'gini', 'max_depth': None, 'max_features': 'sqrt', 'max_leaf_nodes': None, 'max_samples': None, 'min_impurity_decrease': 0.0, 'min_samples_leaf': 1, 'min_samples_split': 2, 'min_weight_fraction_leaf': 0.0, 'n_estimators': 100, 'n_jobs': None, 'oob_score': False, 'random_state': 1234567, 'verbose': 0, 'warm_start': False}\n",
      "Accuracy = 86.47%.\n",
      "F1 Score = 0.86.\n",
      "Parameters currently in use:\n",
      "\n",
      "{'bootstrap': True, 'ccp_alpha': 0.0, 'class_weight': None, 'criterion': 'gini', 'max_depth': None, 'max_features': 'sqrt', 'max_leaf_nodes': None, 'max_samples': None, 'min_impurity_decrease': 0.0, 'min_samples_leaf': 1, 'min_samples_split': 2, 'min_weight_fraction_leaf': 0.0, 'n_estimators': 100, 'n_jobs': None, 'oob_score': False, 'random_state': 12345678, 'verbose': 0, 'warm_start': False}\n",
      "Accuracy = 87.44%.\n",
      "F1 Score = 0.87.\n",
      "Parameters currently in use:\n",
      "\n",
      "{'bootstrap': True, 'ccp_alpha': 0.0, 'class_weight': None, 'criterion': 'gini', 'max_depth': None, 'max_features': 'sqrt', 'max_leaf_nodes': None, 'max_samples': None, 'min_impurity_decrease': 0.0, 'min_samples_leaf': 1, 'min_samples_split': 2, 'min_weight_fraction_leaf': 0.0, 'n_estimators': 100, 'n_jobs': None, 'oob_score': False, 'random_state': 123456789, 'verbose': 0, 'warm_start': False}\n",
      "Accuracy = 86.96%.\n",
      "F1 Score = 0.87.\n",
      "Parameters currently in use:\n",
      "\n",
      "{'bootstrap': True, 'ccp_alpha': 0.0, 'class_weight': None, 'criterion': 'gini', 'max_depth': None, 'max_features': 'sqrt', 'max_leaf_nodes': None, 'max_samples': None, 'min_impurity_decrease': 0.0, 'min_samples_leaf': 1, 'min_samples_split': 2, 'min_weight_fraction_leaf': 0.0, 'n_estimators': 100, 'n_jobs': None, 'oob_score': False, 'random_state': 1234567890, 'verbose': 0, 'warm_start': False}\n",
      "Accuracy = 87.44%.\n",
      "F1 Score = 0.87.\n"
     ]
    }
   ],
   "source": [
    "for i in seedno:\n",
    "    RandomForestBaseModel(X_train, X_test, y_train, y_test, australian.columns[0:len(australian.columns)-1], i)"
   ]
  },
  {
   "cell_type": "code",
   "execution_count": 576,
   "metadata": {
    "scrolled": false
   },
   "outputs": [
    {
     "data": {
      "text/plain": [
       "[(85.9903381642512, 0.8590353513421484),\n",
       " (86.95652173913044, 0.8697054938421825),\n",
       " (87.43961352657004, 0.8734411863835524),\n",
       " (86.47342995169082, 0.8644214310167752),\n",
       " (87.43961352657004, 0.8737874931205284),\n",
       " (86.95652173913044, 0.8687570512495865),\n",
       " (86.47342995169082, 0.8644214310167752),\n",
       " (87.43961352657004, 0.8743961352657005),\n",
       " (86.95652173913044, 0.8683825480459421),\n",
       " (87.43961352657004, 0.8741056145155769)]"
      ]
     },
     "execution_count": 576,
     "metadata": {},
     "output_type": "execute_result"
    }
   ],
   "source": [
    "base_accuracy"
   ]
  },
  {
   "cell_type": "code",
   "execution_count": 558,
   "metadata": {},
   "outputs": [
    {
     "name": "stdout",
     "output_type": "stream",
     "text": [
      "Average of the base accuracy for Australian dataset\n"
     ]
    },
    {
     "data": {
      "text/plain": [
       "86.95652173913044"
      ]
     },
     "execution_count": 558,
     "metadata": {},
     "output_type": "execute_result"
    }
   ],
   "source": [
    "print(\"Average of the base accuracy for Australian dataset\")\n",
    "summation = 0\n",
    "for i in range(0, len(base_accuracy)):\n",
    "    summation= summation + base_accuracy[i][0]\n",
    "summation/10\n",
    "    "
   ]
  },
  {
   "cell_type": "code",
   "execution_count": 559,
   "metadata": {},
   "outputs": [
    {
     "name": "stdout",
     "output_type": "stream",
     "text": [
      "Average of the f1 score for Australian dataset\n"
     ]
    },
    {
     "data": {
      "text/plain": [
       "0.8690453735798769"
      ]
     },
     "execution_count": 559,
     "metadata": {},
     "output_type": "execute_result"
    }
   ],
   "source": [
    "print(\"Average of the f1 score for Australian dataset\")\n",
    "summation = 0\n",
    "for i in range(0, len(base_accuracy)):\n",
    "    summation= summation + base_accuracy[i][1]\n",
    "summation/10"
   ]
  },
  {
   "cell_type": "code",
   "execution_count": 560,
   "metadata": {},
   "outputs": [],
   "source": [
    "param_grid = {'n_estimators': [500, 600, 700], \n",
    "              'min_samples_split': [2, 5, 10], \n",
    "              'min_samples_leaf': [1,2,4], \n",
    "              'max_depth': [10, 20, 30],\n",
    "}"
   ]
  },
  {
   "cell_type": "code",
   "execution_count": 561,
   "metadata": {
    "scrolled": false
   },
   "outputs": [
    {
     "name": "stdout",
     "output_type": "stream",
     "text": [
      "Fitting 3 folds for each of 81 candidates, totalling 243 fits\n",
      "Accuracy = 87.44%.\n",
      "F1 Score = 0.87.\n",
      "Fitting 3 folds for each of 81 candidates, totalling 243 fits\n",
      "Accuracy = 86.96%.\n",
      "F1 Score = 0.87.\n",
      "Fitting 3 folds for each of 81 candidates, totalling 243 fits\n",
      "Accuracy = 86.96%.\n",
      "F1 Score = 0.87.\n",
      "Fitting 3 folds for each of 81 candidates, totalling 243 fits\n",
      "Accuracy = 85.51%.\n",
      "F1 Score = 0.85.\n",
      "Fitting 3 folds for each of 81 candidates, totalling 243 fits\n",
      "Accuracy = 87.44%.\n",
      "F1 Score = 0.87.\n",
      "Fitting 3 folds for each of 81 candidates, totalling 243 fits\n",
      "Accuracy = 86.96%.\n",
      "F1 Score = 0.87.\n",
      "Fitting 3 folds for each of 81 candidates, totalling 243 fits\n",
      "Accuracy = 87.92%.\n",
      "F1 Score = 0.88.\n",
      "Fitting 3 folds for each of 81 candidates, totalling 243 fits\n",
      "Accuracy = 87.44%.\n",
      "F1 Score = 0.87.\n",
      "Fitting 3 folds for each of 81 candidates, totalling 243 fits\n",
      "Accuracy = 86.96%.\n",
      "F1 Score = 0.87.\n",
      "Fitting 3 folds for each of 81 candidates, totalling 243 fits\n",
      "Accuracy = 86.96%.\n",
      "F1 Score = 0.87.\n"
     ]
    }
   ],
   "source": [
    "for i in seedno:\n",
    "    RandomForestGridCV(X_train, X_test, y_train, y_test, param_grid, i)"
   ]
  },
  {
   "cell_type": "code",
   "execution_count": 562,
   "metadata": {
    "scrolled": false
   },
   "outputs": [
    {
     "data": {
      "text/plain": [
       "[(87.43961352657004, 0.8737874931205284),\n",
       " (86.95652173913044, 0.8687570512495865),\n",
       " (86.95652173913044, 0.8683825480459421),\n",
       " (85.5072463768116, 0.8543701843698405),\n",
       " (87.43961352657004, 0.8737874931205284),\n",
       " (86.95652173913044, 0.8691019640013511),\n",
       " (87.92270531400966, 0.878798114816066),\n",
       " (87.43961352657004, 0.8743961352657005),\n",
       " (86.95652173913044, 0.8687570512495865),\n",
       " (86.95652173913044, 0.8691019640013511)]"
      ]
     },
     "execution_count": 562,
     "metadata": {},
     "output_type": "execute_result"
    }
   ],
   "source": [
    "grid_cv_accuracy"
   ]
  },
  {
   "cell_type": "code",
   "execution_count": 563,
   "metadata": {
    "scrolled": true
   },
   "outputs": [
    {
     "name": "stdout",
     "output_type": "stream",
     "text": [
      "Average of the grid cv accuracy for Australian dataset\n"
     ]
    },
    {
     "data": {
      "text/plain": [
       "87.05314009661838"
      ]
     },
     "execution_count": 563,
     "metadata": {},
     "output_type": "execute_result"
    }
   ],
   "source": [
    "print(\"Average of the grid cv accuracy for Australian dataset\")\n",
    "summation = 0\n",
    "for i in range(0, len(grid_cv_accuracy)):\n",
    "    summation= summation + grid_cv_accuracy[i][0]\n",
    "summation/10"
   ]
  },
  {
   "cell_type": "code",
   "execution_count": 564,
   "metadata": {},
   "outputs": [
    {
     "name": "stdout",
     "output_type": "stream",
     "text": [
      "Average of the grid cv f1score for Australian dataset\n"
     ]
    },
    {
     "data": {
      "text/plain": [
       "0.8699239999240481"
      ]
     },
     "execution_count": 564,
     "metadata": {},
     "output_type": "execute_result"
    }
   ],
   "source": [
    "print(\"Average of the grid cv f1score for Australian dataset\")\n",
    "summation = 0\n",
    "for i in range(0, len(grid_cv_accuracy)):\n",
    "    summation= summation + grid_cv_accuracy[i][1]\n",
    "summation/10"
   ]
  },
  {
   "cell_type": "code",
   "execution_count": 496,
   "metadata": {
    "scrolled": false
   },
   "outputs": [
    {
     "data": {
      "text/plain": [
       "[{'max_depth': 20,\n",
       "  'min_samples_leaf': 1,\n",
       "  'min_samples_split': 5,\n",
       "  'n_estimators': 700},\n",
       " {'max_depth': 20,\n",
       "  'min_samples_leaf': 1,\n",
       "  'min_samples_split': 5,\n",
       "  'n_estimators': 600},\n",
       " {'max_depth': 10,\n",
       "  'min_samples_leaf': 1,\n",
       "  'min_samples_split': 2,\n",
       "  'n_estimators': 700},\n",
       " {'max_depth': 10,\n",
       "  'min_samples_leaf': 1,\n",
       "  'min_samples_split': 2,\n",
       "  'n_estimators': 600},\n",
       " {'max_depth': 20,\n",
       "  'min_samples_leaf': 1,\n",
       "  'min_samples_split': 2,\n",
       "  'n_estimators': 600},\n",
       " {'max_depth': 10,\n",
       "  'min_samples_leaf': 1,\n",
       "  'min_samples_split': 5,\n",
       "  'n_estimators': 500},\n",
       " {'max_depth': 10,\n",
       "  'min_samples_leaf': 1,\n",
       "  'min_samples_split': 2,\n",
       "  'n_estimators': 500},\n",
       " {'max_depth': 10,\n",
       "  'min_samples_leaf': 1,\n",
       "  'min_samples_split': 5,\n",
       "  'n_estimators': 500},\n",
       " {'max_depth': 10,\n",
       "  'min_samples_leaf': 1,\n",
       "  'min_samples_split': 2,\n",
       "  'n_estimators': 700},\n",
       " {'max_depth': 10,\n",
       "  'min_samples_leaf': 1,\n",
       "  'min_samples_split': 5,\n",
       "  'n_estimators': 700}]"
      ]
     },
     "execution_count": 496,
     "metadata": {},
     "output_type": "execute_result"
    }
   ],
   "source": [
    "grid_cv_best_param"
   ]
  },
  {
   "cell_type": "markdown",
   "metadata": {},
   "source": [
    "## Elimination of less important features"
   ]
  },
  {
   "cell_type": "code",
   "execution_count": 498,
   "metadata": {},
   "outputs": [
    {
     "data": {
      "text/plain": [
       "[A8     0.264822\n",
       " A10    0.098073\n",
       " A7     0.097632\n",
       " A14    0.086956\n",
       " A3     0.085105\n",
       " A5     0.074160\n",
       " A2     0.072572\n",
       " A13    0.070018\n",
       " A9     0.065403\n",
       " A6     0.028835\n",
       " A4     0.019589\n",
       " A12    0.014643\n",
       " A11    0.012057\n",
       " A1     0.010135\n",
       " dtype: float64,\n",
       " A8     0.287483\n",
       " A10    0.105153\n",
       " A7     0.094973\n",
       " A5     0.080552\n",
       " A3     0.079170\n",
       " A2     0.074116\n",
       " A14    0.072126\n",
       " A13    0.068422\n",
       " A9     0.061438\n",
       " A6     0.025821\n",
       " A4     0.016052\n",
       " A11    0.012483\n",
       " A12    0.011119\n",
       " A1     0.011092\n",
       " dtype: float64,\n",
       " A8     0.266993\n",
       " A10    0.110947\n",
       " A7     0.088701\n",
       " A3     0.084958\n",
       " A5     0.082320\n",
       " A14    0.074195\n",
       " A2     0.070246\n",
       " A13    0.069960\n",
       " A9     0.068717\n",
       " A6     0.030337\n",
       " A4     0.015424\n",
       " A11    0.013277\n",
       " A12    0.012280\n",
       " A1     0.011646\n",
       " dtype: float64,\n",
       " A8     0.284715\n",
       " A10    0.102166\n",
       " A7     0.092950\n",
       " A3     0.086319\n",
       " A14    0.081065\n",
       " A5     0.071168\n",
       " A2     0.070160\n",
       " A13    0.069753\n",
       " A9     0.056079\n",
       " A6     0.029156\n",
       " A4     0.019553\n",
       " A11    0.012599\n",
       " A12    0.012330\n",
       " A1     0.011987\n",
       " dtype: float64,\n",
       " A8     0.287875\n",
       " A10    0.108612\n",
       " A7     0.089889\n",
       " A3     0.084399\n",
       " A14    0.081207\n",
       " A5     0.072095\n",
       " A2     0.067052\n",
       " A13    0.066571\n",
       " A9     0.059580\n",
       " A6     0.027135\n",
       " A4     0.018144\n",
       " A11    0.013287\n",
       " A12    0.012861\n",
       " A1     0.011292\n",
       " dtype: float64,\n",
       " A8     0.271890\n",
       " A10    0.117170\n",
       " A3     0.090344\n",
       " A7     0.087681\n",
       " A14    0.078778\n",
       " A5     0.077887\n",
       " A2     0.068298\n",
       " A13    0.064385\n",
       " A9     0.059969\n",
       " A6     0.029307\n",
       " A4     0.018068\n",
       " A12    0.013062\n",
       " A11    0.011907\n",
       " A1     0.011253\n",
       " dtype: float64,\n",
       " A8     0.276384\n",
       " A10    0.111389\n",
       " A14    0.089979\n",
       " A7     0.087173\n",
       " A5     0.087049\n",
       " A3     0.081315\n",
       " A13    0.071631\n",
       " A2     0.068006\n",
       " A9     0.042304\n",
       " A6     0.027948\n",
       " A4     0.020373\n",
       " A12    0.013818\n",
       " A11    0.011530\n",
       " A1     0.011100\n",
       " dtype: float64,\n",
       " A8     0.308343\n",
       " A10    0.099815\n",
       " A3     0.089148\n",
       " A7     0.080534\n",
       " A5     0.079110\n",
       " A14    0.072158\n",
       " A2     0.065453\n",
       " A13    0.064184\n",
       " A9     0.055431\n",
       " A6     0.026632\n",
       " A4     0.018251\n",
       " A12    0.015138\n",
       " A11    0.013552\n",
       " A1     0.012250\n",
       " dtype: float64,\n",
       " A8     0.294035\n",
       " A10    0.100436\n",
       " A7     0.086095\n",
       " A5     0.083154\n",
       " A3     0.079624\n",
       " A14    0.078504\n",
       " A2     0.074596\n",
       " A13    0.063482\n",
       " A9     0.056762\n",
       " A6     0.028198\n",
       " A4     0.019044\n",
       " A12    0.014003\n",
       " A1     0.011120\n",
       " A11    0.010948\n",
       " dtype: float64,\n",
       " A8     0.291474\n",
       " A10    0.098969\n",
       " A7     0.089664\n",
       " A3     0.082587\n",
       " A5     0.082004\n",
       " A14    0.074544\n",
       " A2     0.073412\n",
       " A13    0.068801\n",
       " A9     0.057828\n",
       " A6     0.026649\n",
       " A4     0.017662\n",
       " A1     0.012459\n",
       " A12    0.012223\n",
       " A11    0.011725\n",
       " dtype: float64]"
      ]
     },
     "execution_count": 498,
     "metadata": {},
     "output_type": "execute_result"
    }
   ],
   "source": [
    "feature_importance"
   ]
  },
  {
   "cell_type": "markdown",
   "metadata": {},
   "source": [
    "From the figure above, we can see the less important features such as: A4, A12, A11, A1. We can try eliminating it and see it will affect the accuracy. Moving forward, we will use the best parameters from the base model."
   ]
  },
  {
   "cell_type": "code",
   "execution_count": 499,
   "metadata": {},
   "outputs": [],
   "source": [
    "aus_new = australian[australian.columns.difference(['A1', 'A4', 'A11', 'A12'])]"
   ]
  },
  {
   "cell_type": "code",
   "execution_count": 500,
   "metadata": {},
   "outputs": [
    {
     "name": "stdout",
     "output_type": "stream",
     "text": [
      "Accuracy = 86.47%.\n",
      "Accuracy = 85.99%.\n",
      "Accuracy = 85.99%.\n",
      "Accuracy = 86.47%.\n",
      "Accuracy = 85.99%.\n",
      "Accuracy = 86.47%.\n",
      "Accuracy = 86.47%.\n",
      "Accuracy = 85.99%.\n",
      "Accuracy = 86.47%.\n",
      "Accuracy = 86.47%.\n"
     ]
    }
   ],
   "source": [
    "for i in seedno:\n",
    "    clf_features = RandomForestClassifier(random_state = i, max_depth = 10,\n",
    "  min_samples_leaf = 1,\n",
    "  min_samples_split = 2,\n",
    "  n_estimators = 500)\n",
    "    EliminationFeatures(aus_new.iloc[:, 0:(len(aus_new.columns)-1)], aus_new.iloc[:, -1], clf_features)"
   ]
  },
  {
   "cell_type": "code",
   "execution_count": 501,
   "metadata": {
    "scrolled": true
   },
   "outputs": [
    {
     "data": {
      "text/plain": [
       "[86.47342995169082,\n",
       " 85.9903381642512,\n",
       " 85.9903381642512,\n",
       " 86.47342995169082,\n",
       " 85.9903381642512,\n",
       " 86.47342995169082,\n",
       " 86.47342995169082,\n",
       " 85.9903381642512,\n",
       " 86.47342995169082,\n",
       " 86.47342995169082]"
      ]
     },
     "execution_count": 501,
     "metadata": {},
     "output_type": "execute_result"
    }
   ],
   "source": [
    "elimination_features_accuracy"
   ]
  },
  {
   "cell_type": "code",
   "execution_count": 502,
   "metadata": {
    "scrolled": false
   },
   "outputs": [
    {
     "name": "stdout",
     "output_type": "stream",
     "text": [
      "Average of the eliminated features accuracy for Australian dataset\n"
     ]
    },
    {
     "data": {
      "text/plain": [
       "86.28019323671496"
      ]
     },
     "execution_count": 502,
     "metadata": {},
     "output_type": "execute_result"
    }
   ],
   "source": [
    "print(\"Average of the eliminated features accuracy for Australian dataset\")\n",
    "sum(elimination_features_accuracy)/10"
   ]
  },
  {
   "cell_type": "markdown",
   "metadata": {},
   "source": [
    "# German"
   ]
  },
  {
   "cell_type": "code",
   "execution_count": 577,
   "metadata": {},
   "outputs": [],
   "source": [
    "base_accuracy = []\n",
    "grid_cv_accuracy = []\n",
    "feature_importance = []\n",
    "grid_cv_best_param = []\n",
    "elimination_features_accuracy = []"
   ]
  },
  {
   "cell_type": "code",
   "execution_count": 578,
   "metadata": {
    "scrolled": true
   },
   "outputs": [],
   "source": [
    "columns = []\n",
    "for i in range(0, len(german.columns)):\n",
    "    if german[german.columns[i]].dtypes == 'O':\n",
    "        columns.append(german.columns[i])"
   ]
  },
  {
   "cell_type": "code",
   "execution_count": 579,
   "metadata": {},
   "outputs": [],
   "source": [
    "labelEncoded(columns, german)"
   ]
  },
  {
   "cell_type": "code",
   "execution_count": 580,
   "metadata": {},
   "outputs": [],
   "source": [
    "X_train, X_test, y_train, y_test = train_test_split(german.iloc[:, 0:(len(german.columns)-1)], german.iloc[:, -1], test_size=0.3, random_state = 42)"
   ]
  },
  {
   "cell_type": "code",
   "execution_count": 581,
   "metadata": {
    "scrolled": false
   },
   "outputs": [
    {
     "name": "stdout",
     "output_type": "stream",
     "text": [
      "Parameters currently in use:\n",
      "\n",
      "{'bootstrap': True, 'ccp_alpha': 0.0, 'class_weight': None, 'criterion': 'gini', 'max_depth': None, 'max_features': 'sqrt', 'max_leaf_nodes': None, 'max_samples': None, 'min_impurity_decrease': 0.0, 'min_samples_leaf': 1, 'min_samples_split': 2, 'min_weight_fraction_leaf': 0.0, 'n_estimators': 100, 'n_jobs': None, 'oob_score': False, 'random_state': 1, 'verbose': 0, 'warm_start': False}\n",
      "Accuracy = 76.33%.\n",
      "F1 Score = 0.74.\n",
      "Parameters currently in use:\n",
      "\n",
      "{'bootstrap': True, 'ccp_alpha': 0.0, 'class_weight': None, 'criterion': 'gini', 'max_depth': None, 'max_features': 'sqrt', 'max_leaf_nodes': None, 'max_samples': None, 'min_impurity_decrease': 0.0, 'min_samples_leaf': 1, 'min_samples_split': 2, 'min_weight_fraction_leaf': 0.0, 'n_estimators': 100, 'n_jobs': None, 'oob_score': False, 'random_state': 12, 'verbose': 0, 'warm_start': False}\n",
      "Accuracy = 77.33%.\n",
      "F1 Score = 0.76.\n",
      "Parameters currently in use:\n",
      "\n",
      "{'bootstrap': True, 'ccp_alpha': 0.0, 'class_weight': None, 'criterion': 'gini', 'max_depth': None, 'max_features': 'sqrt', 'max_leaf_nodes': None, 'max_samples': None, 'min_impurity_decrease': 0.0, 'min_samples_leaf': 1, 'min_samples_split': 2, 'min_weight_fraction_leaf': 0.0, 'n_estimators': 100, 'n_jobs': None, 'oob_score': False, 'random_state': 123, 'verbose': 0, 'warm_start': False}\n",
      "Accuracy = 76.00%.\n",
      "F1 Score = 0.74.\n",
      "Parameters currently in use:\n",
      "\n",
      "{'bootstrap': True, 'ccp_alpha': 0.0, 'class_weight': None, 'criterion': 'gini', 'max_depth': None, 'max_features': 'sqrt', 'max_leaf_nodes': None, 'max_samples': None, 'min_impurity_decrease': 0.0, 'min_samples_leaf': 1, 'min_samples_split': 2, 'min_weight_fraction_leaf': 0.0, 'n_estimators': 100, 'n_jobs': None, 'oob_score': False, 'random_state': 1234, 'verbose': 0, 'warm_start': False}\n",
      "Accuracy = 77.67%.\n",
      "F1 Score = 0.76.\n",
      "Parameters currently in use:\n",
      "\n",
      "{'bootstrap': True, 'ccp_alpha': 0.0, 'class_weight': None, 'criterion': 'gini', 'max_depth': None, 'max_features': 'sqrt', 'max_leaf_nodes': None, 'max_samples': None, 'min_impurity_decrease': 0.0, 'min_samples_leaf': 1, 'min_samples_split': 2, 'min_weight_fraction_leaf': 0.0, 'n_estimators': 100, 'n_jobs': None, 'oob_score': False, 'random_state': 12345, 'verbose': 0, 'warm_start': False}\n",
      "Accuracy = 78.00%.\n",
      "F1 Score = 0.76.\n",
      "Parameters currently in use:\n",
      "\n",
      "{'bootstrap': True, 'ccp_alpha': 0.0, 'class_weight': None, 'criterion': 'gini', 'max_depth': None, 'max_features': 'sqrt', 'max_leaf_nodes': None, 'max_samples': None, 'min_impurity_decrease': 0.0, 'min_samples_leaf': 1, 'min_samples_split': 2, 'min_weight_fraction_leaf': 0.0, 'n_estimators': 100, 'n_jobs': None, 'oob_score': False, 'random_state': 123456, 'verbose': 0, 'warm_start': False}\n",
      "Accuracy = 75.33%.\n",
      "F1 Score = 0.73.\n",
      "Parameters currently in use:\n",
      "\n",
      "{'bootstrap': True, 'ccp_alpha': 0.0, 'class_weight': None, 'criterion': 'gini', 'max_depth': None, 'max_features': 'sqrt', 'max_leaf_nodes': None, 'max_samples': None, 'min_impurity_decrease': 0.0, 'min_samples_leaf': 1, 'min_samples_split': 2, 'min_weight_fraction_leaf': 0.0, 'n_estimators': 100, 'n_jobs': None, 'oob_score': False, 'random_state': 1234567, 'verbose': 0, 'warm_start': False}\n",
      "Accuracy = 77.67%.\n",
      "F1 Score = 0.76.\n",
      "Parameters currently in use:\n",
      "\n",
      "{'bootstrap': True, 'ccp_alpha': 0.0, 'class_weight': None, 'criterion': 'gini', 'max_depth': None, 'max_features': 'sqrt', 'max_leaf_nodes': None, 'max_samples': None, 'min_impurity_decrease': 0.0, 'min_samples_leaf': 1, 'min_samples_split': 2, 'min_weight_fraction_leaf': 0.0, 'n_estimators': 100, 'n_jobs': None, 'oob_score': False, 'random_state': 12345678, 'verbose': 0, 'warm_start': False}\n",
      "Accuracy = 75.00%.\n",
      "F1 Score = 0.73.\n",
      "Parameters currently in use:\n",
      "\n",
      "{'bootstrap': True, 'ccp_alpha': 0.0, 'class_weight': None, 'criterion': 'gini', 'max_depth': None, 'max_features': 'sqrt', 'max_leaf_nodes': None, 'max_samples': None, 'min_impurity_decrease': 0.0, 'min_samples_leaf': 1, 'min_samples_split': 2, 'min_weight_fraction_leaf': 0.0, 'n_estimators': 100, 'n_jobs': None, 'oob_score': False, 'random_state': 123456789, 'verbose': 0, 'warm_start': False}\n",
      "Accuracy = 76.33%.\n",
      "F1 Score = 0.74.\n",
      "Parameters currently in use:\n",
      "\n",
      "{'bootstrap': True, 'ccp_alpha': 0.0, 'class_weight': None, 'criterion': 'gini', 'max_depth': None, 'max_features': 'sqrt', 'max_leaf_nodes': None, 'max_samples': None, 'min_impurity_decrease': 0.0, 'min_samples_leaf': 1, 'min_samples_split': 2, 'min_weight_fraction_leaf': 0.0, 'n_estimators': 100, 'n_jobs': None, 'oob_score': False, 'random_state': 1234567890, 'verbose': 0, 'warm_start': False}\n",
      "Accuracy = 76.00%.\n",
      "F1 Score = 0.74.\n"
     ]
    }
   ],
   "source": [
    "for i in seedno:\n",
    "    RandomForestBaseModel(X_train, X_test, y_train, y_test, german.columns[0:len(german.columns)-1], i)"
   ]
  },
  {
   "cell_type": "code",
   "execution_count": 582,
   "metadata": {
    "scrolled": true
   },
   "outputs": [
    {
     "data": {
      "text/plain": [
       "[(76.33333333333333, 0.7394944297656021),\n",
       " (77.33333333333334, 0.7572148148148148),\n",
       " (76.0, 0.7383333333333333),\n",
       " (77.66666666666667, 0.7572529998736895),\n",
       " (78.0, 0.7601388888888888),\n",
       " (75.33333333333333, 0.7257556935817805),\n",
       " (77.66666666666667, 0.7572529998736895),\n",
       " (75.0, 0.7298959318826868),\n",
       " (76.33333333333333, 0.7394944297656021),\n",
       " (76.0, 0.7383333333333333)]"
      ]
     },
     "execution_count": 582,
     "metadata": {},
     "output_type": "execute_result"
    }
   ],
   "source": [
    "base_accuracy"
   ]
  },
  {
   "cell_type": "code",
   "execution_count": 583,
   "metadata": {
    "scrolled": true
   },
   "outputs": [
    {
     "name": "stdout",
     "output_type": "stream",
     "text": [
      "Average of the base accuracy for German dataset\n"
     ]
    },
    {
     "data": {
      "text/plain": [
       "76.56666666666668"
      ]
     },
     "execution_count": 583,
     "metadata": {},
     "output_type": "execute_result"
    }
   ],
   "source": [
    "print(\"Average of the base accuracy for German dataset\")\n",
    "summation = 0\n",
    "for i in range(0, len(base_accuracy)):\n",
    "    summation= summation + base_accuracy[i][0]\n",
    "summation/10"
   ]
  },
  {
   "cell_type": "code",
   "execution_count": 584,
   "metadata": {},
   "outputs": [
    {
     "name": "stdout",
     "output_type": "stream",
     "text": [
      "Average of the base f1 score for German dataset\n"
     ]
    },
    {
     "data": {
      "text/plain": [
       "0.7443166855113421"
      ]
     },
     "execution_count": 584,
     "metadata": {},
     "output_type": "execute_result"
    }
   ],
   "source": [
    "print(\"Average of the base f1 score for German dataset\")\n",
    "summation = 0\n",
    "for i in range(0, len(base_accuracy)):\n",
    "    summation= summation + base_accuracy[i][1]\n",
    "summation/10"
   ]
  },
  {
   "cell_type": "code",
   "execution_count": 585,
   "metadata": {
    "scrolled": false
   },
   "outputs": [
    {
     "name": "stdout",
     "output_type": "stream",
     "text": [
      "Fitting 3 folds for each of 81 candidates, totalling 243 fits\n",
      "Accuracy = 76.00%.\n",
      "F1 Score = 0.74.\n",
      "Fitting 3 folds for each of 81 candidates, totalling 243 fits\n",
      "Accuracy = 76.67%.\n",
      "F1 Score = 0.75.\n",
      "Fitting 3 folds for each of 81 candidates, totalling 243 fits\n",
      "Accuracy = 76.33%.\n",
      "F1 Score = 0.74.\n",
      "Fitting 3 folds for each of 81 candidates, totalling 243 fits\n",
      "Accuracy = 77.33%.\n",
      "F1 Score = 0.75.\n",
      "Fitting 3 folds for each of 81 candidates, totalling 243 fits\n",
      "Accuracy = 76.67%.\n",
      "F1 Score = 0.74.\n",
      "Fitting 3 folds for each of 81 candidates, totalling 243 fits\n",
      "Accuracy = 75.67%.\n",
      "F1 Score = 0.73.\n",
      "Fitting 3 folds for each of 81 candidates, totalling 243 fits\n",
      "Accuracy = 76.00%.\n",
      "F1 Score = 0.73.\n",
      "Fitting 3 folds for each of 81 candidates, totalling 243 fits\n",
      "Accuracy = 76.00%.\n",
      "F1 Score = 0.73.\n",
      "Fitting 3 folds for each of 81 candidates, totalling 243 fits\n",
      "Accuracy = 76.33%.\n",
      "F1 Score = 0.74.\n",
      "Fitting 3 folds for each of 81 candidates, totalling 243 fits\n",
      "Accuracy = 75.67%.\n",
      "F1 Score = 0.73.\n"
     ]
    }
   ],
   "source": [
    "for i in seedno:\n",
    "    RandomForestGridCV(X_train, X_test, y_train, y_test, param_grid, i)"
   ]
  },
  {
   "cell_type": "code",
   "execution_count": 586,
   "metadata": {
    "scrolled": false
   },
   "outputs": [
    {
     "data": {
      "text/plain": [
       "[{'max_depth': 30,\n",
       "  'min_samples_leaf': 1,\n",
       "  'min_samples_split': 2,\n",
       "  'n_estimators': 600},\n",
       " {'max_depth': 30,\n",
       "  'min_samples_leaf': 1,\n",
       "  'min_samples_split': 2,\n",
       "  'n_estimators': 600},\n",
       " {'max_depth': 20,\n",
       "  'min_samples_leaf': 2,\n",
       "  'min_samples_split': 5,\n",
       "  'n_estimators': 600},\n",
       " {'max_depth': 10,\n",
       "  'min_samples_leaf': 4,\n",
       "  'min_samples_split': 2,\n",
       "  'n_estimators': 700},\n",
       " {'max_depth': 20,\n",
       "  'min_samples_leaf': 4,\n",
       "  'min_samples_split': 2,\n",
       "  'n_estimators': 700},\n",
       " {'max_depth': 10,\n",
       "  'min_samples_leaf': 1,\n",
       "  'min_samples_split': 5,\n",
       "  'n_estimators': 600},\n",
       " {'max_depth': 10,\n",
       "  'min_samples_leaf': 1,\n",
       "  'min_samples_split': 5,\n",
       "  'n_estimators': 700},\n",
       " {'max_depth': 10,\n",
       "  'min_samples_leaf': 1,\n",
       "  'min_samples_split': 2,\n",
       "  'n_estimators': 700},\n",
       " {'max_depth': 10,\n",
       "  'min_samples_leaf': 2,\n",
       "  'min_samples_split': 5,\n",
       "  'n_estimators': 500},\n",
       " {'max_depth': 20,\n",
       "  'min_samples_leaf': 2,\n",
       "  'min_samples_split': 5,\n",
       "  'n_estimators': 500}]"
      ]
     },
     "execution_count": 586,
     "metadata": {},
     "output_type": "execute_result"
    }
   ],
   "source": [
    "grid_cv_best_param"
   ]
  },
  {
   "cell_type": "code",
   "execution_count": 587,
   "metadata": {
    "scrolled": true
   },
   "outputs": [
    {
     "data": {
      "text/plain": [
       "[(76.0, 0.7399263774063122),\n",
       " (76.66666666666667, 0.7471506447005812),\n",
       " (76.33333333333333, 0.7377642181265833),\n",
       " (77.33333333333334, 0.746235632183908),\n",
       " (76.66666666666667, 0.7423188405797101),\n",
       " (75.66666666666666, 0.7321562446885768),\n",
       " (76.0, 0.7349565217391304),\n",
       " (76.0, 0.7349565217391304),\n",
       " (76.33333333333333, 0.7377642181265833),\n",
       " (75.66666666666666, 0.7303772946935294)]"
      ]
     },
     "execution_count": 587,
     "metadata": {},
     "output_type": "execute_result"
    }
   ],
   "source": [
    "grid_cv_accuracy"
   ]
  },
  {
   "cell_type": "code",
   "execution_count": 588,
   "metadata": {},
   "outputs": [
    {
     "name": "stdout",
     "output_type": "stream",
     "text": [
      "Average of the grid cv accuracy for German dataset\n"
     ]
    },
    {
     "data": {
      "text/plain": [
       "76.26666666666668"
      ]
     },
     "execution_count": 588,
     "metadata": {},
     "output_type": "execute_result"
    }
   ],
   "source": [
    "print(\"Average of the grid cv accuracy for German dataset\")\n",
    "summation = 0\n",
    "for i in range(0, len(grid_cv_accuracy)):\n",
    "    summation= summation + grid_cv_accuracy[i][0]\n",
    "summation/10"
   ]
  },
  {
   "cell_type": "code",
   "execution_count": 589,
   "metadata": {},
   "outputs": [
    {
     "name": "stdout",
     "output_type": "stream",
     "text": [
      "Average of the grid cv f1 score for German dataset\n"
     ]
    },
    {
     "data": {
      "text/plain": [
       "0.7383606513984045"
      ]
     },
     "execution_count": 589,
     "metadata": {},
     "output_type": "execute_result"
    }
   ],
   "source": [
    "print(\"Average of the grid cv f1 score for German dataset\")\n",
    "summation = 0\n",
    "for i in range(0, len(grid_cv_accuracy)):\n",
    "    summation= summation + grid_cv_accuracy[i][1]\n",
    "summation/10"
   ]
  },
  {
   "cell_type": "markdown",
   "metadata": {},
   "source": [
    "## Elimination of less important features"
   ]
  },
  {
   "cell_type": "code",
   "execution_count": 590,
   "metadata": {},
   "outputs": [
    {
     "data": {
      "text/plain": [
       "[Credit amount                                               0.132941\n",
       " Age in years                                                0.108673\n",
       " Status of existing checking account                         0.099959\n",
       " Duration in month                                           0.094919\n",
       " Purpose                                                     0.067655\n",
       " Credit history                                              0.065638\n",
       " Present employment since                                    0.055214\n",
       " Property                                                    0.046660\n",
       " Savings account/bonds                                       0.045901\n",
       " Present residence since                                     0.044557\n",
       " Installment rate in percentage of disposable income         0.043565\n",
       " Personal status and sex                                     0.034707\n",
       " Job                                                         0.031053\n",
       " Housing                                                     0.028676\n",
       " Number of existing credits at this bank                     0.024384\n",
       " Other installment plans                                     0.023863\n",
       " Telephone                                                   0.018758\n",
       " Other debtors / guarantors                                  0.015684\n",
       " Number of people being liable to provide maintenance for    0.013598\n",
       " foreign worker                                              0.003594\n",
       " dtype: float64,\n",
       " Credit amount                                               0.126441\n",
       " Status of existing checking account                         0.110662\n",
       " Age in years                                                0.105928\n",
       " Duration in month                                           0.097230\n",
       " Purpose                                                     0.071239\n",
       " Credit history                                              0.064728\n",
       " Present employment since                                    0.053257\n",
       " Savings account/bonds                                       0.046208\n",
       " Property                                                    0.043675\n",
       " Present residence since                                     0.041026\n",
       " Installment rate in percentage of disposable income         0.040044\n",
       " Personal status and sex                                     0.034337\n",
       " Job                                                         0.031961\n",
       " Housing                                                     0.029155\n",
       " Other installment plans                                     0.025384\n",
       " Number of existing credits at this bank                     0.023769\n",
       " Telephone                                                   0.019976\n",
       " Other debtors / guarantors                                  0.017621\n",
       " Number of people being liable to provide maintenance for    0.013497\n",
       " foreign worker                                              0.003860\n",
       " dtype: float64,\n",
       " Credit amount                                               0.130631\n",
       " Age in years                                                0.108183\n",
       " Status of existing checking account                         0.102022\n",
       " Duration in month                                           0.095348\n",
       " Purpose                                                     0.071582\n",
       " Credit history                                              0.063380\n",
       " Present employment since                                    0.055413\n",
       " Savings account/bonds                                       0.044644\n",
       " Property                                                    0.043947\n",
       " Installment rate in percentage of disposable income         0.041827\n",
       " Present residence since                                     0.040650\n",
       " Personal status and sex                                     0.034813\n",
       " Job                                                         0.033210\n",
       " Housing                                                     0.028282\n",
       " Other installment plans                                     0.024511\n",
       " Number of existing credits at this bank                     0.023388\n",
       " Telephone                                                   0.021297\n",
       " Other debtors / guarantors                                  0.018937\n",
       " Number of people being liable to provide maintenance for    0.014051\n",
       " foreign worker                                              0.003884\n",
       " dtype: float64,\n",
       " Credit amount                                               0.133081\n",
       " Age in years                                                0.109114\n",
       " Status of existing checking account                         0.102978\n",
       " Duration in month                                           0.094099\n",
       " Purpose                                                     0.069308\n",
       " Credit history                                              0.069219\n",
       " Present employment since                                    0.053261\n",
       " Property                                                    0.047580\n",
       " Savings account/bonds                                       0.046359\n",
       " Present residence since                                     0.040840\n",
       " Installment rate in percentage of disposable income         0.038565\n",
       " Personal status and sex                                     0.033678\n",
       " Job                                                         0.032604\n",
       " Housing                                                     0.027799\n",
       " Number of existing credits at this bank                     0.023565\n",
       " Other installment plans                                     0.023025\n",
       " Telephone                                                   0.020521\n",
       " Other debtors / guarantors                                  0.018641\n",
       " Number of people being liable to provide maintenance for    0.011872\n",
       " foreign worker                                              0.003890\n",
       " dtype: float64,\n",
       " Credit amount                                               0.129789\n",
       " Age in years                                                0.105180\n",
       " Status of existing checking account                         0.102463\n",
       " Duration in month                                           0.095286\n",
       " Purpose                                                     0.073390\n",
       " Credit history                                              0.069090\n",
       " Present employment since                                    0.053328\n",
       " Property                                                    0.047578\n",
       " Present residence since                                     0.045265\n",
       " Savings account/bonds                                       0.044817\n",
       " Installment rate in percentage of disposable income         0.039790\n",
       " Personal status and sex                                     0.035026\n",
       " Job                                                         0.032094\n",
       " Housing                                                     0.028554\n",
       " Other installment plans                                     0.026133\n",
       " Number of existing credits at this bank                     0.020821\n",
       " Telephone                                                   0.019886\n",
       " Other debtors / guarantors                                  0.016434\n",
       " Number of people being liable to provide maintenance for    0.011061\n",
       " foreign worker                                              0.004015\n",
       " dtype: float64,\n",
       " Credit amount                                               0.134319\n",
       " Status of existing checking account                         0.103576\n",
       " Age in years                                                0.101457\n",
       " Duration in month                                           0.094697\n",
       " Purpose                                                     0.070772\n",
       " Credit history                                              0.066511\n",
       " Present employment since                                    0.055885\n",
       " Property                                                    0.046483\n",
       " Savings account/bonds                                       0.045534\n",
       " Installment rate in percentage of disposable income         0.039544\n",
       " Present residence since                                     0.039484\n",
       " Personal status and sex                                     0.037755\n",
       " Job                                                         0.033304\n",
       " Housing                                                     0.027134\n",
       " Other installment plans                                     0.024956\n",
       " Number of existing credits at this bank                     0.024077\n",
       " Telephone                                                   0.021457\n",
       " Other debtors / guarantors                                  0.017216\n",
       " Number of people being liable to provide maintenance for    0.012123\n",
       " foreign worker                                              0.003717\n",
       " dtype: float64,\n",
       " Credit amount                                               0.131491\n",
       " Age in years                                                0.107903\n",
       " Status of existing checking account                         0.100490\n",
       " Duration in month                                           0.095151\n",
       " Credit history                                              0.071127\n",
       " Purpose                                                     0.070931\n",
       " Present employment since                                    0.055632\n",
       " Property                                                    0.047978\n",
       " Savings account/bonds                                       0.044054\n",
       " Installment rate in percentage of disposable income         0.041317\n",
       " Present residence since                                     0.039212\n",
       " Personal status and sex                                     0.034619\n",
       " Job                                                         0.029680\n",
       " Housing                                                     0.029466\n",
       " Other installment plans                                     0.024442\n",
       " Number of existing credits at this bank                     0.024305\n",
       " Telephone                                                   0.018588\n",
       " Other debtors / guarantors                                  0.017584\n",
       " Number of people being liable to provide maintenance for    0.011919\n",
       " foreign worker                                              0.004114\n",
       " dtype: float64,\n",
       " Credit amount                                               0.127704\n",
       " Age in years                                                0.110755\n",
       " Status of existing checking account                         0.104523\n",
       " Duration in month                                           0.093683\n",
       " Purpose                                                     0.068721\n",
       " Credit history                                              0.068675\n",
       " Present employment since                                    0.052041\n",
       " Property                                                    0.046954\n",
       " Savings account/bonds                                       0.045972\n",
       " Installment rate in percentage of disposable income         0.043113\n",
       " Present residence since                                     0.038166\n",
       " Personal status and sex                                     0.033606\n",
       " Job                                                         0.033357\n",
       " Housing                                                     0.030548\n",
       " Other installment plans                                     0.024313\n",
       " Number of existing credits at this bank                     0.021235\n",
       " Telephone                                                   0.020539\n",
       " Other debtors / guarantors                                  0.019165\n",
       " Number of people being liable to provide maintenance for    0.012720\n",
       " foreign worker                                              0.004211\n",
       " dtype: float64,\n",
       " Credit amount                                               0.129062\n",
       " Status of existing checking account                         0.107814\n",
       " Age in years                                                0.103395\n",
       " Duration in month                                           0.096744\n",
       " Purpose                                                     0.066887\n",
       " Credit history                                              0.066099\n",
       " Present employment since                                    0.057858\n",
       " Savings account/bonds                                       0.046436\n",
       " Property                                                    0.042029\n",
       " Installment rate in percentage of disposable income         0.041027\n",
       " Present residence since                                     0.039814\n",
       " Personal status and sex                                     0.032991\n",
       " Job                                                         0.030096\n",
       " Housing                                                     0.029775\n",
       " Other installment plans                                     0.025723\n",
       " Number of existing credits at this bank                     0.025336\n",
       " Telephone                                                   0.022281\n",
       " Other debtors / guarantors                                  0.020396\n",
       " Number of people being liable to provide maintenance for    0.011787\n",
       " foreign worker                                              0.004451\n",
       " dtype: float64,\n",
       " Credit amount                                               0.131977\n",
       " Age in years                                                0.106319\n",
       " Status of existing checking account                         0.100735\n",
       " Duration in month                                           0.094131\n",
       " Purpose                                                     0.070220\n",
       " Credit history                                              0.069356\n",
       " Present employment since                                    0.052781\n",
       " Savings account/bonds                                       0.047312\n",
       " Property                                                    0.047006\n",
       " Installment rate in percentage of disposable income         0.042237\n",
       " Present residence since                                     0.038024\n",
       " Personal status and sex                                     0.034560\n",
       " Job                                                         0.034211\n",
       " Housing                                                     0.027984\n",
       " Other installment plans                                     0.023590\n",
       " Number of existing credits at this bank                     0.023103\n",
       " Telephone                                                   0.020378\n",
       " Other debtors / guarantors                                  0.018489\n",
       " Number of people being liable to provide maintenance for    0.013199\n",
       " foreign worker                                              0.004388\n",
       " dtype: float64]"
      ]
     },
     "execution_count": 590,
     "metadata": {},
     "output_type": "execute_result"
    }
   ],
   "source": [
    "feature_importance"
   ]
  },
  {
   "cell_type": "markdown",
   "metadata": {},
   "source": [
    "From the figure above, we can see the less important features such as: foreign worker. We can try eliminating it and see it will affect the accuracy. Moving forward, we will use the best parameters from the GridCV."
   ]
  },
  {
   "cell_type": "code",
   "execution_count": 591,
   "metadata": {},
   "outputs": [],
   "source": [
    "ger_new = german[german.columns.difference(['foreign worker'])]"
   ]
  },
  {
   "cell_type": "code",
   "execution_count": 592,
   "metadata": {},
   "outputs": [
    {
     "name": "stdout",
     "output_type": "stream",
     "text": [
      "Accuracy = 75.67%.\n",
      "F1 Score = 0.72.\n",
      "Accuracy = 76.67%.\n",
      "F1 Score = 0.74.\n",
      "Accuracy = 76.33%.\n",
      "F1 Score = 0.73.\n",
      "Accuracy = 76.67%.\n",
      "F1 Score = 0.74.\n",
      "Accuracy = 76.67%.\n",
      "F1 Score = 0.74.\n",
      "Accuracy = 76.67%.\n",
      "F1 Score = 0.74.\n",
      "Accuracy = 76.00%.\n",
      "F1 Score = 0.73.\n",
      "Accuracy = 76.33%.\n",
      "F1 Score = 0.73.\n",
      "Accuracy = 76.33%.\n",
      "F1 Score = 0.74.\n",
      "Accuracy = 76.67%.\n",
      "F1 Score = 0.73.\n"
     ]
    }
   ],
   "source": [
    "for i in seedno:\n",
    "    clf_features = RandomForestClassifier(bootstrap= True, max_depth= 10, max_features= 'sqrt', min_samples_leaf= 4, min_samples_split= 2, n_estimators= 700, random_state = i)\n",
    "    EliminationFeatures(ger_new.iloc[:, 0:(len(ger_new.columns)-1)], ger_new.iloc[:, -1], clf_features)\n",
    "\n"
   ]
  },
  {
   "cell_type": "code",
   "execution_count": 593,
   "metadata": {
    "scrolled": true
   },
   "outputs": [
    {
     "data": {
      "text/plain": [
       "[(75.66666666666666, 0.7246079867763627),\n",
       " (76.66666666666667, 0.7387719743069642),\n",
       " (76.33333333333333, 0.7321529734400241),\n",
       " (76.66666666666667, 0.7368927892725217),\n",
       " (76.66666666666667, 0.7387719743069642),\n",
       " (76.66666666666667, 0.7368927892725217),\n",
       " (76.0, 0.7293754403945936),\n",
       " (76.33333333333333, 0.7340963759458383),\n",
       " (76.33333333333333, 0.7359658001082541),\n",
       " (76.66666666666667, 0.734939134939135)]"
      ]
     },
     "execution_count": 593,
     "metadata": {},
     "output_type": "execute_result"
    }
   ],
   "source": [
    "elimination_features_accuracy"
   ]
  },
  {
   "cell_type": "code",
   "execution_count": 594,
   "metadata": {},
   "outputs": [
    {
     "name": "stdout",
     "output_type": "stream",
     "text": [
      "Average of the eliminated features accuracy for German dataset\n"
     ]
    },
    {
     "data": {
      "text/plain": [
       "76.4"
      ]
     },
     "execution_count": 594,
     "metadata": {},
     "output_type": "execute_result"
    }
   ],
   "source": [
    "print(\"Average of the eliminated features accuracy for German dataset\")\n",
    "summation = 0\n",
    "for i in range(0, len(elimination_features_accuracy)):\n",
    "    summation= summation + elimination_features_accuracy[i][0]\n",
    "summation/10\n",
    "\n"
   ]
  },
  {
   "cell_type": "code",
   "execution_count": 595,
   "metadata": {},
   "outputs": [
    {
     "name": "stdout",
     "output_type": "stream",
     "text": [
      "Average of the eliminated features f1 score for German dataset\n"
     ]
    },
    {
     "data": {
      "text/plain": [
       "0.734246723876318"
      ]
     },
     "execution_count": 595,
     "metadata": {},
     "output_type": "execute_result"
    }
   ],
   "source": [
    "print(\"Average of the eliminated features f1 score for German dataset\")\n",
    "summation = 0\n",
    "for i in range(0, len(elimination_features_accuracy)):\n",
    "    summation= summation + elimination_features_accuracy[i][1]\n",
    "summation/10\n"
   ]
  },
  {
   "cell_type": "markdown",
   "metadata": {},
   "source": [
    "We can see that the average accuracy of the ones with eliminated feature performs worse than the GridCV one."
   ]
  },
  {
   "cell_type": "markdown",
   "metadata": {},
   "source": [
    "# Iris"
   ]
  },
  {
   "cell_type": "code",
   "execution_count": 596,
   "metadata": {},
   "outputs": [],
   "source": [
    "base_accuracy = []\n",
    "grid_cv_accuracy = []\n",
    "feature_importance = []\n",
    "grid_cv_best_param = []\n",
    "elimination_features_accuracy = []"
   ]
  },
  {
   "cell_type": "code",
   "execution_count": 597,
   "metadata": {},
   "outputs": [
    {
     "data": {
      "text/html": [
       "<div>\n",
       "<style scoped>\n",
       "    .dataframe tbody tr th:only-of-type {\n",
       "        vertical-align: middle;\n",
       "    }\n",
       "\n",
       "    .dataframe tbody tr th {\n",
       "        vertical-align: top;\n",
       "    }\n",
       "\n",
       "    .dataframe thead th {\n",
       "        text-align: right;\n",
       "    }\n",
       "</style>\n",
       "<table border=\"1\" class=\"dataframe\">\n",
       "  <thead>\n",
       "    <tr style=\"text-align: right;\">\n",
       "      <th></th>\n",
       "      <th>sepal length</th>\n",
       "      <th>sepal width</th>\n",
       "      <th>petal length</th>\n",
       "      <th>petal width</th>\n",
       "      <th>class</th>\n",
       "    </tr>\n",
       "  </thead>\n",
       "  <tbody>\n",
       "    <tr>\n",
       "      <th>0</th>\n",
       "      <td>5.1</td>\n",
       "      <td>3.5</td>\n",
       "      <td>1.4</td>\n",
       "      <td>0.2</td>\n",
       "      <td>0</td>\n",
       "    </tr>\n",
       "    <tr>\n",
       "      <th>1</th>\n",
       "      <td>4.9</td>\n",
       "      <td>3.0</td>\n",
       "      <td>1.4</td>\n",
       "      <td>0.2</td>\n",
       "      <td>0</td>\n",
       "    </tr>\n",
       "    <tr>\n",
       "      <th>2</th>\n",
       "      <td>4.7</td>\n",
       "      <td>3.2</td>\n",
       "      <td>1.3</td>\n",
       "      <td>0.2</td>\n",
       "      <td>0</td>\n",
       "    </tr>\n",
       "    <tr>\n",
       "      <th>3</th>\n",
       "      <td>4.6</td>\n",
       "      <td>3.1</td>\n",
       "      <td>1.5</td>\n",
       "      <td>0.2</td>\n",
       "      <td>0</td>\n",
       "    </tr>\n",
       "    <tr>\n",
       "      <th>4</th>\n",
       "      <td>5.0</td>\n",
       "      <td>3.6</td>\n",
       "      <td>1.4</td>\n",
       "      <td>0.2</td>\n",
       "      <td>0</td>\n",
       "    </tr>\n",
       "    <tr>\n",
       "      <th>...</th>\n",
       "      <td>...</td>\n",
       "      <td>...</td>\n",
       "      <td>...</td>\n",
       "      <td>...</td>\n",
       "      <td>...</td>\n",
       "    </tr>\n",
       "    <tr>\n",
       "      <th>145</th>\n",
       "      <td>6.7</td>\n",
       "      <td>3.0</td>\n",
       "      <td>5.2</td>\n",
       "      <td>2.3</td>\n",
       "      <td>2</td>\n",
       "    </tr>\n",
       "    <tr>\n",
       "      <th>146</th>\n",
       "      <td>6.3</td>\n",
       "      <td>2.5</td>\n",
       "      <td>5.0</td>\n",
       "      <td>1.9</td>\n",
       "      <td>2</td>\n",
       "    </tr>\n",
       "    <tr>\n",
       "      <th>147</th>\n",
       "      <td>6.5</td>\n",
       "      <td>3.0</td>\n",
       "      <td>5.2</td>\n",
       "      <td>2.0</td>\n",
       "      <td>2</td>\n",
       "    </tr>\n",
       "    <tr>\n",
       "      <th>148</th>\n",
       "      <td>6.2</td>\n",
       "      <td>3.4</td>\n",
       "      <td>5.4</td>\n",
       "      <td>2.3</td>\n",
       "      <td>2</td>\n",
       "    </tr>\n",
       "    <tr>\n",
       "      <th>149</th>\n",
       "      <td>5.9</td>\n",
       "      <td>3.0</td>\n",
       "      <td>5.1</td>\n",
       "      <td>1.8</td>\n",
       "      <td>2</td>\n",
       "    </tr>\n",
       "  </tbody>\n",
       "</table>\n",
       "<p>150 rows × 5 columns</p>\n",
       "</div>"
      ],
      "text/plain": [
       "     sepal length  sepal width  petal length  petal width  class\n",
       "0             5.1          3.5           1.4          0.2      0\n",
       "1             4.9          3.0           1.4          0.2      0\n",
       "2             4.7          3.2           1.3          0.2      0\n",
       "3             4.6          3.1           1.5          0.2      0\n",
       "4             5.0          3.6           1.4          0.2      0\n",
       "..            ...          ...           ...          ...    ...\n",
       "145           6.7          3.0           5.2          2.3      2\n",
       "146           6.3          2.5           5.0          1.9      2\n",
       "147           6.5          3.0           5.2          2.0      2\n",
       "148           6.2          3.4           5.4          2.3      2\n",
       "149           5.9          3.0           5.1          1.8      2\n",
       "\n",
       "[150 rows x 5 columns]"
      ]
     },
     "execution_count": 597,
     "metadata": {},
     "output_type": "execute_result"
    }
   ],
   "source": [
    "iris"
   ]
  },
  {
   "cell_type": "code",
   "execution_count": 598,
   "metadata": {},
   "outputs": [],
   "source": [
    "columns = []\n",
    "for i in range(0, len(iris.columns)):\n",
    "    if iris[iris.columns[i]].dtypes == 'O':\n",
    "        columns.append(iris.columns[i])"
   ]
  },
  {
   "cell_type": "code",
   "execution_count": 599,
   "metadata": {
    "scrolled": true
   },
   "outputs": [],
   "source": [
    "labelEncoded(columns, iris)"
   ]
  },
  {
   "cell_type": "code",
   "execution_count": 600,
   "metadata": {},
   "outputs": [],
   "source": [
    "X_train, X_test, y_train, y_test = train_test_split(iris.iloc[:, 0:(len(iris.columns)-1)], iris.iloc[:, -1], test_size=0.3, random_state = 42)"
   ]
  },
  {
   "cell_type": "code",
   "execution_count": 601,
   "metadata": {
    "scrolled": true
   },
   "outputs": [
    {
     "name": "stdout",
     "output_type": "stream",
     "text": [
      "Parameters currently in use:\n",
      "\n",
      "{'bootstrap': True, 'ccp_alpha': 0.0, 'class_weight': None, 'criterion': 'gini', 'max_depth': None, 'max_features': 'sqrt', 'max_leaf_nodes': None, 'max_samples': None, 'min_impurity_decrease': 0.0, 'min_samples_leaf': 1, 'min_samples_split': 2, 'min_weight_fraction_leaf': 0.0, 'n_estimators': 100, 'n_jobs': None, 'oob_score': False, 'random_state': 1, 'verbose': 0, 'warm_start': False}\n",
      "Accuracy = 100.00%.\n",
      "F1 Score = 1.00.\n",
      "Parameters currently in use:\n",
      "\n",
      "{'bootstrap': True, 'ccp_alpha': 0.0, 'class_weight': None, 'criterion': 'gini', 'max_depth': None, 'max_features': 'sqrt', 'max_leaf_nodes': None, 'max_samples': None, 'min_impurity_decrease': 0.0, 'min_samples_leaf': 1, 'min_samples_split': 2, 'min_weight_fraction_leaf': 0.0, 'n_estimators': 100, 'n_jobs': None, 'oob_score': False, 'random_state': 12, 'verbose': 0, 'warm_start': False}\n",
      "Accuracy = 100.00%.\n",
      "F1 Score = 1.00.\n",
      "Parameters currently in use:\n",
      "\n",
      "{'bootstrap': True, 'ccp_alpha': 0.0, 'class_weight': None, 'criterion': 'gini', 'max_depth': None, 'max_features': 'sqrt', 'max_leaf_nodes': None, 'max_samples': None, 'min_impurity_decrease': 0.0, 'min_samples_leaf': 1, 'min_samples_split': 2, 'min_weight_fraction_leaf': 0.0, 'n_estimators': 100, 'n_jobs': None, 'oob_score': False, 'random_state': 123, 'verbose': 0, 'warm_start': False}\n",
      "Accuracy = 100.00%.\n",
      "F1 Score = 1.00.\n",
      "Parameters currently in use:\n",
      "\n",
      "{'bootstrap': True, 'ccp_alpha': 0.0, 'class_weight': None, 'criterion': 'gini', 'max_depth': None, 'max_features': 'sqrt', 'max_leaf_nodes': None, 'max_samples': None, 'min_impurity_decrease': 0.0, 'min_samples_leaf': 1, 'min_samples_split': 2, 'min_weight_fraction_leaf': 0.0, 'n_estimators': 100, 'n_jobs': None, 'oob_score': False, 'random_state': 1234, 'verbose': 0, 'warm_start': False}\n",
      "Accuracy = 100.00%.\n",
      "F1 Score = 1.00.\n",
      "Parameters currently in use:\n",
      "\n",
      "{'bootstrap': True, 'ccp_alpha': 0.0, 'class_weight': None, 'criterion': 'gini', 'max_depth': None, 'max_features': 'sqrt', 'max_leaf_nodes': None, 'max_samples': None, 'min_impurity_decrease': 0.0, 'min_samples_leaf': 1, 'min_samples_split': 2, 'min_weight_fraction_leaf': 0.0, 'n_estimators': 100, 'n_jobs': None, 'oob_score': False, 'random_state': 12345, 'verbose': 0, 'warm_start': False}\n",
      "Accuracy = 100.00%.\n",
      "F1 Score = 1.00.\n",
      "Parameters currently in use:\n",
      "\n",
      "{'bootstrap': True, 'ccp_alpha': 0.0, 'class_weight': None, 'criterion': 'gini', 'max_depth': None, 'max_features': 'sqrt', 'max_leaf_nodes': None, 'max_samples': None, 'min_impurity_decrease': 0.0, 'min_samples_leaf': 1, 'min_samples_split': 2, 'min_weight_fraction_leaf': 0.0, 'n_estimators': 100, 'n_jobs': None, 'oob_score': False, 'random_state': 123456, 'verbose': 0, 'warm_start': False}\n",
      "Accuracy = 100.00%.\n",
      "F1 Score = 1.00.\n",
      "Parameters currently in use:\n",
      "\n",
      "{'bootstrap': True, 'ccp_alpha': 0.0, 'class_weight': None, 'criterion': 'gini', 'max_depth': None, 'max_features': 'sqrt', 'max_leaf_nodes': None, 'max_samples': None, 'min_impurity_decrease': 0.0, 'min_samples_leaf': 1, 'min_samples_split': 2, 'min_weight_fraction_leaf': 0.0, 'n_estimators': 100, 'n_jobs': None, 'oob_score': False, 'random_state': 1234567, 'verbose': 0, 'warm_start': False}\n",
      "Accuracy = 100.00%.\n",
      "F1 Score = 1.00.\n",
      "Parameters currently in use:\n",
      "\n",
      "{'bootstrap': True, 'ccp_alpha': 0.0, 'class_weight': None, 'criterion': 'gini', 'max_depth': None, 'max_features': 'sqrt', 'max_leaf_nodes': None, 'max_samples': None, 'min_impurity_decrease': 0.0, 'min_samples_leaf': 1, 'min_samples_split': 2, 'min_weight_fraction_leaf': 0.0, 'n_estimators': 100, 'n_jobs': None, 'oob_score': False, 'random_state': 12345678, 'verbose': 0, 'warm_start': False}\n",
      "Accuracy = 100.00%.\n",
      "F1 Score = 1.00.\n",
      "Parameters currently in use:\n",
      "\n",
      "{'bootstrap': True, 'ccp_alpha': 0.0, 'class_weight': None, 'criterion': 'gini', 'max_depth': None, 'max_features': 'sqrt', 'max_leaf_nodes': None, 'max_samples': None, 'min_impurity_decrease': 0.0, 'min_samples_leaf': 1, 'min_samples_split': 2, 'min_weight_fraction_leaf': 0.0, 'n_estimators': 100, 'n_jobs': None, 'oob_score': False, 'random_state': 123456789, 'verbose': 0, 'warm_start': False}\n",
      "Accuracy = 100.00%.\n",
      "F1 Score = 1.00.\n",
      "Parameters currently in use:\n",
      "\n",
      "{'bootstrap': True, 'ccp_alpha': 0.0, 'class_weight': None, 'criterion': 'gini', 'max_depth': None, 'max_features': 'sqrt', 'max_leaf_nodes': None, 'max_samples': None, 'min_impurity_decrease': 0.0, 'min_samples_leaf': 1, 'min_samples_split': 2, 'min_weight_fraction_leaf': 0.0, 'n_estimators': 100, 'n_jobs': None, 'oob_score': False, 'random_state': 1234567890, 'verbose': 0, 'warm_start': False}\n",
      "Accuracy = 100.00%.\n",
      "F1 Score = 1.00.\n"
     ]
    }
   ],
   "source": [
    "for i in seedno:\n",
    "    RandomForestBaseModel(X_train, X_test, y_train, y_test, iris.columns[0:len(iris.columns)-1], i)"
   ]
  },
  {
   "cell_type": "code",
   "execution_count": 602,
   "metadata": {
    "scrolled": true
   },
   "outputs": [
    {
     "data": {
      "text/plain": [
       "[(100.0, 1.0),\n",
       " (100.0, 1.0),\n",
       " (100.0, 1.0),\n",
       " (100.0, 1.0),\n",
       " (100.0, 1.0),\n",
       " (100.0, 1.0),\n",
       " (100.0, 1.0),\n",
       " (100.0, 1.0),\n",
       " (100.0, 1.0),\n",
       " (100.0, 1.0)]"
      ]
     },
     "execution_count": 602,
     "metadata": {},
     "output_type": "execute_result"
    }
   ],
   "source": [
    "base_accuracy"
   ]
  },
  {
   "cell_type": "code",
   "execution_count": 603,
   "metadata": {
    "scrolled": true
   },
   "outputs": [
    {
     "name": "stdout",
     "output_type": "stream",
     "text": [
      "Average of the base accuracy for iris dataset\n"
     ]
    },
    {
     "data": {
      "text/plain": [
       "100.0"
      ]
     },
     "execution_count": 603,
     "metadata": {},
     "output_type": "execute_result"
    }
   ],
   "source": [
    "print(\"Average of the base accuracy for iris dataset\")\n",
    "summation = 0\n",
    "for i in range(0, len(base_accuracy)):\n",
    "    summation= summation + base_accuracy[i][0]\n",
    "summation/10"
   ]
  },
  {
   "cell_type": "code",
   "execution_count": 604,
   "metadata": {},
   "outputs": [
    {
     "name": "stdout",
     "output_type": "stream",
     "text": [
      "Average of the f1 score for iris dataset\n"
     ]
    },
    {
     "data": {
      "text/plain": [
       "1.0"
      ]
     },
     "execution_count": 604,
     "metadata": {},
     "output_type": "execute_result"
    }
   ],
   "source": [
    "print(\"Average of the f1 score for iris dataset\")\n",
    "summation = 0\n",
    "for i in range(0, len(base_accuracy)):\n",
    "    summation= summation + base_accuracy[i][1]\n",
    "summation/10"
   ]
  },
  {
   "cell_type": "markdown",
   "metadata": {},
   "source": [
    "No need to do GridCV or Elimination of features since its 100%."
   ]
  },
  {
   "cell_type": "markdown",
   "metadata": {},
   "source": [
    "# Tic-Tac-Toe"
   ]
  },
  {
   "cell_type": "code",
   "execution_count": 665,
   "metadata": {},
   "outputs": [],
   "source": [
    "base_accuracy = []\n",
    "grid_cv_accuracy = []\n",
    "feature_importance = []\n",
    "grid_cv_best_param = []\n",
    "elimination_features_accuracy = []"
   ]
  },
  {
   "cell_type": "code",
   "execution_count": 666,
   "metadata": {},
   "outputs": [],
   "source": [
    "columns = []\n",
    "for i in range(0, len(tictactoe.columns)):\n",
    "    if tictactoe[tictactoe.columns[i]].dtypes == 'O':\n",
    "        columns.append(tictactoe.columns[i])"
   ]
  },
  {
   "cell_type": "code",
   "execution_count": 667,
   "metadata": {},
   "outputs": [
    {
     "data": {
      "text/plain": [
       "['top-left-square',\n",
       " 'top-middle-square',\n",
       " 'top-right-square',\n",
       " 'middle-left-square',\n",
       " 'middle-middle-square',\n",
       " 'middle-right-square',\n",
       " 'bottom-left-square',\n",
       " 'bottom-middle-square',\n",
       " 'bottom-right-square',\n",
       " 'class']"
      ]
     },
     "execution_count": 667,
     "metadata": {},
     "output_type": "execute_result"
    }
   ],
   "source": [
    "columns"
   ]
  },
  {
   "cell_type": "code",
   "execution_count": 668,
   "metadata": {
    "scrolled": true
   },
   "outputs": [
    {
     "name": "stdout",
     "output_type": "stream",
     "text": [
      "['b' 'o' 'x']\n",
      "['b' 'o' 'x']\n",
      "['b' 'o' 'x']\n",
      "['b' 'o' 'x']\n",
      "['b' 'o' 'x']\n",
      "['b' 'o' 'x']\n",
      "['b' 'o' 'x']\n",
      "['b' 'o' 'x']\n",
      "['b' 'o' 'x']\n",
      "['negative' 'positive']\n"
     ]
    }
   ],
   "source": [
    "labelEncoded(columns, tictactoe)"
   ]
  },
  {
   "cell_type": "code",
   "execution_count": 669,
   "metadata": {},
   "outputs": [
    {
     "name": "stdout",
     "output_type": "stream",
     "text": [
      "Parameters currently in use:\n",
      "\n",
      "{'bootstrap': True, 'ccp_alpha': 0.0, 'class_weight': None, 'criterion': 'gini', 'max_depth': None, 'max_features': 'sqrt', 'max_leaf_nodes': None, 'max_samples': None, 'min_impurity_decrease': 0.0, 'min_samples_leaf': 1, 'min_samples_split': 2, 'min_weight_fraction_leaf': 0.0, 'n_estimators': 100, 'n_jobs': None, 'oob_score': False, 'random_state': 1, 'verbose': 0, 'warm_start': False}\n",
      "Accuracy = 93.06%.\n",
      "F1 Score = 0.93.\n",
      "Parameters currently in use:\n",
      "\n",
      "{'bootstrap': True, 'ccp_alpha': 0.0, 'class_weight': None, 'criterion': 'gini', 'max_depth': None, 'max_features': 'sqrt', 'max_leaf_nodes': None, 'max_samples': None, 'min_impurity_decrease': 0.0, 'min_samples_leaf': 1, 'min_samples_split': 2, 'min_weight_fraction_leaf': 0.0, 'n_estimators': 100, 'n_jobs': None, 'oob_score': False, 'random_state': 12, 'verbose': 0, 'warm_start': False}\n",
      "Accuracy = 94.79%.\n",
      "F1 Score = 0.95.\n",
      "Parameters currently in use:\n",
      "\n",
      "{'bootstrap': True, 'ccp_alpha': 0.0, 'class_weight': None, 'criterion': 'gini', 'max_depth': None, 'max_features': 'sqrt', 'max_leaf_nodes': None, 'max_samples': None, 'min_impurity_decrease': 0.0, 'min_samples_leaf': 1, 'min_samples_split': 2, 'min_weight_fraction_leaf': 0.0, 'n_estimators': 100, 'n_jobs': None, 'oob_score': False, 'random_state': 123, 'verbose': 0, 'warm_start': False}\n",
      "Accuracy = 93.06%.\n",
      "F1 Score = 0.93.\n",
      "Parameters currently in use:\n",
      "\n",
      "{'bootstrap': True, 'ccp_alpha': 0.0, 'class_weight': None, 'criterion': 'gini', 'max_depth': None, 'max_features': 'sqrt', 'max_leaf_nodes': None, 'max_samples': None, 'min_impurity_decrease': 0.0, 'min_samples_leaf': 1, 'min_samples_split': 2, 'min_weight_fraction_leaf': 0.0, 'n_estimators': 100, 'n_jobs': None, 'oob_score': False, 'random_state': 1234, 'verbose': 0, 'warm_start': False}\n",
      "Accuracy = 93.75%.\n",
      "F1 Score = 0.94.\n",
      "Parameters currently in use:\n",
      "\n",
      "{'bootstrap': True, 'ccp_alpha': 0.0, 'class_weight': None, 'criterion': 'gini', 'max_depth': None, 'max_features': 'sqrt', 'max_leaf_nodes': None, 'max_samples': None, 'min_impurity_decrease': 0.0, 'min_samples_leaf': 1, 'min_samples_split': 2, 'min_weight_fraction_leaf': 0.0, 'n_estimators': 100, 'n_jobs': None, 'oob_score': False, 'random_state': 12345, 'verbose': 0, 'warm_start': False}\n",
      "Accuracy = 93.40%.\n",
      "F1 Score = 0.93.\n",
      "Parameters currently in use:\n",
      "\n",
      "{'bootstrap': True, 'ccp_alpha': 0.0, 'class_weight': None, 'criterion': 'gini', 'max_depth': None, 'max_features': 'sqrt', 'max_leaf_nodes': None, 'max_samples': None, 'min_impurity_decrease': 0.0, 'min_samples_leaf': 1, 'min_samples_split': 2, 'min_weight_fraction_leaf': 0.0, 'n_estimators': 100, 'n_jobs': None, 'oob_score': False, 'random_state': 123456, 'verbose': 0, 'warm_start': False}\n",
      "Accuracy = 93.40%.\n",
      "F1 Score = 0.93.\n",
      "Parameters currently in use:\n",
      "\n",
      "{'bootstrap': True, 'ccp_alpha': 0.0, 'class_weight': None, 'criterion': 'gini', 'max_depth': None, 'max_features': 'sqrt', 'max_leaf_nodes': None, 'max_samples': None, 'min_impurity_decrease': 0.0, 'min_samples_leaf': 1, 'min_samples_split': 2, 'min_weight_fraction_leaf': 0.0, 'n_estimators': 100, 'n_jobs': None, 'oob_score': False, 'random_state': 1234567, 'verbose': 0, 'warm_start': False}\n",
      "Accuracy = 92.71%.\n",
      "F1 Score = 0.92.\n",
      "Parameters currently in use:\n",
      "\n",
      "{'bootstrap': True, 'ccp_alpha': 0.0, 'class_weight': None, 'criterion': 'gini', 'max_depth': None, 'max_features': 'sqrt', 'max_leaf_nodes': None, 'max_samples': None, 'min_impurity_decrease': 0.0, 'min_samples_leaf': 1, 'min_samples_split': 2, 'min_weight_fraction_leaf': 0.0, 'n_estimators': 100, 'n_jobs': None, 'oob_score': False, 'random_state': 12345678, 'verbose': 0, 'warm_start': False}\n",
      "Accuracy = 94.79%.\n",
      "F1 Score = 0.95.\n",
      "Parameters currently in use:\n",
      "\n",
      "{'bootstrap': True, 'ccp_alpha': 0.0, 'class_weight': None, 'criterion': 'gini', 'max_depth': None, 'max_features': 'sqrt', 'max_leaf_nodes': None, 'max_samples': None, 'min_impurity_decrease': 0.0, 'min_samples_leaf': 1, 'min_samples_split': 2, 'min_weight_fraction_leaf': 0.0, 'n_estimators': 100, 'n_jobs': None, 'oob_score': False, 'random_state': 123456789, 'verbose': 0, 'warm_start': False}\n",
      "Accuracy = 94.44%.\n",
      "F1 Score = 0.94.\n",
      "Parameters currently in use:\n",
      "\n",
      "{'bootstrap': True, 'ccp_alpha': 0.0, 'class_weight': None, 'criterion': 'gini', 'max_depth': None, 'max_features': 'sqrt', 'max_leaf_nodes': None, 'max_samples': None, 'min_impurity_decrease': 0.0, 'min_samples_leaf': 1, 'min_samples_split': 2, 'min_weight_fraction_leaf': 0.0, 'n_estimators': 100, 'n_jobs': None, 'oob_score': False, 'random_state': 1234567890, 'verbose': 0, 'warm_start': False}\n",
      "Accuracy = 94.10%.\n",
      "F1 Score = 0.94.\n"
     ]
    }
   ],
   "source": [
    "X_train, X_test, y_train, y_test = train_test_split(tictactoe.iloc[:, 0:(len(tictactoe.columns)-1)], tictactoe.iloc[:, -1], test_size=0.3, random_state = 42)\n",
    "\n",
    "for i in seedno:\n",
    "    RandomForestBaseModel(X_train, X_test, y_train, y_test, tictactoe.columns[0:len(tictactoe.columns)-1], i)\n"
   ]
  },
  {
   "cell_type": "code",
   "execution_count": 670,
   "metadata": {
    "scrolled": true
   },
   "outputs": [
    {
     "data": {
      "text/plain": [
       "[(93.05555555555556, 0.9281810425319552),\n",
       " (94.79166666666667, 0.9466586509915688),\n",
       " (93.05555555555556, 0.9281810425319552),\n",
       " (93.75, 0.935621977895464),\n",
       " (93.40277777777777, 0.9319101508916323),\n",
       " (93.40277777777777, 0.9319101508916323),\n",
       " (92.70833333333333, 0.9247427983539094),\n",
       " (94.79166666666667, 0.9466586509915688),\n",
       " (94.44444444444444, 0.9432070707070707),\n",
       " (94.09722222222223, 0.9393170162445755)]"
      ]
     },
     "execution_count": 670,
     "metadata": {},
     "output_type": "execute_result"
    }
   ],
   "source": [
    "base_accuracy"
   ]
  },
  {
   "cell_type": "code",
   "execution_count": 671,
   "metadata": {},
   "outputs": [
    {
     "name": "stdout",
     "output_type": "stream",
     "text": [
      "Average of the base accuracy for tic tac toe dataset\n"
     ]
    },
    {
     "data": {
      "text/plain": [
       "93.75"
      ]
     },
     "execution_count": 671,
     "metadata": {},
     "output_type": "execute_result"
    }
   ],
   "source": [
    "print(\"Average of the base accuracy for tic tac toe dataset\")\n",
    "summation = 0\n",
    "for i in range(0, len(base_accuracy)):\n",
    "    summation= summation + base_accuracy[i][0]\n",
    "summation/10"
   ]
  },
  {
   "cell_type": "code",
   "execution_count": 672,
   "metadata": {},
   "outputs": [
    {
     "name": "stdout",
     "output_type": "stream",
     "text": [
      "Average of the base f1 for tic tac toe dataset\n"
     ]
    },
    {
     "data": {
      "text/plain": [
       "0.9356388552031332"
      ]
     },
     "execution_count": 672,
     "metadata": {},
     "output_type": "execute_result"
    }
   ],
   "source": [
    "print(\"Average of the base f1 for tic tac toe dataset\")\n",
    "summation = 0\n",
    "for i in range(0, len(base_accuracy)):\n",
    "    summation= summation + base_accuracy[i][1]\n",
    "summation/10"
   ]
  },
  {
   "cell_type": "code",
   "execution_count": 673,
   "metadata": {},
   "outputs": [
    {
     "name": "stdout",
     "output_type": "stream",
     "text": [
      "Fitting 3 folds for each of 81 candidates, totalling 243 fits\n",
      "Accuracy = 92.71%.\n",
      "F1 Score = 0.92.\n",
      "Fitting 3 folds for each of 81 candidates, totalling 243 fits\n",
      "Accuracy = 92.71%.\n",
      "F1 Score = 0.92.\n",
      "Fitting 3 folds for each of 81 candidates, totalling 243 fits\n",
      "Accuracy = 94.44%.\n",
      "F1 Score = 0.94.\n",
      "Fitting 3 folds for each of 81 candidates, totalling 243 fits\n",
      "Accuracy = 93.75%.\n",
      "F1 Score = 0.94.\n",
      "Fitting 3 folds for each of 81 candidates, totalling 243 fits\n",
      "Accuracy = 93.06%.\n",
      "F1 Score = 0.93.\n",
      "Fitting 3 folds for each of 81 candidates, totalling 243 fits\n",
      "Accuracy = 93.40%.\n",
      "F1 Score = 0.93.\n",
      "Fitting 3 folds for each of 81 candidates, totalling 243 fits\n",
      "Accuracy = 93.06%.\n",
      "F1 Score = 0.93.\n",
      "Fitting 3 folds for each of 81 candidates, totalling 243 fits\n",
      "Accuracy = 93.40%.\n",
      "F1 Score = 0.93.\n",
      "Fitting 3 folds for each of 81 candidates, totalling 243 fits\n",
      "Accuracy = 93.75%.\n",
      "F1 Score = 0.94.\n",
      "Fitting 3 folds for each of 81 candidates, totalling 243 fits\n",
      "Accuracy = 93.40%.\n",
      "F1 Score = 0.93.\n"
     ]
    }
   ],
   "source": [
    "for i in seedno:\n",
    "    RandomForestGridCV(X_train, X_test, y_train, y_test, param_grid, i)"
   ]
  },
  {
   "cell_type": "code",
   "execution_count": 674,
   "metadata": {},
   "outputs": [
    {
     "data": {
      "text/plain": [
       "[(92.70833333333333, 0.924434150395689),\n",
       " (92.70833333333333, 0.924434150395689),\n",
       " (94.44444444444444, 0.9429957492232326),\n",
       " (93.75, 0.935621977895464),\n",
       " (93.05555555555556, 0.9281810425319552),\n",
       " (93.40277777777777, 0.9319101508916323),\n",
       " (93.05555555555556, 0.9281810425319552),\n",
       " (93.40277777777777, 0.9319101508916323),\n",
       " (93.75, 0.935621977895464),\n",
       " (93.40277777777777, 0.9319101508916323)]"
      ]
     },
     "execution_count": 674,
     "metadata": {},
     "output_type": "execute_result"
    }
   ],
   "source": [
    "grid_cv_accuracy"
   ]
  },
  {
   "cell_type": "code",
   "execution_count": 675,
   "metadata": {},
   "outputs": [
    {
     "name": "stdout",
     "output_type": "stream",
     "text": [
      "Average of the grid cv accuracy for tic tac toe dataset\n"
     ]
    },
    {
     "data": {
      "text/plain": [
       "93.36805555555554"
      ]
     },
     "execution_count": 675,
     "metadata": {},
     "output_type": "execute_result"
    }
   ],
   "source": [
    "print(\"Average of the grid cv accuracy for tic tac toe dataset\")\n",
    "summation = 0\n",
    "for i in range(0, len(grid_cv_accuracy)):\n",
    "    summation= summation + grid_cv_accuracy[i][0]\n",
    "summation/10"
   ]
  },
  {
   "cell_type": "code",
   "execution_count": 676,
   "metadata": {},
   "outputs": [
    {
     "name": "stdout",
     "output_type": "stream",
     "text": [
      "Average of the grid cv f1 for tic tac toe dataset\n"
     ]
    },
    {
     "data": {
      "text/plain": [
       "0.9315200543544344"
      ]
     },
     "execution_count": 676,
     "metadata": {},
     "output_type": "execute_result"
    }
   ],
   "source": [
    "print(\"Average of the grid cv f1 for tic tac toe dataset\")\n",
    "summation = 0\n",
    "for i in range(0, len(grid_cv_accuracy)):\n",
    "    summation= summation + grid_cv_accuracy[i][1]\n",
    "summation/10"
   ]
  },
  {
   "cell_type": "code",
   "execution_count": 677,
   "metadata": {},
   "outputs": [
    {
     "data": {
      "text/plain": [
       "[{'max_depth': 10,\n",
       "  'min_samples_leaf': 1,\n",
       "  'min_samples_split': 2,\n",
       "  'n_estimators': 700},\n",
       " {'max_depth': 10,\n",
       "  'min_samples_leaf': 1,\n",
       "  'min_samples_split': 2,\n",
       "  'n_estimators': 600},\n",
       " {'max_depth': 10,\n",
       "  'min_samples_leaf': 1,\n",
       "  'min_samples_split': 2,\n",
       "  'n_estimators': 600},\n",
       " {'max_depth': 10,\n",
       "  'min_samples_leaf': 1,\n",
       "  'min_samples_split': 2,\n",
       "  'n_estimators': 600},\n",
       " {'max_depth': 10,\n",
       "  'min_samples_leaf': 1,\n",
       "  'min_samples_split': 2,\n",
       "  'n_estimators': 500},\n",
       " {'max_depth': 10,\n",
       "  'min_samples_leaf': 1,\n",
       "  'min_samples_split': 2,\n",
       "  'n_estimators': 600},\n",
       " {'max_depth': 20,\n",
       "  'min_samples_leaf': 1,\n",
       "  'min_samples_split': 2,\n",
       "  'n_estimators': 600},\n",
       " {'max_depth': 20,\n",
       "  'min_samples_leaf': 1,\n",
       "  'min_samples_split': 2,\n",
       "  'n_estimators': 700},\n",
       " {'max_depth': 20,\n",
       "  'min_samples_leaf': 1,\n",
       "  'min_samples_split': 2,\n",
       "  'n_estimators': 500},\n",
       " {'max_depth': 20,\n",
       "  'min_samples_leaf': 1,\n",
       "  'min_samples_split': 2,\n",
       "  'n_estimators': 500}]"
      ]
     },
     "execution_count": 677,
     "metadata": {},
     "output_type": "execute_result"
    }
   ],
   "source": [
    "grid_cv_best_param"
   ]
  },
  {
   "cell_type": "markdown",
   "metadata": {},
   "source": [
    "## Elimination of features"
   ]
  },
  {
   "cell_type": "code",
   "execution_count": 678,
   "metadata": {},
   "outputs": [
    {
     "data": {
      "text/plain": [
       "[middle-middle-square    0.152195\n",
       " top-left-square         0.119097\n",
       " top-right-square        0.116939\n",
       " bottom-left-square      0.114601\n",
       " bottom-right-square     0.112986\n",
       " middle-right-square     0.100915\n",
       " bottom-middle-square    0.095594\n",
       " middle-left-square      0.094584\n",
       " top-middle-square       0.093088\n",
       " dtype: float64,\n",
       " middle-middle-square    0.169807\n",
       " top-right-square        0.123767\n",
       " top-left-square         0.111886\n",
       " bottom-left-square      0.111719\n",
       " bottom-right-square     0.104311\n",
       " middle-right-square     0.102336\n",
       " bottom-middle-square    0.094379\n",
       " top-middle-square       0.091148\n",
       " middle-left-square      0.090646\n",
       " dtype: float64,\n",
       " middle-middle-square    0.160267\n",
       " top-right-square        0.121832\n",
       " top-left-square         0.120726\n",
       " bottom-right-square     0.107414\n",
       " bottom-left-square      0.106803\n",
       " middle-right-square     0.100152\n",
       " bottom-middle-square    0.098945\n",
       " top-middle-square       0.092850\n",
       " middle-left-square      0.091012\n",
       " dtype: float64,\n",
       " middle-middle-square    0.155504\n",
       " top-right-square        0.119128\n",
       " bottom-right-square     0.118667\n",
       " bottom-left-square      0.112522\n",
       " top-left-square         0.110421\n",
       " middle-right-square     0.103234\n",
       " bottom-middle-square    0.097678\n",
       " top-middle-square       0.092337\n",
       " middle-left-square      0.090509\n",
       " dtype: float64,\n",
       " middle-middle-square    0.159362\n",
       " top-left-square         0.118110\n",
       " top-right-square        0.117095\n",
       " bottom-left-square      0.113945\n",
       " bottom-right-square     0.105671\n",
       " middle-right-square     0.103657\n",
       " bottom-middle-square    0.099963\n",
       " top-middle-square       0.092691\n",
       " middle-left-square      0.089505\n",
       " dtype: float64,\n",
       " middle-middle-square    0.160595\n",
       " top-right-square        0.117228\n",
       " bottom-right-square     0.111081\n",
       " bottom-left-square      0.110763\n",
       " top-left-square         0.110657\n",
       " middle-right-square     0.102368\n",
       " top-middle-square       0.097499\n",
       " bottom-middle-square    0.097460\n",
       " middle-left-square      0.092350\n",
       " dtype: float64,\n",
       " middle-middle-square    0.160930\n",
       " top-right-square        0.116567\n",
       " bottom-right-square     0.114079\n",
       " bottom-left-square      0.113263\n",
       " middle-right-square     0.110330\n",
       " top-left-square         0.109969\n",
       " bottom-middle-square    0.092476\n",
       " middle-left-square      0.091234\n",
       " top-middle-square       0.091153\n",
       " dtype: float64,\n",
       " middle-middle-square    0.159121\n",
       " top-left-square         0.121303\n",
       " top-right-square        0.112359\n",
       " bottom-left-square      0.111947\n",
       " bottom-right-square     0.109030\n",
       " middle-right-square     0.100512\n",
       " top-middle-square       0.097420\n",
       " bottom-middle-square    0.097241\n",
       " middle-left-square      0.091066\n",
       " dtype: float64,\n",
       " middle-middle-square    0.164123\n",
       " top-right-square        0.121922\n",
       " bottom-right-square     0.116681\n",
       " bottom-left-square      0.105074\n",
       " middle-right-square     0.103188\n",
       " top-left-square         0.101134\n",
       " bottom-middle-square    0.100452\n",
       " middle-left-square      0.098477\n",
       " top-middle-square       0.088948\n",
       " dtype: float64,\n",
       " middle-middle-square    0.157822\n",
       " bottom-right-square     0.123758\n",
       " top-right-square        0.113711\n",
       " bottom-left-square      0.112857\n",
       " middle-right-square     0.103694\n",
       " top-left-square         0.100461\n",
       " top-middle-square       0.099566\n",
       " middle-left-square      0.094678\n",
       " bottom-middle-square    0.093454\n",
       " dtype: float64]"
      ]
     },
     "execution_count": 678,
     "metadata": {},
     "output_type": "execute_result"
    }
   ],
   "source": [
    "feature_importance"
   ]
  },
  {
   "cell_type": "markdown",
   "metadata": {},
   "source": [
    "I would say that the elimination of features is unnecessary here as the difference in feature importance is not very huge."
   ]
  },
  {
   "cell_type": "markdown",
   "metadata": {},
   "source": [
    "# Zoo"
   ]
  },
  {
   "cell_type": "code",
   "execution_count": 679,
   "metadata": {},
   "outputs": [
    {
     "data": {
      "text/html": [
       "<div>\n",
       "<style scoped>\n",
       "    .dataframe tbody tr th:only-of-type {\n",
       "        vertical-align: middle;\n",
       "    }\n",
       "\n",
       "    .dataframe tbody tr th {\n",
       "        vertical-align: top;\n",
       "    }\n",
       "\n",
       "    .dataframe thead th {\n",
       "        text-align: right;\n",
       "    }\n",
       "</style>\n",
       "<table border=\"1\" class=\"dataframe\">\n",
       "  <thead>\n",
       "    <tr style=\"text-align: right;\">\n",
       "      <th></th>\n",
       "      <th>hair</th>\n",
       "      <th>feathers</th>\n",
       "      <th>eggs</th>\n",
       "      <th>milk</th>\n",
       "      <th>airborne</th>\n",
       "      <th>aquatic</th>\n",
       "      <th>predator</th>\n",
       "      <th>toothed</th>\n",
       "      <th>backbone</th>\n",
       "      <th>breathes</th>\n",
       "      <th>enomous</th>\n",
       "      <th>fins</th>\n",
       "      <th>legs</th>\n",
       "      <th>tail</th>\n",
       "      <th>domestic</th>\n",
       "      <th>catsize</th>\n",
       "      <th>class</th>\n",
       "    </tr>\n",
       "  </thead>\n",
       "  <tbody>\n",
       "    <tr>\n",
       "      <th>0</th>\n",
       "      <td>1</td>\n",
       "      <td>0</td>\n",
       "      <td>0</td>\n",
       "      <td>1</td>\n",
       "      <td>0</td>\n",
       "      <td>0</td>\n",
       "      <td>1</td>\n",
       "      <td>1</td>\n",
       "      <td>1</td>\n",
       "      <td>1</td>\n",
       "      <td>0</td>\n",
       "      <td>0</td>\n",
       "      <td>4</td>\n",
       "      <td>0</td>\n",
       "      <td>0</td>\n",
       "      <td>1</td>\n",
       "      <td>1</td>\n",
       "    </tr>\n",
       "    <tr>\n",
       "      <th>1</th>\n",
       "      <td>1</td>\n",
       "      <td>0</td>\n",
       "      <td>0</td>\n",
       "      <td>1</td>\n",
       "      <td>0</td>\n",
       "      <td>0</td>\n",
       "      <td>0</td>\n",
       "      <td>1</td>\n",
       "      <td>1</td>\n",
       "      <td>1</td>\n",
       "      <td>0</td>\n",
       "      <td>0</td>\n",
       "      <td>4</td>\n",
       "      <td>1</td>\n",
       "      <td>0</td>\n",
       "      <td>1</td>\n",
       "      <td>1</td>\n",
       "    </tr>\n",
       "    <tr>\n",
       "      <th>2</th>\n",
       "      <td>0</td>\n",
       "      <td>0</td>\n",
       "      <td>1</td>\n",
       "      <td>0</td>\n",
       "      <td>0</td>\n",
       "      <td>1</td>\n",
       "      <td>1</td>\n",
       "      <td>1</td>\n",
       "      <td>1</td>\n",
       "      <td>0</td>\n",
       "      <td>0</td>\n",
       "      <td>1</td>\n",
       "      <td>0</td>\n",
       "      <td>1</td>\n",
       "      <td>0</td>\n",
       "      <td>0</td>\n",
       "      <td>4</td>\n",
       "    </tr>\n",
       "    <tr>\n",
       "      <th>3</th>\n",
       "      <td>1</td>\n",
       "      <td>0</td>\n",
       "      <td>0</td>\n",
       "      <td>1</td>\n",
       "      <td>0</td>\n",
       "      <td>0</td>\n",
       "      <td>1</td>\n",
       "      <td>1</td>\n",
       "      <td>1</td>\n",
       "      <td>1</td>\n",
       "      <td>0</td>\n",
       "      <td>0</td>\n",
       "      <td>4</td>\n",
       "      <td>0</td>\n",
       "      <td>0</td>\n",
       "      <td>1</td>\n",
       "      <td>1</td>\n",
       "    </tr>\n",
       "    <tr>\n",
       "      <th>4</th>\n",
       "      <td>1</td>\n",
       "      <td>0</td>\n",
       "      <td>0</td>\n",
       "      <td>1</td>\n",
       "      <td>0</td>\n",
       "      <td>0</td>\n",
       "      <td>1</td>\n",
       "      <td>1</td>\n",
       "      <td>1</td>\n",
       "      <td>1</td>\n",
       "      <td>0</td>\n",
       "      <td>0</td>\n",
       "      <td>4</td>\n",
       "      <td>1</td>\n",
       "      <td>0</td>\n",
       "      <td>1</td>\n",
       "      <td>1</td>\n",
       "    </tr>\n",
       "    <tr>\n",
       "      <th>...</th>\n",
       "      <td>...</td>\n",
       "      <td>...</td>\n",
       "      <td>...</td>\n",
       "      <td>...</td>\n",
       "      <td>...</td>\n",
       "      <td>...</td>\n",
       "      <td>...</td>\n",
       "      <td>...</td>\n",
       "      <td>...</td>\n",
       "      <td>...</td>\n",
       "      <td>...</td>\n",
       "      <td>...</td>\n",
       "      <td>...</td>\n",
       "      <td>...</td>\n",
       "      <td>...</td>\n",
       "      <td>...</td>\n",
       "      <td>...</td>\n",
       "    </tr>\n",
       "    <tr>\n",
       "      <th>96</th>\n",
       "      <td>1</td>\n",
       "      <td>0</td>\n",
       "      <td>0</td>\n",
       "      <td>1</td>\n",
       "      <td>0</td>\n",
       "      <td>0</td>\n",
       "      <td>0</td>\n",
       "      <td>1</td>\n",
       "      <td>1</td>\n",
       "      <td>1</td>\n",
       "      <td>0</td>\n",
       "      <td>0</td>\n",
       "      <td>2</td>\n",
       "      <td>1</td>\n",
       "      <td>0</td>\n",
       "      <td>1</td>\n",
       "      <td>1</td>\n",
       "    </tr>\n",
       "    <tr>\n",
       "      <th>97</th>\n",
       "      <td>1</td>\n",
       "      <td>0</td>\n",
       "      <td>1</td>\n",
       "      <td>0</td>\n",
       "      <td>1</td>\n",
       "      <td>0</td>\n",
       "      <td>0</td>\n",
       "      <td>0</td>\n",
       "      <td>0</td>\n",
       "      <td>1</td>\n",
       "      <td>1</td>\n",
       "      <td>0</td>\n",
       "      <td>6</td>\n",
       "      <td>0</td>\n",
       "      <td>0</td>\n",
       "      <td>0</td>\n",
       "      <td>6</td>\n",
       "    </tr>\n",
       "    <tr>\n",
       "      <th>98</th>\n",
       "      <td>1</td>\n",
       "      <td>0</td>\n",
       "      <td>0</td>\n",
       "      <td>1</td>\n",
       "      <td>0</td>\n",
       "      <td>0</td>\n",
       "      <td>1</td>\n",
       "      <td>1</td>\n",
       "      <td>1</td>\n",
       "      <td>1</td>\n",
       "      <td>0</td>\n",
       "      <td>0</td>\n",
       "      <td>4</td>\n",
       "      <td>1</td>\n",
       "      <td>0</td>\n",
       "      <td>1</td>\n",
       "      <td>1</td>\n",
       "    </tr>\n",
       "    <tr>\n",
       "      <th>99</th>\n",
       "      <td>0</td>\n",
       "      <td>0</td>\n",
       "      <td>1</td>\n",
       "      <td>0</td>\n",
       "      <td>0</td>\n",
       "      <td>0</td>\n",
       "      <td>0</td>\n",
       "      <td>0</td>\n",
       "      <td>0</td>\n",
       "      <td>1</td>\n",
       "      <td>0</td>\n",
       "      <td>0</td>\n",
       "      <td>0</td>\n",
       "      <td>0</td>\n",
       "      <td>0</td>\n",
       "      <td>0</td>\n",
       "      <td>7</td>\n",
       "    </tr>\n",
       "    <tr>\n",
       "      <th>100</th>\n",
       "      <td>0</td>\n",
       "      <td>1</td>\n",
       "      <td>1</td>\n",
       "      <td>0</td>\n",
       "      <td>1</td>\n",
       "      <td>0</td>\n",
       "      <td>0</td>\n",
       "      <td>0</td>\n",
       "      <td>1</td>\n",
       "      <td>1</td>\n",
       "      <td>0</td>\n",
       "      <td>0</td>\n",
       "      <td>2</td>\n",
       "      <td>1</td>\n",
       "      <td>0</td>\n",
       "      <td>0</td>\n",
       "      <td>2</td>\n",
       "    </tr>\n",
       "  </tbody>\n",
       "</table>\n",
       "<p>101 rows × 17 columns</p>\n",
       "</div>"
      ],
      "text/plain": [
       "     hair  feathers  eggs  milk  airborne  aquatic  predator  toothed  \\\n",
       "0       1         0     0     1         0        0         1        1   \n",
       "1       1         0     0     1         0        0         0        1   \n",
       "2       0         0     1     0         0        1         1        1   \n",
       "3       1         0     0     1         0        0         1        1   \n",
       "4       1         0     0     1         0        0         1        1   \n",
       "..    ...       ...   ...   ...       ...      ...       ...      ...   \n",
       "96      1         0     0     1         0        0         0        1   \n",
       "97      1         0     1     0         1        0         0        0   \n",
       "98      1         0     0     1         0        0         1        1   \n",
       "99      0         0     1     0         0        0         0        0   \n",
       "100     0         1     1     0         1        0         0        0   \n",
       "\n",
       "     backbone  breathes  enomous  fins  legs  tail  domestic  catsize  class  \n",
       "0           1         1        0     0     4     0         0        1      1  \n",
       "1           1         1        0     0     4     1         0        1      1  \n",
       "2           1         0        0     1     0     1         0        0      4  \n",
       "3           1         1        0     0     4     0         0        1      1  \n",
       "4           1         1        0     0     4     1         0        1      1  \n",
       "..        ...       ...      ...   ...   ...   ...       ...      ...    ...  \n",
       "96          1         1        0     0     2     1         0        1      1  \n",
       "97          0         1        1     0     6     0         0        0      6  \n",
       "98          1         1        0     0     4     1         0        1      1  \n",
       "99          0         1        0     0     0     0         0        0      7  \n",
       "100         1         1        0     0     2     1         0        0      2  \n",
       "\n",
       "[101 rows x 17 columns]"
      ]
     },
     "execution_count": 679,
     "metadata": {},
     "output_type": "execute_result"
    }
   ],
   "source": [
    "base_accuracy = []\n",
    "grid_cv_accuracy = []\n",
    "feature_importance = []\n",
    "grid_cv_best_param = []\n",
    "elimination_features_accuracy = []\n",
    "zoo"
   ]
  },
  {
   "cell_type": "code",
   "execution_count": 680,
   "metadata": {},
   "outputs": [
    {
     "name": "stdout",
     "output_type": "stream",
     "text": [
      "Parameters currently in use:\n",
      "\n",
      "{'bootstrap': True, 'ccp_alpha': 0.0, 'class_weight': None, 'criterion': 'gini', 'max_depth': None, 'max_features': 'sqrt', 'max_leaf_nodes': None, 'max_samples': None, 'min_impurity_decrease': 0.0, 'min_samples_leaf': 1, 'min_samples_split': 2, 'min_weight_fraction_leaf': 0.0, 'n_estimators': 100, 'n_jobs': None, 'oob_score': False, 'random_state': 1, 'verbose': 0, 'warm_start': False}\n",
      "Accuracy = 93.55%.\n",
      "F1 Score = 0.92.\n",
      "Parameters currently in use:\n",
      "\n",
      "{'bootstrap': True, 'ccp_alpha': 0.0, 'class_weight': None, 'criterion': 'gini', 'max_depth': None, 'max_features': 'sqrt', 'max_leaf_nodes': None, 'max_samples': None, 'min_impurity_decrease': 0.0, 'min_samples_leaf': 1, 'min_samples_split': 2, 'min_weight_fraction_leaf': 0.0, 'n_estimators': 100, 'n_jobs': None, 'oob_score': False, 'random_state': 12, 'verbose': 0, 'warm_start': False}\n",
      "Accuracy = 93.55%.\n",
      "F1 Score = 0.92.\n",
      "Parameters currently in use:\n",
      "\n",
      "{'bootstrap': True, 'ccp_alpha': 0.0, 'class_weight': None, 'criterion': 'gini', 'max_depth': None, 'max_features': 'sqrt', 'max_leaf_nodes': None, 'max_samples': None, 'min_impurity_decrease': 0.0, 'min_samples_leaf': 1, 'min_samples_split': 2, 'min_weight_fraction_leaf': 0.0, 'n_estimators': 100, 'n_jobs': None, 'oob_score': False, 'random_state': 123, 'verbose': 0, 'warm_start': False}\n",
      "Accuracy = 93.55%.\n",
      "F1 Score = 0.92.\n",
      "Parameters currently in use:\n",
      "\n",
      "{'bootstrap': True, 'ccp_alpha': 0.0, 'class_weight': None, 'criterion': 'gini', 'max_depth': None, 'max_features': 'sqrt', 'max_leaf_nodes': None, 'max_samples': None, 'min_impurity_decrease': 0.0, 'min_samples_leaf': 1, 'min_samples_split': 2, 'min_weight_fraction_leaf': 0.0, 'n_estimators': 100, 'n_jobs': None, 'oob_score': False, 'random_state': 1234, 'verbose': 0, 'warm_start': False}\n",
      "Accuracy = 93.55%.\n",
      "F1 Score = 0.92.\n",
      "Parameters currently in use:\n",
      "\n",
      "{'bootstrap': True, 'ccp_alpha': 0.0, 'class_weight': None, 'criterion': 'gini', 'max_depth': None, 'max_features': 'sqrt', 'max_leaf_nodes': None, 'max_samples': None, 'min_impurity_decrease': 0.0, 'min_samples_leaf': 1, 'min_samples_split': 2, 'min_weight_fraction_leaf': 0.0, 'n_estimators': 100, 'n_jobs': None, 'oob_score': False, 'random_state': 12345, 'verbose': 0, 'warm_start': False}\n",
      "Accuracy = 93.55%.\n",
      "F1 Score = 0.92.\n",
      "Parameters currently in use:\n",
      "\n",
      "{'bootstrap': True, 'ccp_alpha': 0.0, 'class_weight': None, 'criterion': 'gini', 'max_depth': None, 'max_features': 'sqrt', 'max_leaf_nodes': None, 'max_samples': None, 'min_impurity_decrease': 0.0, 'min_samples_leaf': 1, 'min_samples_split': 2, 'min_weight_fraction_leaf': 0.0, 'n_estimators': 100, 'n_jobs': None, 'oob_score': False, 'random_state': 123456, 'verbose': 0, 'warm_start': False}\n",
      "Accuracy = 93.55%.\n",
      "F1 Score = 0.92.\n",
      "Parameters currently in use:\n",
      "\n",
      "{'bootstrap': True, 'ccp_alpha': 0.0, 'class_weight': None, 'criterion': 'gini', 'max_depth': None, 'max_features': 'sqrt', 'max_leaf_nodes': None, 'max_samples': None, 'min_impurity_decrease': 0.0, 'min_samples_leaf': 1, 'min_samples_split': 2, 'min_weight_fraction_leaf': 0.0, 'n_estimators': 100, 'n_jobs': None, 'oob_score': False, 'random_state': 1234567, 'verbose': 0, 'warm_start': False}\n",
      "Accuracy = 93.55%.\n",
      "F1 Score = 0.92.\n",
      "Parameters currently in use:\n",
      "\n",
      "{'bootstrap': True, 'ccp_alpha': 0.0, 'class_weight': None, 'criterion': 'gini', 'max_depth': None, 'max_features': 'sqrt', 'max_leaf_nodes': None, 'max_samples': None, 'min_impurity_decrease': 0.0, 'min_samples_leaf': 1, 'min_samples_split': 2, 'min_weight_fraction_leaf': 0.0, 'n_estimators': 100, 'n_jobs': None, 'oob_score': False, 'random_state': 12345678, 'verbose': 0, 'warm_start': False}\n",
      "Accuracy = 93.55%.\n",
      "F1 Score = 0.92.\n",
      "Parameters currently in use:\n",
      "\n",
      "{'bootstrap': True, 'ccp_alpha': 0.0, 'class_weight': None, 'criterion': 'gini', 'max_depth': None, 'max_features': 'sqrt', 'max_leaf_nodes': None, 'max_samples': None, 'min_impurity_decrease': 0.0, 'min_samples_leaf': 1, 'min_samples_split': 2, 'min_weight_fraction_leaf': 0.0, 'n_estimators': 100, 'n_jobs': None, 'oob_score': False, 'random_state': 123456789, 'verbose': 0, 'warm_start': False}\n",
      "Accuracy = 93.55%.\n",
      "F1 Score = 0.92.\n",
      "Parameters currently in use:\n",
      "\n",
      "{'bootstrap': True, 'ccp_alpha': 0.0, 'class_weight': None, 'criterion': 'gini', 'max_depth': None, 'max_features': 'sqrt', 'max_leaf_nodes': None, 'max_samples': None, 'min_impurity_decrease': 0.0, 'min_samples_leaf': 1, 'min_samples_split': 2, 'min_weight_fraction_leaf': 0.0, 'n_estimators': 100, 'n_jobs': None, 'oob_score': False, 'random_state': 1234567890, 'verbose': 0, 'warm_start': False}\n",
      "Accuracy = 93.55%.\n",
      "F1 Score = 0.92.\n"
     ]
    }
   ],
   "source": [
    "X_train, X_test, y_train, y_test = train_test_split(zoo.iloc[:, 0:(len(zoo.columns)-1)], zoo.iloc[:, -1], test_size=0.3, random_state = 42)\n",
    "\n",
    "for i in seedno:\n",
    "    RandomForestBaseModel(X_train, X_test, y_train, y_test, zoo.columns[0:len(zoo.columns)-1], i)\n"
   ]
  },
  {
   "cell_type": "code",
   "execution_count": 681,
   "metadata": {
    "scrolled": true
   },
   "outputs": [
    {
     "data": {
      "text/plain": [
       "[(93.54838709677419, 0.9181451612903225),\n",
       " (93.54838709677419, 0.9208211143695015),\n",
       " (93.54838709677419, 0.9208211143695015),\n",
       " (93.54838709677419, 0.9198751300728408),\n",
       " (93.54838709677419, 0.9208211143695015),\n",
       " (93.54838709677419, 0.9208211143695015),\n",
       " (93.54838709677419, 0.9181155992810519),\n",
       " (93.54838709677419, 0.9208211143695015),\n",
       " (93.54838709677419, 0.9198751300728408),\n",
       " (93.54838709677419, 0.9208211143695015)]"
      ]
     },
     "execution_count": 681,
     "metadata": {},
     "output_type": "execute_result"
    }
   ],
   "source": [
    "base_accuracy"
   ]
  },
  {
   "cell_type": "code",
   "execution_count": 682,
   "metadata": {},
   "outputs": [
    {
     "name": "stdout",
     "output_type": "stream",
     "text": [
      "Average of the base accuracy for zoo dataset\n"
     ]
    },
    {
     "data": {
      "text/plain": [
       "93.54838709677418"
      ]
     },
     "execution_count": 682,
     "metadata": {},
     "output_type": "execute_result"
    }
   ],
   "source": [
    "print(\"Average of the base accuracy for zoo dataset\")\n",
    "summation = 0\n",
    "for i in range(0, len(base_accuracy)):\n",
    "    summation= summation + base_accuracy[i][0]\n",
    "summation/10"
   ]
  },
  {
   "cell_type": "code",
   "execution_count": 683,
   "metadata": {},
   "outputs": [
    {
     "name": "stdout",
     "output_type": "stream",
     "text": [
      "Average of the base f1 for zoo dataset\n"
     ]
    },
    {
     "data": {
      "text/plain": [
       "0.9200937706934067"
      ]
     },
     "execution_count": 683,
     "metadata": {},
     "output_type": "execute_result"
    }
   ],
   "source": [
    "print(\"Average of the base f1 for zoo dataset\")\n",
    "summation = 0\n",
    "for i in range(0, len(base_accuracy)):\n",
    "    summation= summation + base_accuracy[i][1]\n",
    "summation/10"
   ]
  },
  {
   "cell_type": "code",
   "execution_count": 685,
   "metadata": {},
   "outputs": [
    {
     "name": "stdout",
     "output_type": "stream",
     "text": [
      "Fitting 3 folds for each of 81 candidates, totalling 243 fits\n"
     ]
    },
    {
     "name": "stderr",
     "output_type": "stream",
     "text": [
      "/Library/Frameworks/Python.framework/Versions/3.8/lib/python3.8/site-packages/sklearn/model_selection/_split.py:680: UserWarning: The least populated class in y has only 2 members, which is less than n_splits=3.\n",
      "  warnings.warn(\n"
     ]
    },
    {
     "ename": "KeyboardInterrupt",
     "evalue": "",
     "output_type": "error",
     "traceback": [
      "\u001b[0;31m---------------------------------------------------------------------------\u001b[0m",
      "\u001b[0;31mKeyboardInterrupt\u001b[0m                         Traceback (most recent call last)",
      "\u001b[0;32m<ipython-input-685-32c3a4197aeb>\u001b[0m in \u001b[0;36m<module>\u001b[0;34m\u001b[0m\n\u001b[1;32m      1\u001b[0m \u001b[0;32mfor\u001b[0m \u001b[0mi\u001b[0m \u001b[0;32min\u001b[0m \u001b[0mseedno\u001b[0m\u001b[0;34m:\u001b[0m\u001b[0;34m\u001b[0m\u001b[0;34m\u001b[0m\u001b[0m\n\u001b[0;32m----> 2\u001b[0;31m     \u001b[0mRandomForestGridCV\u001b[0m\u001b[0;34m(\u001b[0m\u001b[0mX_train\u001b[0m\u001b[0;34m,\u001b[0m \u001b[0mX_test\u001b[0m\u001b[0;34m,\u001b[0m \u001b[0my_train\u001b[0m\u001b[0;34m,\u001b[0m \u001b[0my_test\u001b[0m\u001b[0;34m,\u001b[0m \u001b[0mparam_grid\u001b[0m\u001b[0;34m,\u001b[0m \u001b[0mi\u001b[0m\u001b[0;34m)\u001b[0m\u001b[0;34m\u001b[0m\u001b[0;34m\u001b[0m\u001b[0m\n\u001b[0m",
      "\u001b[0;32m<ipython-input-485-e7c7a01cdd6c>\u001b[0m in \u001b[0;36mRandomForestGridCV\u001b[0;34m(X_train, X_test, y_train, y_test, param_grid, seed)\u001b[0m\n\u001b[1;32m      3\u001b[0m     grid_search = GridSearchCV(estimator = clf, param_grid = param_grid, \n\u001b[1;32m      4\u001b[0m                               cv = 3, n_jobs = -1, verbose = 2, error_score='raise')\n\u001b[0;32m----> 5\u001b[0;31m     \u001b[0mgrid_search\u001b[0m\u001b[0;34m.\u001b[0m\u001b[0mfit\u001b[0m\u001b[0;34m(\u001b[0m\u001b[0mX_train\u001b[0m\u001b[0;34m,\u001b[0m \u001b[0my_train\u001b[0m\u001b[0;34m)\u001b[0m\u001b[0;34m\u001b[0m\u001b[0;34m\u001b[0m\u001b[0m\n\u001b[0m\u001b[1;32m      6\u001b[0m     \u001b[0mgrid_cv_best_param\u001b[0m\u001b[0;34m.\u001b[0m\u001b[0mappend\u001b[0m\u001b[0;34m(\u001b[0m\u001b[0mgrid_search\u001b[0m\u001b[0;34m.\u001b[0m\u001b[0mbest_params_\u001b[0m\u001b[0;34m)\u001b[0m\u001b[0;34m\u001b[0m\u001b[0;34m\u001b[0m\u001b[0m\n\u001b[1;32m      7\u001b[0m     \u001b[0mb\u001b[0m \u001b[0;34m=\u001b[0m \u001b[0mevaluate\u001b[0m\u001b[0;34m(\u001b[0m\u001b[0mgrid_search\u001b[0m\u001b[0;34m.\u001b[0m\u001b[0mbest_estimator_\u001b[0m\u001b[0;34m,\u001b[0m \u001b[0mX_test\u001b[0m\u001b[0;34m,\u001b[0m \u001b[0my_test\u001b[0m\u001b[0;34m)\u001b[0m\u001b[0;34m\u001b[0m\u001b[0;34m\u001b[0m\u001b[0m\n",
      "\u001b[0;32m/Library/Frameworks/Python.framework/Versions/3.8/lib/python3.8/site-packages/sklearn/model_selection/_search.py\u001b[0m in \u001b[0;36mfit\u001b[0;34m(self, X, y, groups, **fit_params)\u001b[0m\n\u001b[1;32m    873\u001b[0m                 \u001b[0;32mreturn\u001b[0m \u001b[0mresults\u001b[0m\u001b[0;34m\u001b[0m\u001b[0;34m\u001b[0m\u001b[0m\n\u001b[1;32m    874\u001b[0m \u001b[0;34m\u001b[0m\u001b[0m\n\u001b[0;32m--> 875\u001b[0;31m             \u001b[0mself\u001b[0m\u001b[0;34m.\u001b[0m\u001b[0m_run_search\u001b[0m\u001b[0;34m(\u001b[0m\u001b[0mevaluate_candidates\u001b[0m\u001b[0;34m)\u001b[0m\u001b[0;34m\u001b[0m\u001b[0;34m\u001b[0m\u001b[0m\n\u001b[0m\u001b[1;32m    876\u001b[0m \u001b[0;34m\u001b[0m\u001b[0m\n\u001b[1;32m    877\u001b[0m             \u001b[0;31m# multimetric is determined here because in the case of a callable\u001b[0m\u001b[0;34m\u001b[0m\u001b[0;34m\u001b[0m\u001b[0;34m\u001b[0m\u001b[0m\n",
      "\u001b[0;32m/Library/Frameworks/Python.framework/Versions/3.8/lib/python3.8/site-packages/sklearn/model_selection/_search.py\u001b[0m in \u001b[0;36m_run_search\u001b[0;34m(self, evaluate_candidates)\u001b[0m\n\u001b[1;32m   1373\u001b[0m     \u001b[0;32mdef\u001b[0m \u001b[0m_run_search\u001b[0m\u001b[0;34m(\u001b[0m\u001b[0mself\u001b[0m\u001b[0;34m,\u001b[0m \u001b[0mevaluate_candidates\u001b[0m\u001b[0;34m)\u001b[0m\u001b[0;34m:\u001b[0m\u001b[0;34m\u001b[0m\u001b[0;34m\u001b[0m\u001b[0m\n\u001b[1;32m   1374\u001b[0m         \u001b[0;34m\"\"\"Search all candidates in param_grid\"\"\"\u001b[0m\u001b[0;34m\u001b[0m\u001b[0;34m\u001b[0m\u001b[0m\n\u001b[0;32m-> 1375\u001b[0;31m         \u001b[0mevaluate_candidates\u001b[0m\u001b[0;34m(\u001b[0m\u001b[0mParameterGrid\u001b[0m\u001b[0;34m(\u001b[0m\u001b[0mself\u001b[0m\u001b[0;34m.\u001b[0m\u001b[0mparam_grid\u001b[0m\u001b[0;34m)\u001b[0m\u001b[0;34m)\u001b[0m\u001b[0;34m\u001b[0m\u001b[0;34m\u001b[0m\u001b[0m\n\u001b[0m\u001b[1;32m   1376\u001b[0m \u001b[0;34m\u001b[0m\u001b[0m\n\u001b[1;32m   1377\u001b[0m \u001b[0;34m\u001b[0m\u001b[0m\n",
      "\u001b[0;32m/Library/Frameworks/Python.framework/Versions/3.8/lib/python3.8/site-packages/sklearn/model_selection/_search.py\u001b[0m in \u001b[0;36mevaluate_candidates\u001b[0;34m(candidate_params, cv, more_results)\u001b[0m\n\u001b[1;32m    820\u001b[0m                     )\n\u001b[1;32m    821\u001b[0m \u001b[0;34m\u001b[0m\u001b[0m\n\u001b[0;32m--> 822\u001b[0;31m                 out = parallel(\n\u001b[0m\u001b[1;32m    823\u001b[0m                     delayed(_fit_and_score)(\n\u001b[1;32m    824\u001b[0m                         \u001b[0mclone\u001b[0m\u001b[0;34m(\u001b[0m\u001b[0mbase_estimator\u001b[0m\u001b[0;34m)\u001b[0m\u001b[0;34m,\u001b[0m\u001b[0;34m\u001b[0m\u001b[0;34m\u001b[0m\u001b[0m\n",
      "\u001b[0;32m/Library/Frameworks/Python.framework/Versions/3.8/lib/python3.8/site-packages/joblib/parallel.py\u001b[0m in \u001b[0;36m__call__\u001b[0;34m(self, iterable)\u001b[0m\n\u001b[1;32m   1054\u001b[0m \u001b[0;34m\u001b[0m\u001b[0m\n\u001b[1;32m   1055\u001b[0m             \u001b[0;32mwith\u001b[0m \u001b[0mself\u001b[0m\u001b[0;34m.\u001b[0m\u001b[0m_backend\u001b[0m\u001b[0;34m.\u001b[0m\u001b[0mretrieval_context\u001b[0m\u001b[0;34m(\u001b[0m\u001b[0;34m)\u001b[0m\u001b[0;34m:\u001b[0m\u001b[0;34m\u001b[0m\u001b[0;34m\u001b[0m\u001b[0m\n\u001b[0;32m-> 1056\u001b[0;31m                 \u001b[0mself\u001b[0m\u001b[0;34m.\u001b[0m\u001b[0mretrieve\u001b[0m\u001b[0;34m(\u001b[0m\u001b[0;34m)\u001b[0m\u001b[0;34m\u001b[0m\u001b[0;34m\u001b[0m\u001b[0m\n\u001b[0m\u001b[1;32m   1057\u001b[0m             \u001b[0;31m# Make sure that we get a last message telling us we are done\u001b[0m\u001b[0;34m\u001b[0m\u001b[0;34m\u001b[0m\u001b[0;34m\u001b[0m\u001b[0m\n\u001b[1;32m   1058\u001b[0m             \u001b[0melapsed_time\u001b[0m \u001b[0;34m=\u001b[0m \u001b[0mtime\u001b[0m\u001b[0;34m.\u001b[0m\u001b[0mtime\u001b[0m\u001b[0;34m(\u001b[0m\u001b[0;34m)\u001b[0m \u001b[0;34m-\u001b[0m \u001b[0mself\u001b[0m\u001b[0;34m.\u001b[0m\u001b[0m_start_time\u001b[0m\u001b[0;34m\u001b[0m\u001b[0;34m\u001b[0m\u001b[0m\n",
      "\u001b[0;32m/Library/Frameworks/Python.framework/Versions/3.8/lib/python3.8/site-packages/joblib/parallel.py\u001b[0m in \u001b[0;36mretrieve\u001b[0;34m(self)\u001b[0m\n\u001b[1;32m    933\u001b[0m             \u001b[0;32mtry\u001b[0m\u001b[0;34m:\u001b[0m\u001b[0;34m\u001b[0m\u001b[0;34m\u001b[0m\u001b[0m\n\u001b[1;32m    934\u001b[0m                 \u001b[0;32mif\u001b[0m \u001b[0mgetattr\u001b[0m\u001b[0;34m(\u001b[0m\u001b[0mself\u001b[0m\u001b[0;34m.\u001b[0m\u001b[0m_backend\u001b[0m\u001b[0;34m,\u001b[0m \u001b[0;34m'supports_timeout'\u001b[0m\u001b[0;34m,\u001b[0m \u001b[0;32mFalse\u001b[0m\u001b[0;34m)\u001b[0m\u001b[0;34m:\u001b[0m\u001b[0;34m\u001b[0m\u001b[0;34m\u001b[0m\u001b[0m\n\u001b[0;32m--> 935\u001b[0;31m                     \u001b[0mself\u001b[0m\u001b[0;34m.\u001b[0m\u001b[0m_output\u001b[0m\u001b[0;34m.\u001b[0m\u001b[0mextend\u001b[0m\u001b[0;34m(\u001b[0m\u001b[0mjob\u001b[0m\u001b[0;34m.\u001b[0m\u001b[0mget\u001b[0m\u001b[0;34m(\u001b[0m\u001b[0mtimeout\u001b[0m\u001b[0;34m=\u001b[0m\u001b[0mself\u001b[0m\u001b[0;34m.\u001b[0m\u001b[0mtimeout\u001b[0m\u001b[0;34m)\u001b[0m\u001b[0;34m)\u001b[0m\u001b[0;34m\u001b[0m\u001b[0;34m\u001b[0m\u001b[0m\n\u001b[0m\u001b[1;32m    936\u001b[0m                 \u001b[0;32melse\u001b[0m\u001b[0;34m:\u001b[0m\u001b[0;34m\u001b[0m\u001b[0;34m\u001b[0m\u001b[0m\n\u001b[1;32m    937\u001b[0m                     \u001b[0mself\u001b[0m\u001b[0;34m.\u001b[0m\u001b[0m_output\u001b[0m\u001b[0;34m.\u001b[0m\u001b[0mextend\u001b[0m\u001b[0;34m(\u001b[0m\u001b[0mjob\u001b[0m\u001b[0;34m.\u001b[0m\u001b[0mget\u001b[0m\u001b[0;34m(\u001b[0m\u001b[0;34m)\u001b[0m\u001b[0;34m)\u001b[0m\u001b[0;34m\u001b[0m\u001b[0;34m\u001b[0m\u001b[0m\n",
      "\u001b[0;32m/Library/Frameworks/Python.framework/Versions/3.8/lib/python3.8/site-packages/joblib/_parallel_backends.py\u001b[0m in \u001b[0;36mwrap_future_result\u001b[0;34m(future, timeout)\u001b[0m\n\u001b[1;32m    540\u001b[0m         AsyncResults.get from multiprocessing.\"\"\"\n\u001b[1;32m    541\u001b[0m         \u001b[0;32mtry\u001b[0m\u001b[0;34m:\u001b[0m\u001b[0;34m\u001b[0m\u001b[0;34m\u001b[0m\u001b[0m\n\u001b[0;32m--> 542\u001b[0;31m             \u001b[0;32mreturn\u001b[0m \u001b[0mfuture\u001b[0m\u001b[0;34m.\u001b[0m\u001b[0mresult\u001b[0m\u001b[0;34m(\u001b[0m\u001b[0mtimeout\u001b[0m\u001b[0;34m=\u001b[0m\u001b[0mtimeout\u001b[0m\u001b[0;34m)\u001b[0m\u001b[0;34m\u001b[0m\u001b[0;34m\u001b[0m\u001b[0m\n\u001b[0m\u001b[1;32m    543\u001b[0m         \u001b[0;32mexcept\u001b[0m \u001b[0mCfTimeoutError\u001b[0m \u001b[0;32mas\u001b[0m \u001b[0me\u001b[0m\u001b[0;34m:\u001b[0m\u001b[0;34m\u001b[0m\u001b[0;34m\u001b[0m\u001b[0m\n\u001b[1;32m    544\u001b[0m             \u001b[0;32mraise\u001b[0m \u001b[0mTimeoutError\u001b[0m \u001b[0;32mfrom\u001b[0m \u001b[0me\u001b[0m\u001b[0;34m\u001b[0m\u001b[0;34m\u001b[0m\u001b[0m\n",
      "\u001b[0;32m/Library/Frameworks/Python.framework/Versions/3.8/lib/python3.8/concurrent/futures/_base.py\u001b[0m in \u001b[0;36mresult\u001b[0;34m(self, timeout)\u001b[0m\n\u001b[1;32m    432\u001b[0m                 \u001b[0;32mreturn\u001b[0m \u001b[0mself\u001b[0m\u001b[0;34m.\u001b[0m\u001b[0m__get_result\u001b[0m\u001b[0;34m(\u001b[0m\u001b[0;34m)\u001b[0m\u001b[0;34m\u001b[0m\u001b[0;34m\u001b[0m\u001b[0m\n\u001b[1;32m    433\u001b[0m \u001b[0;34m\u001b[0m\u001b[0m\n\u001b[0;32m--> 434\u001b[0;31m             \u001b[0mself\u001b[0m\u001b[0;34m.\u001b[0m\u001b[0m_condition\u001b[0m\u001b[0;34m.\u001b[0m\u001b[0mwait\u001b[0m\u001b[0;34m(\u001b[0m\u001b[0mtimeout\u001b[0m\u001b[0;34m)\u001b[0m\u001b[0;34m\u001b[0m\u001b[0;34m\u001b[0m\u001b[0m\n\u001b[0m\u001b[1;32m    435\u001b[0m \u001b[0;34m\u001b[0m\u001b[0m\n\u001b[1;32m    436\u001b[0m             \u001b[0;32mif\u001b[0m \u001b[0mself\u001b[0m\u001b[0;34m.\u001b[0m\u001b[0m_state\u001b[0m \u001b[0;32min\u001b[0m \u001b[0;34m[\u001b[0m\u001b[0mCANCELLED\u001b[0m\u001b[0;34m,\u001b[0m \u001b[0mCANCELLED_AND_NOTIFIED\u001b[0m\u001b[0;34m]\u001b[0m\u001b[0;34m:\u001b[0m\u001b[0;34m\u001b[0m\u001b[0;34m\u001b[0m\u001b[0m\n",
      "\u001b[0;32m/Library/Frameworks/Python.framework/Versions/3.8/lib/python3.8/threading.py\u001b[0m in \u001b[0;36mwait\u001b[0;34m(self, timeout)\u001b[0m\n\u001b[1;32m    300\u001b[0m         \u001b[0;32mtry\u001b[0m\u001b[0;34m:\u001b[0m    \u001b[0;31m# restore state no matter what (e.g., KeyboardInterrupt)\u001b[0m\u001b[0;34m\u001b[0m\u001b[0;34m\u001b[0m\u001b[0m\n\u001b[1;32m    301\u001b[0m             \u001b[0;32mif\u001b[0m \u001b[0mtimeout\u001b[0m \u001b[0;32mis\u001b[0m \u001b[0;32mNone\u001b[0m\u001b[0;34m:\u001b[0m\u001b[0;34m\u001b[0m\u001b[0;34m\u001b[0m\u001b[0m\n\u001b[0;32m--> 302\u001b[0;31m                 \u001b[0mwaiter\u001b[0m\u001b[0;34m.\u001b[0m\u001b[0macquire\u001b[0m\u001b[0;34m(\u001b[0m\u001b[0;34m)\u001b[0m\u001b[0;34m\u001b[0m\u001b[0;34m\u001b[0m\u001b[0m\n\u001b[0m\u001b[1;32m    303\u001b[0m                 \u001b[0mgotit\u001b[0m \u001b[0;34m=\u001b[0m \u001b[0;32mTrue\u001b[0m\u001b[0;34m\u001b[0m\u001b[0;34m\u001b[0m\u001b[0m\n\u001b[1;32m    304\u001b[0m             \u001b[0;32melse\u001b[0m\u001b[0;34m:\u001b[0m\u001b[0;34m\u001b[0m\u001b[0;34m\u001b[0m\u001b[0m\n",
      "\u001b[0;31mKeyboardInterrupt\u001b[0m: "
     ]
    }
   ],
   "source": [
    "for i in seedno:\n",
    "    RandomForestGridCV(X_train, X_test, y_train, y_test, param_grid, i)"
   ]
  },
  {
   "cell_type": "code",
   "execution_count": 686,
   "metadata": {
    "scrolled": false
   },
   "outputs": [
    {
     "data": {
      "text/plain": [
       "[(93.54838709677419, 0.9198751300728408),\n",
       " (93.54838709677419, 0.9208211143695015),\n",
       " (93.54838709677419, 0.9198751300728408),\n",
       " (93.54838709677419, 0.9208211143695015),\n",
       " (93.54838709677419, 0.9208211143695015),\n",
       " (93.54838709677419, 0.9208211143695015),\n",
       " (93.54838709677419, 0.9208211143695015),\n",
       " (93.54838709677419, 0.9208211143695015),\n",
       " (93.54838709677419, 0.9208211143695015),\n",
       " (93.54838709677419, 0.9208211143695015)]"
      ]
     },
     "execution_count": 686,
     "metadata": {},
     "output_type": "execute_result"
    }
   ],
   "source": [
    "grid_cv_accuracy"
   ]
  },
  {
   "cell_type": "code",
   "execution_count": 687,
   "metadata": {
    "scrolled": true
   },
   "outputs": [
    {
     "name": "stdout",
     "output_type": "stream",
     "text": [
      "Average of the grid cv accuracy for zoo dataset\n"
     ]
    },
    {
     "data": {
      "text/plain": [
       "93.54838709677418"
      ]
     },
     "execution_count": 687,
     "metadata": {},
     "output_type": "execute_result"
    }
   ],
   "source": [
    "print(\"Average of the grid cv accuracy for zoo dataset\")\n",
    "summation = 0\n",
    "for i in range(0, len(grid_cv_accuracy)):\n",
    "    summation= summation + grid_cv_accuracy[i][0]\n",
    "summation/10"
   ]
  },
  {
   "cell_type": "code",
   "execution_count": 688,
   "metadata": {},
   "outputs": [
    {
     "name": "stdout",
     "output_type": "stream",
     "text": [
      "Average of the grid cv f1 for zoo dataset\n"
     ]
    },
    {
     "data": {
      "text/plain": [
       "0.9206319175101694"
      ]
     },
     "execution_count": 688,
     "metadata": {},
     "output_type": "execute_result"
    }
   ],
   "source": [
    "print(\"Average of the grid cv f1 for zoo dataset\")\n",
    "summation = 0\n",
    "for i in range(0, len(grid_cv_accuracy)):\n",
    "    summation= summation + grid_cv_accuracy[i][1]\n",
    "summation/10"
   ]
  },
  {
   "cell_type": "code",
   "execution_count": 689,
   "metadata": {
    "scrolled": true
   },
   "outputs": [
    {
     "data": {
      "text/plain": [
       "[{'max_depth': 10,\n",
       "  'min_samples_leaf': 1,\n",
       "  'min_samples_split': 2,\n",
       "  'n_estimators': 500},\n",
       " {'max_depth': 10,\n",
       "  'min_samples_leaf': 1,\n",
       "  'min_samples_split': 2,\n",
       "  'n_estimators': 500},\n",
       " {'max_depth': 10,\n",
       "  'min_samples_leaf': 1,\n",
       "  'min_samples_split': 2,\n",
       "  'n_estimators': 500},\n",
       " {'max_depth': 10,\n",
       "  'min_samples_leaf': 1,\n",
       "  'min_samples_split': 2,\n",
       "  'n_estimators': 600},\n",
       " {'max_depth': 10,\n",
       "  'min_samples_leaf': 1,\n",
       "  'min_samples_split': 2,\n",
       "  'n_estimators': 500},\n",
       " {'max_depth': 10,\n",
       "  'min_samples_leaf': 1,\n",
       "  'min_samples_split': 2,\n",
       "  'n_estimators': 500},\n",
       " {'max_depth': 10,\n",
       "  'min_samples_leaf': 1,\n",
       "  'min_samples_split': 2,\n",
       "  'n_estimators': 500},\n",
       " {'max_depth': 10,\n",
       "  'min_samples_leaf': 1,\n",
       "  'min_samples_split': 2,\n",
       "  'n_estimators': 500},\n",
       " {'max_depth': 10,\n",
       "  'min_samples_leaf': 1,\n",
       "  'min_samples_split': 2,\n",
       "  'n_estimators': 500},\n",
       " {'max_depth': 10,\n",
       "  'min_samples_leaf': 1,\n",
       "  'min_samples_split': 2,\n",
       "  'n_estimators': 500}]"
      ]
     },
     "execution_count": 689,
     "metadata": {},
     "output_type": "execute_result"
    }
   ],
   "source": [
    "grid_cv_best_param"
   ]
  },
  {
   "cell_type": "markdown",
   "metadata": {},
   "source": [
    "## Elimination of features"
   ]
  },
  {
   "cell_type": "code",
   "execution_count": 690,
   "metadata": {},
   "outputs": [
    {
     "data": {
      "text/plain": [
       "[feathers    0.152414\n",
       " eggs        0.134620\n",
       " hair        0.105448\n",
       " milk        0.096956\n",
       " legs        0.092963\n",
       " fins        0.077487\n",
       " breathes    0.071687\n",
       " backbone    0.058846\n",
       " toothed     0.057158\n",
       " tail        0.051609\n",
       " aquatic     0.037213\n",
       " airborne    0.032463\n",
       " predator    0.015006\n",
       " catsize     0.010668\n",
       " enomous     0.005329\n",
       " domestic    0.000134\n",
       " dtype: float64,\n",
       " feathers    0.144764\n",
       " milk        0.134720\n",
       " hair        0.104221\n",
       " legs        0.099208\n",
       " eggs        0.095447\n",
       " fins        0.078299\n",
       " breathes    0.074841\n",
       " toothed     0.067273\n",
       " backbone    0.055116\n",
       " tail        0.052252\n",
       " aquatic     0.040938\n",
       " airborne    0.027041\n",
       " predator    0.010475\n",
       " catsize     0.010280\n",
       " enomous     0.003922\n",
       " domestic    0.001205\n",
       " dtype: float64,\n",
       " milk        0.167271\n",
       " feathers    0.142783\n",
       " legs        0.103623\n",
       " eggs        0.084165\n",
       " breathes    0.079536\n",
       " hair        0.077049\n",
       " fins        0.075901\n",
       " backbone    0.069490\n",
       " toothed     0.068497\n",
       " tail        0.042489\n",
       " aquatic     0.032850\n",
       " airborne    0.025756\n",
       " predator    0.014799\n",
       " catsize     0.012243\n",
       " enomous     0.003483\n",
       " domestic    0.000063\n",
       " dtype: float64,\n",
       " feathers    0.155660\n",
       " milk        0.144977\n",
       " eggs        0.121240\n",
       " hair        0.089382\n",
       " legs        0.085569\n",
       " toothed     0.078745\n",
       " breathes    0.071578\n",
       " fins        0.061073\n",
       " tail        0.048718\n",
       " backbone    0.045616\n",
       " aquatic     0.041455\n",
       " airborne    0.023932\n",
       " predator    0.016311\n",
       " catsize     0.009995\n",
       " enomous     0.005547\n",
       " domestic    0.000204\n",
       " dtype: float64,\n",
       " feathers    0.154028\n",
       " milk        0.137766\n",
       " eggs        0.101455\n",
       " hair        0.096456\n",
       " fins        0.084880\n",
       " legs        0.082673\n",
       " toothed     0.080509\n",
       " breathes    0.068272\n",
       " backbone    0.066004\n",
       " aquatic     0.043017\n",
       " tail        0.028727\n",
       " airborne    0.027484\n",
       " predator    0.013786\n",
       " catsize     0.011757\n",
       " enomous     0.002933\n",
       " domestic    0.000252\n",
       " dtype: float64,\n",
       " feathers    0.157336\n",
       " milk        0.128714\n",
       " eggs        0.103793\n",
       " hair        0.097445\n",
       " legs        0.090268\n",
       " toothed     0.070201\n",
       " breathes    0.069045\n",
       " fins        0.065509\n",
       " backbone    0.062395\n",
       " aquatic     0.048259\n",
       " tail        0.043525\n",
       " airborne    0.034235\n",
       " catsize     0.014134\n",
       " predator    0.012954\n",
       " enomous     0.001790\n",
       " domestic    0.000397\n",
       " dtype: float64,\n",
       " milk        0.134793\n",
       " feathers    0.131691\n",
       " eggs        0.123032\n",
       " legs        0.097978\n",
       " hair        0.092308\n",
       " toothed     0.076590\n",
       " breathes    0.074400\n",
       " fins        0.068848\n",
       " tail        0.056372\n",
       " backbone    0.055942\n",
       " aquatic     0.043197\n",
       " airborne    0.019584\n",
       " predator    0.012659\n",
       " catsize     0.007523\n",
       " enomous     0.004721\n",
       " domestic    0.000363\n",
       " dtype: float64,\n",
       " milk        0.149650\n",
       " feathers    0.120352\n",
       " hair        0.118444\n",
       " legs        0.098942\n",
       " toothed     0.081113\n",
       " breathes    0.080294\n",
       " fins        0.063629\n",
       " eggs        0.063107\n",
       " backbone    0.060373\n",
       " aquatic     0.053016\n",
       " tail        0.048186\n",
       " airborne    0.039789\n",
       " predator    0.011309\n",
       " catsize     0.008093\n",
       " enomous     0.003314\n",
       " domestic    0.000391\n",
       " dtype: float64,\n",
       " milk        0.144821\n",
       " eggs        0.122752\n",
       " feathers    0.118011\n",
       " legs        0.103121\n",
       " hair        0.087768\n",
       " breathes    0.083075\n",
       " toothed     0.077056\n",
       " fins        0.062200\n",
       " backbone    0.059753\n",
       " tail        0.045607\n",
       " aquatic     0.038524\n",
       " airborne    0.029199\n",
       " predator    0.014798\n",
       " catsize     0.008191\n",
       " enomous     0.004780\n",
       " domestic    0.000343\n",
       " dtype: float64,\n",
       " milk        0.145161\n",
       " feathers    0.135129\n",
       " hair        0.114419\n",
       " legs        0.092250\n",
       " toothed     0.084060\n",
       " breathes    0.081451\n",
       " eggs        0.076383\n",
       " fins        0.069371\n",
       " backbone    0.063256\n",
       " tail        0.043233\n",
       " aquatic     0.038517\n",
       " airborne    0.030295\n",
       " predator    0.014007\n",
       " catsize     0.007849\n",
       " enomous     0.003214\n",
       " domestic    0.001404\n",
       " dtype: float64]"
      ]
     },
     "execution_count": 690,
     "metadata": {},
     "output_type": "execute_result"
    }
   ],
   "source": [
    "feature_importance"
   ]
  },
  {
   "cell_type": "markdown",
   "metadata": {},
   "source": [
    "From the figure above, we can see the less important features such as: cat_size, domestic, enomous. We can try eliminating it and see it will affect the accuracy. Moving forward, we will use the best parameters from the GridCV."
   ]
  },
  {
   "cell_type": "code",
   "execution_count": 691,
   "metadata": {},
   "outputs": [],
   "source": [
    "zoo_new = zoo[zoo.columns.difference(['cat_size', 'enomous', 'domestic'])]"
   ]
  },
  {
   "cell_type": "code",
   "execution_count": 692,
   "metadata": {
    "scrolled": true
   },
   "outputs": [
    {
     "name": "stdout",
     "output_type": "stream",
     "text": [
      "Accuracy = 93.55%.\n",
      "F1 Score = 0.92.\n",
      "Accuracy = 93.55%.\n",
      "F1 Score = 0.92.\n",
      "Accuracy = 93.55%.\n",
      "F1 Score = 0.92.\n",
      "Accuracy = 93.55%.\n",
      "F1 Score = 0.92.\n",
      "Accuracy = 93.55%.\n",
      "F1 Score = 0.92.\n",
      "Accuracy = 93.55%.\n",
      "F1 Score = 0.92.\n",
      "Accuracy = 93.55%.\n",
      "F1 Score = 0.92.\n",
      "Accuracy = 93.55%.\n",
      "F1 Score = 0.92.\n",
      "Accuracy = 93.55%.\n",
      "F1 Score = 0.92.\n",
      "Accuracy = 93.55%.\n",
      "F1 Score = 0.92.\n"
     ]
    }
   ],
   "source": [
    "for i in seedno:\n",
    "    clf_features = RandomForestClassifier(bootstrap= True, max_depth= 10, max_features= 'sqrt', min_samples_leaf= 1, min_samples_split= 2, n_estimators= 500, random_state = i)\n",
    "    EliminationFeatures(zoo_new[zoo_new.columns.difference(['class'])], zoo_new.loc[:, \"class\"], clf_features)\n",
    "\n"
   ]
  },
  {
   "cell_type": "code",
   "execution_count": 693,
   "metadata": {},
   "outputs": [
    {
     "data": {
      "text/plain": [
       "[(93.54838709677419, 0.9198751300728408),\n",
       " (93.54838709677419, 0.9208211143695015),\n",
       " (93.54838709677419, 0.9208211143695015),\n",
       " (93.54838709677419, 0.9208211143695015),\n",
       " (93.54838709677419, 0.9198751300728408),\n",
       " (93.54838709677419, 0.9208211143695015),\n",
       " (93.54838709677419, 0.9208211143695015),\n",
       " (93.54838709677419, 0.9198751300728408),\n",
       " (93.54838709677419, 0.9208211143695015),\n",
       " (93.54838709677419, 0.9208211143695015)]"
      ]
     },
     "execution_count": 693,
     "metadata": {},
     "output_type": "execute_result"
    }
   ],
   "source": [
    "elimination_features_accuracy"
   ]
  },
  {
   "cell_type": "code",
   "execution_count": 694,
   "metadata": {},
   "outputs": [
    {
     "name": "stdout",
     "output_type": "stream",
     "text": [
      "Average of the eliminated features accuracy for zoo dataset\n"
     ]
    },
    {
     "data": {
      "text/plain": [
       "93.54838709677418"
      ]
     },
     "execution_count": 694,
     "metadata": {},
     "output_type": "execute_result"
    }
   ],
   "source": [
    "print(\"Average of the eliminated features accuracy for zoo dataset\")\n",
    "summation = 0\n",
    "for i in range(0, len(elimination_features_accuracy)):\n",
    "    summation= summation + grid_cv_accuracy[i][0]\n",
    "summation/10"
   ]
  },
  {
   "cell_type": "code",
   "execution_count": 695,
   "metadata": {},
   "outputs": [
    {
     "name": "stdout",
     "output_type": "stream",
     "text": [
      "Average of the eliminated features f1 for zoo dataset\n"
     ]
    },
    {
     "data": {
      "text/plain": [
       "0.9206319175101694"
      ]
     },
     "execution_count": 695,
     "metadata": {},
     "output_type": "execute_result"
    }
   ],
   "source": [
    "print(\"Average of the eliminated features f1 for zoo dataset\")\n",
    "summation = 0\n",
    "for i in range(0, len(elimination_features_accuracy)):\n",
    "    summation= summation + grid_cv_accuracy[i][1]\n",
    "summation/10"
   ]
  },
  {
   "cell_type": "markdown",
   "metadata": {},
   "source": [
    "The average accuracy is lower than the Grid CV model."
   ]
  },
  {
   "cell_type": "markdown",
   "metadata": {},
   "source": [
    "# Monks"
   ]
  },
  {
   "cell_type": "code",
   "execution_count": 605,
   "metadata": {},
   "outputs": [],
   "source": [
    "base_accuracy = []\n",
    "grid_cv_accuracy = []\n",
    "feature_importance = []\n",
    "grid_cv_best_param = []\n",
    "elimination_features_accuracy = []"
   ]
  },
  {
   "cell_type": "code",
   "execution_count": 606,
   "metadata": {},
   "outputs": [
    {
     "name": "stdout",
     "output_type": "stream",
     "text": [
      "Parameters currently in use:\n",
      "\n",
      "{'bootstrap': True, 'ccp_alpha': 0.0, 'class_weight': None, 'criterion': 'gini', 'max_depth': None, 'max_features': 'sqrt', 'max_leaf_nodes': None, 'max_samples': None, 'min_impurity_decrease': 0.0, 'min_samples_leaf': 1, 'min_samples_split': 2, 'min_weight_fraction_leaf': 0.0, 'n_estimators': 100, 'n_jobs': None, 'oob_score': False, 'random_state': 1, 'verbose': 0, 'warm_start': False}\n",
      "Accuracy = 98.46%.\n",
      "F1 Score = 0.98.\n",
      "Parameters currently in use:\n",
      "\n",
      "{'bootstrap': True, 'ccp_alpha': 0.0, 'class_weight': None, 'criterion': 'gini', 'max_depth': None, 'max_features': 'sqrt', 'max_leaf_nodes': None, 'max_samples': None, 'min_impurity_decrease': 0.0, 'min_samples_leaf': 1, 'min_samples_split': 2, 'min_weight_fraction_leaf': 0.0, 'n_estimators': 100, 'n_jobs': None, 'oob_score': False, 'random_state': 12, 'verbose': 0, 'warm_start': False}\n",
      "Accuracy = 97.69%.\n",
      "F1 Score = 0.98.\n",
      "Parameters currently in use:\n",
      "\n",
      "{'bootstrap': True, 'ccp_alpha': 0.0, 'class_weight': None, 'criterion': 'gini', 'max_depth': None, 'max_features': 'sqrt', 'max_leaf_nodes': None, 'max_samples': None, 'min_impurity_decrease': 0.0, 'min_samples_leaf': 1, 'min_samples_split': 2, 'min_weight_fraction_leaf': 0.0, 'n_estimators': 100, 'n_jobs': None, 'oob_score': False, 'random_state': 123, 'verbose': 0, 'warm_start': False}\n",
      "Accuracy = 97.69%.\n",
      "F1 Score = 0.98.\n",
      "Parameters currently in use:\n",
      "\n",
      "{'bootstrap': True, 'ccp_alpha': 0.0, 'class_weight': None, 'criterion': 'gini', 'max_depth': None, 'max_features': 'sqrt', 'max_leaf_nodes': None, 'max_samples': None, 'min_impurity_decrease': 0.0, 'min_samples_leaf': 1, 'min_samples_split': 2, 'min_weight_fraction_leaf': 0.0, 'n_estimators': 100, 'n_jobs': None, 'oob_score': False, 'random_state': 1234, 'verbose': 0, 'warm_start': False}\n",
      "Accuracy = 98.46%.\n",
      "F1 Score = 0.98.\n",
      "Parameters currently in use:\n",
      "\n",
      "{'bootstrap': True, 'ccp_alpha': 0.0, 'class_weight': None, 'criterion': 'gini', 'max_depth': None, 'max_features': 'sqrt', 'max_leaf_nodes': None, 'max_samples': None, 'min_impurity_decrease': 0.0, 'min_samples_leaf': 1, 'min_samples_split': 2, 'min_weight_fraction_leaf': 0.0, 'n_estimators': 100, 'n_jobs': None, 'oob_score': False, 'random_state': 12345, 'verbose': 0, 'warm_start': False}\n",
      "Accuracy = 98.46%.\n",
      "F1 Score = 0.98.\n",
      "Parameters currently in use:\n",
      "\n",
      "{'bootstrap': True, 'ccp_alpha': 0.0, 'class_weight': None, 'criterion': 'gini', 'max_depth': None, 'max_features': 'sqrt', 'max_leaf_nodes': None, 'max_samples': None, 'min_impurity_decrease': 0.0, 'min_samples_leaf': 1, 'min_samples_split': 2, 'min_weight_fraction_leaf': 0.0, 'n_estimators': 100, 'n_jobs': None, 'oob_score': False, 'random_state': 123456, 'verbose': 0, 'warm_start': False}\n",
      "Accuracy = 97.69%.\n",
      "F1 Score = 0.98.\n",
      "Parameters currently in use:\n",
      "\n",
      "{'bootstrap': True, 'ccp_alpha': 0.0, 'class_weight': None, 'criterion': 'gini', 'max_depth': None, 'max_features': 'sqrt', 'max_leaf_nodes': None, 'max_samples': None, 'min_impurity_decrease': 0.0, 'min_samples_leaf': 1, 'min_samples_split': 2, 'min_weight_fraction_leaf': 0.0, 'n_estimators': 100, 'n_jobs': None, 'oob_score': False, 'random_state': 1234567, 'verbose': 0, 'warm_start': False}\n",
      "Accuracy = 97.69%.\n",
      "F1 Score = 0.98.\n",
      "Parameters currently in use:\n",
      "\n",
      "{'bootstrap': True, 'ccp_alpha': 0.0, 'class_weight': None, 'criterion': 'gini', 'max_depth': None, 'max_features': 'sqrt', 'max_leaf_nodes': None, 'max_samples': None, 'min_impurity_decrease': 0.0, 'min_samples_leaf': 1, 'min_samples_split': 2, 'min_weight_fraction_leaf': 0.0, 'n_estimators': 100, 'n_jobs': None, 'oob_score': False, 'random_state': 12345678, 'verbose': 0, 'warm_start': False}\n",
      "Accuracy = 98.46%.\n",
      "F1 Score = 0.98.\n",
      "Parameters currently in use:\n",
      "\n",
      "{'bootstrap': True, 'ccp_alpha': 0.0, 'class_weight': None, 'criterion': 'gini', 'max_depth': None, 'max_features': 'sqrt', 'max_leaf_nodes': None, 'max_samples': None, 'min_impurity_decrease': 0.0, 'min_samples_leaf': 1, 'min_samples_split': 2, 'min_weight_fraction_leaf': 0.0, 'n_estimators': 100, 'n_jobs': None, 'oob_score': False, 'random_state': 123456789, 'verbose': 0, 'warm_start': False}\n",
      "Accuracy = 97.69%.\n",
      "F1 Score = 0.98.\n",
      "Parameters currently in use:\n",
      "\n",
      "{'bootstrap': True, 'ccp_alpha': 0.0, 'class_weight': None, 'criterion': 'gini', 'max_depth': None, 'max_features': 'sqrt', 'max_leaf_nodes': None, 'max_samples': None, 'min_impurity_decrease': 0.0, 'min_samples_leaf': 1, 'min_samples_split': 2, 'min_weight_fraction_leaf': 0.0, 'n_estimators': 100, 'n_jobs': None, 'oob_score': False, 'random_state': 1234567890, 'verbose': 0, 'warm_start': False}\n",
      "Accuracy = 97.69%.\n",
      "F1 Score = 0.98.\n"
     ]
    }
   ],
   "source": [
    "X_train, X_test, y_train, y_test = train_test_split(monks.iloc[:, 0:(len(monks.columns)-1)], monks.iloc[:, -1], test_size=0.3, random_state = 42)\n",
    "\n",
    "for i in seedno:\n",
    "    RandomForestBaseModel(X_train, X_test, y_train, y_test, monks.columns[0:len(monks.columns)-1], i)\n",
    "    \n",
    "    "
   ]
  },
  {
   "cell_type": "code",
   "execution_count": 607,
   "metadata": {
    "scrolled": false
   },
   "outputs": [
    {
     "data": {
      "text/plain": [
       "[(98.46153846153847, 0.984626331922347),\n",
       " (97.6923076923077, 0.9769435897435897),\n",
       " (97.6923076923077, 0.9769435897435897),\n",
       " (98.46153846153847, 0.984626331922347),\n",
       " (98.46153846153847, 0.984626331922347),\n",
       " (97.6923076923077, 0.9769435897435897),\n",
       " (97.6923076923077, 0.9769435897435897),\n",
       " (98.46153846153847, 0.984626331922347),\n",
       " (97.6923076923077, 0.9769435897435897),\n",
       " (97.6923076923077, 0.9769435897435897)]"
      ]
     },
     "execution_count": 607,
     "metadata": {},
     "output_type": "execute_result"
    }
   ],
   "source": [
    "base_accuracy"
   ]
  },
  {
   "cell_type": "code",
   "execution_count": 608,
   "metadata": {
    "scrolled": true
   },
   "outputs": [
    {
     "name": "stdout",
     "output_type": "stream",
     "text": [
      "Average of the base accuracy for monks dataset\n"
     ]
    },
    {
     "data": {
      "text/plain": [
       "98.00000000000001"
      ]
     },
     "execution_count": 608,
     "metadata": {},
     "output_type": "execute_result"
    }
   ],
   "source": [
    "print(\"Average of the base accuracy for monks dataset\")\n",
    "summation = 0\n",
    "for i in range(0, len(base_accuracy)):\n",
    "    summation= summation + base_accuracy[i][0]\n",
    "summation/10"
   ]
  },
  {
   "cell_type": "code",
   "execution_count": 610,
   "metadata": {},
   "outputs": [
    {
     "name": "stdout",
     "output_type": "stream",
     "text": [
      "Average of the f1 score for monks dataset\n"
     ]
    },
    {
     "data": {
      "text/plain": [
       "0.9800166866150926"
      ]
     },
     "execution_count": 610,
     "metadata": {},
     "output_type": "execute_result"
    }
   ],
   "source": [
    "print(\"Average of the f1 score for monks dataset\")\n",
    "summation = 0\n",
    "for i in range(0, len(base_accuracy)):\n",
    "    summation= summation + base_accuracy[i][1]\n",
    "summation/10"
   ]
  },
  {
   "cell_type": "code",
   "execution_count": 609,
   "metadata": {
    "scrolled": true
   },
   "outputs": [
    {
     "name": "stdout",
     "output_type": "stream",
     "text": [
      "Fitting 3 folds for each of 81 candidates, totalling 243 fits\n",
      "Accuracy = 99.23%.\n",
      "F1 Score = 0.99.\n",
      "Fitting 3 folds for each of 81 candidates, totalling 243 fits\n",
      "Accuracy = 98.46%.\n",
      "F1 Score = 0.98.\n",
      "Fitting 3 folds for each of 81 candidates, totalling 243 fits\n",
      "Accuracy = 98.46%.\n",
      "F1 Score = 0.98.\n",
      "Fitting 3 folds for each of 81 candidates, totalling 243 fits\n",
      "Accuracy = 99.23%.\n",
      "F1 Score = 0.99.\n",
      "Fitting 3 folds for each of 81 candidates, totalling 243 fits\n",
      "Accuracy = 97.69%.\n",
      "F1 Score = 0.98.\n",
      "Fitting 3 folds for each of 81 candidates, totalling 243 fits\n",
      "Accuracy = 98.46%.\n",
      "F1 Score = 0.98.\n",
      "Fitting 3 folds for each of 81 candidates, totalling 243 fits\n",
      "Accuracy = 97.69%.\n",
      "F1 Score = 0.98.\n",
      "Fitting 3 folds for each of 81 candidates, totalling 243 fits\n",
      "Accuracy = 99.23%.\n",
      "F1 Score = 0.99.\n",
      "Fitting 3 folds for each of 81 candidates, totalling 243 fits\n",
      "Accuracy = 98.46%.\n",
      "F1 Score = 0.98.\n",
      "Fitting 3 folds for each of 81 candidates, totalling 243 fits\n",
      "Accuracy = 97.69%.\n",
      "F1 Score = 0.98.\n"
     ]
    }
   ],
   "source": [
    "for i in seedno:\n",
    "    RandomForestGridCV(X_train, X_test, y_train, y_test, param_grid, i)"
   ]
  },
  {
   "cell_type": "code",
   "execution_count": 615,
   "metadata": {},
   "outputs": [
    {
     "data": {
      "text/plain": [
       "[(99.23076923076923, 0.9923108877354917),\n",
       " (98.46153846153847, 0.984626331922347),\n",
       " (98.46153846153847, 0.984626331922347),\n",
       " (99.23076923076923, 0.9923108877354917),\n",
       " (97.6923076923077, 0.9769435897435897),\n",
       " (98.46153846153847, 0.984626331922347),\n",
       " (97.6923076923077, 0.9769435897435897),\n",
       " (99.23076923076923, 0.9923108877354917),\n",
       " (98.46153846153847, 0.984626331922347),\n",
       " (97.6923076923077, 0.9769435897435897)]"
      ]
     },
     "execution_count": 615,
     "metadata": {},
     "output_type": "execute_result"
    }
   ],
   "source": [
    "grid_cv_accuracy"
   ]
  },
  {
   "cell_type": "code",
   "execution_count": 611,
   "metadata": {},
   "outputs": [
    {
     "name": "stdout",
     "output_type": "stream",
     "text": [
      "Average of the gridcv accuracy for monks dataset\n"
     ]
    },
    {
     "data": {
      "text/plain": [
       "98.46153846153848"
      ]
     },
     "execution_count": 611,
     "metadata": {},
     "output_type": "execute_result"
    }
   ],
   "source": [
    "print(\"Average of the gridcv accuracy for monks dataset\")\n",
    "summation = 0\n",
    "for i in range(0, len(grid_cv_accuracy)):\n",
    "    summation= summation + grid_cv_accuracy[i][0]\n",
    "summation/10"
   ]
  },
  {
   "cell_type": "code",
   "execution_count": 612,
   "metadata": {},
   "outputs": [
    {
     "name": "stdout",
     "output_type": "stream",
     "text": [
      "Average of the gridcv f1 for monks dataset\n"
     ]
    },
    {
     "data": {
      "text/plain": [
       "0.9846268760126632"
      ]
     },
     "execution_count": 612,
     "metadata": {},
     "output_type": "execute_result"
    }
   ],
   "source": [
    "print(\"Average of the gridcv f1 for monks dataset\")\n",
    "summation = 0\n",
    "for i in range(0, len(grid_cv_accuracy)):\n",
    "    summation= summation + grid_cv_accuracy[i][1]\n",
    "summation/10"
   ]
  },
  {
   "cell_type": "code",
   "execution_count": 437,
   "metadata": {
    "scrolled": true
   },
   "outputs": [
    {
     "data": {
      "text/plain": [
       "[{'max_depth': 20,\n",
       "  'min_samples_leaf': 1,\n",
       "  'min_samples_split': 2,\n",
       "  'n_estimators': 500},\n",
       " {'max_depth': 10,\n",
       "  'min_samples_leaf': 1,\n",
       "  'min_samples_split': 2,\n",
       "  'n_estimators': 600},\n",
       " {'max_depth': 10,\n",
       "  'min_samples_leaf': 1,\n",
       "  'min_samples_split': 2,\n",
       "  'n_estimators': 500},\n",
       " {'max_depth': 10,\n",
       "  'min_samples_leaf': 1,\n",
       "  'min_samples_split': 2,\n",
       "  'n_estimators': 600},\n",
       " {'max_depth': 10,\n",
       "  'min_samples_leaf': 1,\n",
       "  'min_samples_split': 2,\n",
       "  'n_estimators': 600},\n",
       " {'max_depth': 10,\n",
       "  'min_samples_leaf': 1,\n",
       "  'min_samples_split': 2,\n",
       "  'n_estimators': 600},\n",
       " {'max_depth': 10,\n",
       "  'min_samples_leaf': 1,\n",
       "  'min_samples_split': 2,\n",
       "  'n_estimators': 500},\n",
       " {'max_depth': 10,\n",
       "  'min_samples_leaf': 1,\n",
       "  'min_samples_split': 2,\n",
       "  'n_estimators': 500},\n",
       " {'max_depth': 20,\n",
       "  'min_samples_leaf': 1,\n",
       "  'min_samples_split': 2,\n",
       "  'n_estimators': 500},\n",
       " {'max_depth': 10,\n",
       "  'min_samples_leaf': 1,\n",
       "  'min_samples_split': 2,\n",
       "  'n_estimators': 500}]"
      ]
     },
     "execution_count": 437,
     "metadata": {},
     "output_type": "execute_result"
    }
   ],
   "source": [
    "grid_cv_best_param"
   ]
  },
  {
   "cell_type": "markdown",
   "metadata": {},
   "source": [
    "## Elimination of features"
   ]
  },
  {
   "cell_type": "code",
   "execution_count": 613,
   "metadata": {},
   "outputs": [
    {
     "data": {
      "text/plain": [
       "[a5    0.395959\n",
       " a1    0.302538\n",
       " a2    0.225102\n",
       " a4    0.033950\n",
       " a3    0.021898\n",
       " a6    0.020553\n",
       " dtype: float64,\n",
       " a5    0.386198\n",
       " a1    0.281249\n",
       " a2    0.248479\n",
       " a4    0.041405\n",
       " a6    0.021940\n",
       " a3    0.020728\n",
       " dtype: float64,\n",
       " a5    0.391711\n",
       " a1    0.285761\n",
       " a2    0.240424\n",
       " a4    0.035836\n",
       " a6    0.026132\n",
       " a3    0.020136\n",
       " dtype: float64,\n",
       " a5    0.393514\n",
       " a1    0.293169\n",
       " a2    0.241968\n",
       " a4    0.032946\n",
       " a6    0.019236\n",
       " a3    0.019167\n",
       " dtype: float64,\n",
       " a5    0.394821\n",
       " a1    0.287249\n",
       " a2    0.238908\n",
       " a4    0.035794\n",
       " a6    0.022658\n",
       " a3    0.020569\n",
       " dtype: float64,\n",
       " a5    0.389764\n",
       " a1    0.300328\n",
       " a2    0.230966\n",
       " a4    0.035740\n",
       " a3    0.022566\n",
       " a6    0.020634\n",
       " dtype: float64,\n",
       " a5    0.396735\n",
       " a1    0.279645\n",
       " a2    0.243736\n",
       " a4    0.036432\n",
       " a6    0.023878\n",
       " a3    0.019573\n",
       " dtype: float64,\n",
       " a5    0.386849\n",
       " a1    0.286689\n",
       " a2    0.246126\n",
       " a4    0.038752\n",
       " a3    0.021124\n",
       " a6    0.020461\n",
       " dtype: float64,\n",
       " a5    0.392917\n",
       " a1    0.286085\n",
       " a2    0.234357\n",
       " a4    0.039861\n",
       " a6    0.024442\n",
       " a3    0.022338\n",
       " dtype: float64,\n",
       " a5    0.394295\n",
       " a2    0.265208\n",
       " a1    0.261489\n",
       " a4    0.037527\n",
       " a6    0.022702\n",
       " a3    0.018778\n",
       " dtype: float64]"
      ]
     },
     "execution_count": 613,
     "metadata": {},
     "output_type": "execute_result"
    }
   ],
   "source": [
    "feature_importance"
   ]
  },
  {
   "cell_type": "markdown",
   "metadata": {},
   "source": [
    "We can eliminate less impt features like a3, a6 and a4."
   ]
  },
  {
   "cell_type": "code",
   "execution_count": 614,
   "metadata": {},
   "outputs": [],
   "source": [
    "monks_new = monks[monks.columns.difference(['a3', 'a6', 'a4'])]"
   ]
  },
  {
   "cell_type": "code",
   "execution_count": 616,
   "metadata": {},
   "outputs": [
    {
     "name": "stdout",
     "output_type": "stream",
     "text": [
      "Accuracy = 100.00%.\n",
      "F1 Score = 1.00.\n",
      "Accuracy = 100.00%.\n",
      "F1 Score = 1.00.\n",
      "Accuracy = 100.00%.\n",
      "F1 Score = 1.00.\n",
      "Accuracy = 100.00%.\n",
      "F1 Score = 1.00.\n",
      "Accuracy = 100.00%.\n",
      "F1 Score = 1.00.\n",
      "Accuracy = 100.00%.\n",
      "F1 Score = 1.00.\n",
      "Accuracy = 100.00%.\n",
      "F1 Score = 1.00.\n",
      "Accuracy = 100.00%.\n",
      "F1 Score = 1.00.\n",
      "Accuracy = 100.00%.\n",
      "F1 Score = 1.00.\n",
      "Accuracy = 100.00%.\n",
      "F1 Score = 1.00.\n"
     ]
    }
   ],
   "source": [
    "for i in seedno:\n",
    "    clf_features = RandomForestClassifier(bootstrap= True, max_depth= 20, max_features= 'sqrt', min_samples_leaf= 1, min_samples_split= 2, n_estimators= 500, random_state = i)\n",
    "    EliminationFeatures(monks_new[monks_new.columns.difference(['class'])], monks_new.loc[:, \"class\"], clf_features)"
   ]
  },
  {
   "cell_type": "markdown",
   "metadata": {},
   "source": [
    "# Messidor"
   ]
  },
  {
   "cell_type": "code",
   "execution_count": 617,
   "metadata": {},
   "outputs": [],
   "source": [
    "base_accuracy = []\n",
    "grid_cv_accuracy = []\n",
    "feature_importance = []\n",
    "grid_cv_best_param = []\n",
    "elimination_features_accuracy = []"
   ]
  },
  {
   "cell_type": "code",
   "execution_count": 618,
   "metadata": {},
   "outputs": [
    {
     "data": {
      "text/html": [
       "<div>\n",
       "<style scoped>\n",
       "    .dataframe tbody tr th:only-of-type {\n",
       "        vertical-align: middle;\n",
       "    }\n",
       "\n",
       "    .dataframe tbody tr th {\n",
       "        vertical-align: top;\n",
       "    }\n",
       "\n",
       "    .dataframe thead th {\n",
       "        text-align: right;\n",
       "    }\n",
       "</style>\n",
       "<table border=\"1\" class=\"dataframe\">\n",
       "  <thead>\n",
       "    <tr style=\"text-align: right;\">\n",
       "      <th></th>\n",
       "      <th>quality assessment</th>\n",
       "      <th>pre-screening</th>\n",
       "      <th>MA detection 1</th>\n",
       "      <th>MA detection 2</th>\n",
       "      <th>MA detection 3</th>\n",
       "      <th>MA detection 4</th>\n",
       "      <th>MA detection 5</th>\n",
       "      <th>MA detection 6</th>\n",
       "      <th>exudates info 1</th>\n",
       "      <th>exudates info 2</th>\n",
       "      <th>exudates info 3</th>\n",
       "      <th>exudates info 4</th>\n",
       "      <th>exudates info 5</th>\n",
       "      <th>exudates info 6</th>\n",
       "      <th>exudates info 7</th>\n",
       "      <th>exudates info 8</th>\n",
       "      <th>distance</th>\n",
       "      <th>diameter</th>\n",
       "      <th>result of the AM/FM-based classification</th>\n",
       "      <th>class</th>\n",
       "    </tr>\n",
       "  </thead>\n",
       "  <tbody>\n",
       "    <tr>\n",
       "      <th>0</th>\n",
       "      <td>1</td>\n",
       "      <td>1</td>\n",
       "      <td>22</td>\n",
       "      <td>22</td>\n",
       "      <td>22</td>\n",
       "      <td>19</td>\n",
       "      <td>18</td>\n",
       "      <td>14</td>\n",
       "      <td>49.895756</td>\n",
       "      <td>17.775994</td>\n",
       "      <td>5.270920</td>\n",
       "      <td>0.771761</td>\n",
       "      <td>0.018632</td>\n",
       "      <td>0.006864</td>\n",
       "      <td>0.003923</td>\n",
       "      <td>0.003923</td>\n",
       "      <td>0.486903</td>\n",
       "      <td>0.100025</td>\n",
       "      <td>1</td>\n",
       "      <td>0</td>\n",
       "    </tr>\n",
       "    <tr>\n",
       "      <th>1</th>\n",
       "      <td>1</td>\n",
       "      <td>1</td>\n",
       "      <td>24</td>\n",
       "      <td>24</td>\n",
       "      <td>22</td>\n",
       "      <td>18</td>\n",
       "      <td>16</td>\n",
       "      <td>13</td>\n",
       "      <td>57.709936</td>\n",
       "      <td>23.799994</td>\n",
       "      <td>3.325423</td>\n",
       "      <td>0.234185</td>\n",
       "      <td>0.003903</td>\n",
       "      <td>0.003903</td>\n",
       "      <td>0.003903</td>\n",
       "      <td>0.003903</td>\n",
       "      <td>0.520908</td>\n",
       "      <td>0.144414</td>\n",
       "      <td>0</td>\n",
       "      <td>0</td>\n",
       "    </tr>\n",
       "    <tr>\n",
       "      <th>2</th>\n",
       "      <td>1</td>\n",
       "      <td>1</td>\n",
       "      <td>62</td>\n",
       "      <td>60</td>\n",
       "      <td>59</td>\n",
       "      <td>54</td>\n",
       "      <td>47</td>\n",
       "      <td>33</td>\n",
       "      <td>55.831441</td>\n",
       "      <td>27.993933</td>\n",
       "      <td>12.687485</td>\n",
       "      <td>4.852282</td>\n",
       "      <td>1.393889</td>\n",
       "      <td>0.373252</td>\n",
       "      <td>0.041817</td>\n",
       "      <td>0.007744</td>\n",
       "      <td>0.530904</td>\n",
       "      <td>0.128548</td>\n",
       "      <td>0</td>\n",
       "      <td>1</td>\n",
       "    </tr>\n",
       "    <tr>\n",
       "      <th>3</th>\n",
       "      <td>1</td>\n",
       "      <td>1</td>\n",
       "      <td>55</td>\n",
       "      <td>53</td>\n",
       "      <td>53</td>\n",
       "      <td>50</td>\n",
       "      <td>43</td>\n",
       "      <td>31</td>\n",
       "      <td>40.467228</td>\n",
       "      <td>18.445954</td>\n",
       "      <td>9.118901</td>\n",
       "      <td>3.079428</td>\n",
       "      <td>0.840261</td>\n",
       "      <td>0.272434</td>\n",
       "      <td>0.007653</td>\n",
       "      <td>0.001531</td>\n",
       "      <td>0.483284</td>\n",
       "      <td>0.114790</td>\n",
       "      <td>0</td>\n",
       "      <td>0</td>\n",
       "    </tr>\n",
       "    <tr>\n",
       "      <th>4</th>\n",
       "      <td>1</td>\n",
       "      <td>1</td>\n",
       "      <td>44</td>\n",
       "      <td>44</td>\n",
       "      <td>44</td>\n",
       "      <td>41</td>\n",
       "      <td>39</td>\n",
       "      <td>27</td>\n",
       "      <td>18.026254</td>\n",
       "      <td>8.570709</td>\n",
       "      <td>0.410381</td>\n",
       "      <td>0.000000</td>\n",
       "      <td>0.000000</td>\n",
       "      <td>0.000000</td>\n",
       "      <td>0.000000</td>\n",
       "      <td>0.000000</td>\n",
       "      <td>0.475935</td>\n",
       "      <td>0.123572</td>\n",
       "      <td>0</td>\n",
       "      <td>1</td>\n",
       "    </tr>\n",
       "    <tr>\n",
       "      <th>...</th>\n",
       "      <td>...</td>\n",
       "      <td>...</td>\n",
       "      <td>...</td>\n",
       "      <td>...</td>\n",
       "      <td>...</td>\n",
       "      <td>...</td>\n",
       "      <td>...</td>\n",
       "      <td>...</td>\n",
       "      <td>...</td>\n",
       "      <td>...</td>\n",
       "      <td>...</td>\n",
       "      <td>...</td>\n",
       "      <td>...</td>\n",
       "      <td>...</td>\n",
       "      <td>...</td>\n",
       "      <td>...</td>\n",
       "      <td>...</td>\n",
       "      <td>...</td>\n",
       "      <td>...</td>\n",
       "      <td>...</td>\n",
       "    </tr>\n",
       "    <tr>\n",
       "      <th>1146</th>\n",
       "      <td>1</td>\n",
       "      <td>1</td>\n",
       "      <td>34</td>\n",
       "      <td>34</td>\n",
       "      <td>34</td>\n",
       "      <td>33</td>\n",
       "      <td>31</td>\n",
       "      <td>24</td>\n",
       "      <td>6.071765</td>\n",
       "      <td>0.937472</td>\n",
       "      <td>0.031145</td>\n",
       "      <td>0.003115</td>\n",
       "      <td>0.000000</td>\n",
       "      <td>0.000000</td>\n",
       "      <td>0.000000</td>\n",
       "      <td>0.000000</td>\n",
       "      <td>0.537470</td>\n",
       "      <td>0.116795</td>\n",
       "      <td>0</td>\n",
       "      <td>0</td>\n",
       "    </tr>\n",
       "    <tr>\n",
       "      <th>1147</th>\n",
       "      <td>1</td>\n",
       "      <td>1</td>\n",
       "      <td>49</td>\n",
       "      <td>49</td>\n",
       "      <td>49</td>\n",
       "      <td>49</td>\n",
       "      <td>45</td>\n",
       "      <td>37</td>\n",
       "      <td>63.197145</td>\n",
       "      <td>27.377668</td>\n",
       "      <td>8.067688</td>\n",
       "      <td>0.979548</td>\n",
       "      <td>0.001552</td>\n",
       "      <td>0.000000</td>\n",
       "      <td>0.000000</td>\n",
       "      <td>0.000000</td>\n",
       "      <td>0.516733</td>\n",
       "      <td>0.124190</td>\n",
       "      <td>0</td>\n",
       "      <td>0</td>\n",
       "    </tr>\n",
       "    <tr>\n",
       "      <th>1148</th>\n",
       "      <td>1</td>\n",
       "      <td>0</td>\n",
       "      <td>49</td>\n",
       "      <td>48</td>\n",
       "      <td>48</td>\n",
       "      <td>45</td>\n",
       "      <td>43</td>\n",
       "      <td>33</td>\n",
       "      <td>30.461898</td>\n",
       "      <td>13.966980</td>\n",
       "      <td>1.763305</td>\n",
       "      <td>0.137858</td>\n",
       "      <td>0.011221</td>\n",
       "      <td>0.000000</td>\n",
       "      <td>0.000000</td>\n",
       "      <td>0.000000</td>\n",
       "      <td>0.560632</td>\n",
       "      <td>0.129843</td>\n",
       "      <td>0</td>\n",
       "      <td>0</td>\n",
       "    </tr>\n",
       "    <tr>\n",
       "      <th>1149</th>\n",
       "      <td>1</td>\n",
       "      <td>1</td>\n",
       "      <td>39</td>\n",
       "      <td>36</td>\n",
       "      <td>29</td>\n",
       "      <td>23</td>\n",
       "      <td>13</td>\n",
       "      <td>7</td>\n",
       "      <td>40.525739</td>\n",
       "      <td>12.604947</td>\n",
       "      <td>4.740919</td>\n",
       "      <td>1.077570</td>\n",
       "      <td>0.563518</td>\n",
       "      <td>0.326860</td>\n",
       "      <td>0.239568</td>\n",
       "      <td>0.174584</td>\n",
       "      <td>0.485972</td>\n",
       "      <td>0.106690</td>\n",
       "      <td>1</td>\n",
       "      <td>1</td>\n",
       "    </tr>\n",
       "    <tr>\n",
       "      <th>1150</th>\n",
       "      <td>1</td>\n",
       "      <td>1</td>\n",
       "      <td>7</td>\n",
       "      <td>7</td>\n",
       "      <td>7</td>\n",
       "      <td>7</td>\n",
       "      <td>7</td>\n",
       "      <td>5</td>\n",
       "      <td>69.423565</td>\n",
       "      <td>7.031843</td>\n",
       "      <td>1.750548</td>\n",
       "      <td>0.046597</td>\n",
       "      <td>0.021180</td>\n",
       "      <td>0.008472</td>\n",
       "      <td>0.000000</td>\n",
       "      <td>0.000000</td>\n",
       "      <td>0.556192</td>\n",
       "      <td>0.088957</td>\n",
       "      <td>0</td>\n",
       "      <td>0</td>\n",
       "    </tr>\n",
       "  </tbody>\n",
       "</table>\n",
       "<p>1151 rows × 20 columns</p>\n",
       "</div>"
      ],
      "text/plain": [
       "      quality assessment  pre-screening  MA detection 1  MA detection 2  \\\n",
       "0                      1              1              22              22   \n",
       "1                      1              1              24              24   \n",
       "2                      1              1              62              60   \n",
       "3                      1              1              55              53   \n",
       "4                      1              1              44              44   \n",
       "...                  ...            ...             ...             ...   \n",
       "1146                   1              1              34              34   \n",
       "1147                   1              1              49              49   \n",
       "1148                   1              0              49              48   \n",
       "1149                   1              1              39              36   \n",
       "1150                   1              1               7               7   \n",
       "\n",
       "      MA detection 3  MA detection 4  MA detection 5  MA detection 6  \\\n",
       "0                 22              19              18              14   \n",
       "1                 22              18              16              13   \n",
       "2                 59              54              47              33   \n",
       "3                 53              50              43              31   \n",
       "4                 44              41              39              27   \n",
       "...              ...             ...             ...             ...   \n",
       "1146              34              33              31              24   \n",
       "1147              49              49              45              37   \n",
       "1148              48              45              43              33   \n",
       "1149              29              23              13               7   \n",
       "1150               7               7               7               5   \n",
       "\n",
       "      exudates info 1  exudates info 2  exudates info 3  exudates info 4  \\\n",
       "0           49.895756        17.775994         5.270920         0.771761   \n",
       "1           57.709936        23.799994         3.325423         0.234185   \n",
       "2           55.831441        27.993933        12.687485         4.852282   \n",
       "3           40.467228        18.445954         9.118901         3.079428   \n",
       "4           18.026254         8.570709         0.410381         0.000000   \n",
       "...               ...              ...              ...              ...   \n",
       "1146         6.071765         0.937472         0.031145         0.003115   \n",
       "1147        63.197145        27.377668         8.067688         0.979548   \n",
       "1148        30.461898        13.966980         1.763305         0.137858   \n",
       "1149        40.525739        12.604947         4.740919         1.077570   \n",
       "1150        69.423565         7.031843         1.750548         0.046597   \n",
       "\n",
       "      exudates info 5  exudates info 6  exudates info 7  exudates info 8  \\\n",
       "0            0.018632         0.006864         0.003923         0.003923   \n",
       "1            0.003903         0.003903         0.003903         0.003903   \n",
       "2            1.393889         0.373252         0.041817         0.007744   \n",
       "3            0.840261         0.272434         0.007653         0.001531   \n",
       "4            0.000000         0.000000         0.000000         0.000000   \n",
       "...               ...              ...              ...              ...   \n",
       "1146         0.000000         0.000000         0.000000         0.000000   \n",
       "1147         0.001552         0.000000         0.000000         0.000000   \n",
       "1148         0.011221         0.000000         0.000000         0.000000   \n",
       "1149         0.563518         0.326860         0.239568         0.174584   \n",
       "1150         0.021180         0.008472         0.000000         0.000000   \n",
       "\n",
       "      distance  diameter  result of the AM/FM-based classification  class  \n",
       "0     0.486903  0.100025                                         1      0  \n",
       "1     0.520908  0.144414                                         0      0  \n",
       "2     0.530904  0.128548                                         0      1  \n",
       "3     0.483284  0.114790                                         0      0  \n",
       "4     0.475935  0.123572                                         0      1  \n",
       "...        ...       ...                                       ...    ...  \n",
       "1146  0.537470  0.116795                                         0      0  \n",
       "1147  0.516733  0.124190                                         0      0  \n",
       "1148  0.560632  0.129843                                         0      0  \n",
       "1149  0.485972  0.106690                                         1      1  \n",
       "1150  0.556192  0.088957                                         0      0  \n",
       "\n",
       "[1151 rows x 20 columns]"
      ]
     },
     "execution_count": 618,
     "metadata": {},
     "output_type": "execute_result"
    }
   ],
   "source": [
    "messidor"
   ]
  },
  {
   "cell_type": "code",
   "execution_count": 619,
   "metadata": {
    "scrolled": true
   },
   "outputs": [
    {
     "name": "stdout",
     "output_type": "stream",
     "text": [
      "Parameters currently in use:\n",
      "\n",
      "{'bootstrap': True, 'ccp_alpha': 0.0, 'class_weight': None, 'criterion': 'gini', 'max_depth': None, 'max_features': 'sqrt', 'max_leaf_nodes': None, 'max_samples': None, 'min_impurity_decrease': 0.0, 'min_samples_leaf': 1, 'min_samples_split': 2, 'min_weight_fraction_leaf': 0.0, 'n_estimators': 100, 'n_jobs': None, 'oob_score': False, 'random_state': 1, 'verbose': 0, 'warm_start': False}\n",
      "Accuracy = 68.50%.\n",
      "F1 Score = 0.68.\n",
      "Parameters currently in use:\n",
      "\n",
      "{'bootstrap': True, 'ccp_alpha': 0.0, 'class_weight': None, 'criterion': 'gini', 'max_depth': None, 'max_features': 'sqrt', 'max_leaf_nodes': None, 'max_samples': None, 'min_impurity_decrease': 0.0, 'min_samples_leaf': 1, 'min_samples_split': 2, 'min_weight_fraction_leaf': 0.0, 'n_estimators': 100, 'n_jobs': None, 'oob_score': False, 'random_state': 12, 'verbose': 0, 'warm_start': False}\n",
      "Accuracy = 67.92%.\n",
      "F1 Score = 0.68.\n",
      "Parameters currently in use:\n",
      "\n",
      "{'bootstrap': True, 'ccp_alpha': 0.0, 'class_weight': None, 'criterion': 'gini', 'max_depth': None, 'max_features': 'sqrt', 'max_leaf_nodes': None, 'max_samples': None, 'min_impurity_decrease': 0.0, 'min_samples_leaf': 1, 'min_samples_split': 2, 'min_weight_fraction_leaf': 0.0, 'n_estimators': 100, 'n_jobs': None, 'oob_score': False, 'random_state': 123, 'verbose': 0, 'warm_start': False}\n",
      "Accuracy = 69.08%.\n",
      "F1 Score = 0.69.\n",
      "Parameters currently in use:\n",
      "\n",
      "{'bootstrap': True, 'ccp_alpha': 0.0, 'class_weight': None, 'criterion': 'gini', 'max_depth': None, 'max_features': 'sqrt', 'max_leaf_nodes': None, 'max_samples': None, 'min_impurity_decrease': 0.0, 'min_samples_leaf': 1, 'min_samples_split': 2, 'min_weight_fraction_leaf': 0.0, 'n_estimators': 100, 'n_jobs': None, 'oob_score': False, 'random_state': 1234, 'verbose': 0, 'warm_start': False}\n",
      "Accuracy = 69.36%.\n",
      "F1 Score = 0.69.\n",
      "Parameters currently in use:\n",
      "\n",
      "{'bootstrap': True, 'ccp_alpha': 0.0, 'class_weight': None, 'criterion': 'gini', 'max_depth': None, 'max_features': 'sqrt', 'max_leaf_nodes': None, 'max_samples': None, 'min_impurity_decrease': 0.0, 'min_samples_leaf': 1, 'min_samples_split': 2, 'min_weight_fraction_leaf': 0.0, 'n_estimators': 100, 'n_jobs': None, 'oob_score': False, 'random_state': 12345, 'verbose': 0, 'warm_start': False}\n",
      "Accuracy = 69.08%.\n",
      "F1 Score = 0.69.\n",
      "Parameters currently in use:\n",
      "\n",
      "{'bootstrap': True, 'ccp_alpha': 0.0, 'class_weight': None, 'criterion': 'gini', 'max_depth': None, 'max_features': 'sqrt', 'max_leaf_nodes': None, 'max_samples': None, 'min_impurity_decrease': 0.0, 'min_samples_leaf': 1, 'min_samples_split': 2, 'min_weight_fraction_leaf': 0.0, 'n_estimators': 100, 'n_jobs': None, 'oob_score': False, 'random_state': 123456, 'verbose': 0, 'warm_start': False}\n",
      "Accuracy = 69.94%.\n",
      "F1 Score = 0.70.\n",
      "Parameters currently in use:\n",
      "\n",
      "{'bootstrap': True, 'ccp_alpha': 0.0, 'class_weight': None, 'criterion': 'gini', 'max_depth': None, 'max_features': 'sqrt', 'max_leaf_nodes': None, 'max_samples': None, 'min_impurity_decrease': 0.0, 'min_samples_leaf': 1, 'min_samples_split': 2, 'min_weight_fraction_leaf': 0.0, 'n_estimators': 100, 'n_jobs': None, 'oob_score': False, 'random_state': 1234567, 'verbose': 0, 'warm_start': False}\n",
      "Accuracy = 68.50%.\n",
      "F1 Score = 0.69.\n",
      "Parameters currently in use:\n",
      "\n",
      "{'bootstrap': True, 'ccp_alpha': 0.0, 'class_weight': None, 'criterion': 'gini', 'max_depth': None, 'max_features': 'sqrt', 'max_leaf_nodes': None, 'max_samples': None, 'min_impurity_decrease': 0.0, 'min_samples_leaf': 1, 'min_samples_split': 2, 'min_weight_fraction_leaf': 0.0, 'n_estimators': 100, 'n_jobs': None, 'oob_score': False, 'random_state': 12345678, 'verbose': 0, 'warm_start': False}\n",
      "Accuracy = 68.79%.\n",
      "F1 Score = 0.69.\n",
      "Parameters currently in use:\n",
      "\n",
      "{'bootstrap': True, 'ccp_alpha': 0.0, 'class_weight': None, 'criterion': 'gini', 'max_depth': None, 'max_features': 'sqrt', 'max_leaf_nodes': None, 'max_samples': None, 'min_impurity_decrease': 0.0, 'min_samples_leaf': 1, 'min_samples_split': 2, 'min_weight_fraction_leaf': 0.0, 'n_estimators': 100, 'n_jobs': None, 'oob_score': False, 'random_state': 123456789, 'verbose': 0, 'warm_start': False}\n",
      "Accuracy = 71.68%.\n",
      "F1 Score = 0.72.\n",
      "Parameters currently in use:\n",
      "\n",
      "{'bootstrap': True, 'ccp_alpha': 0.0, 'class_weight': None, 'criterion': 'gini', 'max_depth': None, 'max_features': 'sqrt', 'max_leaf_nodes': None, 'max_samples': None, 'min_impurity_decrease': 0.0, 'min_samples_leaf': 1, 'min_samples_split': 2, 'min_weight_fraction_leaf': 0.0, 'n_estimators': 100, 'n_jobs': None, 'oob_score': False, 'random_state': 1234567890, 'verbose': 0, 'warm_start': False}\n",
      "Accuracy = 68.79%.\n",
      "F1 Score = 0.69.\n"
     ]
    }
   ],
   "source": [
    "X_train, X_test, y_train, y_test = train_test_split(messidor.iloc[:, 0:(len(messidor.columns)-1)], messidor.iloc[:, -1], test_size=0.3, random_state = 42)\n",
    "\n",
    "for i in seedno:\n",
    "    RandomForestBaseModel(X_train, X_test, y_train, y_test, messidor.columns[0:len(messidor.columns)-1], i)\n",
    "    "
   ]
  },
  {
   "cell_type": "code",
   "execution_count": 620,
   "metadata": {
    "scrolled": true
   },
   "outputs": [
    {
     "data": {
      "text/plain": [
       "[(68.4971098265896, 0.684873733112288),\n",
       " (67.91907514450867, 0.6794560668870152),\n",
       " (69.07514450867052, 0.6911519223657953),\n",
       " (69.36416184971098, 0.6938156392297198),\n",
       " (69.07514450867052, 0.6912760463272094),\n",
       " (69.94219653179191, 0.6995927026404798),\n",
       " (68.4971098265896, 0.6850632004382277),\n",
       " (68.78612716763006, 0.6886130860957067),\n",
       " (71.67630057803468, 0.7171889972489258),\n",
       " (68.78612716763006, 0.6881950541092616)]"
      ]
     },
     "execution_count": 620,
     "metadata": {},
     "output_type": "execute_result"
    }
   ],
   "source": [
    "base_accuracy"
   ]
  },
  {
   "cell_type": "code",
   "execution_count": 627,
   "metadata": {},
   "outputs": [
    {
     "name": "stdout",
     "output_type": "stream",
     "text": [
      "Average accuracy for base for messidor\n"
     ]
    },
    {
     "data": {
      "text/plain": [
       "69.16184971098266"
      ]
     },
     "execution_count": 627,
     "metadata": {},
     "output_type": "execute_result"
    }
   ],
   "source": [
    "summation = 0\n",
    "for i in range(0, len(base_accuracy)):\n",
    "    summation = summation + base_accuracy[i][0]\n",
    "    \n",
    "print(\"Average accuracy for base for messidor\")\n",
    "summation/10"
   ]
  },
  {
   "cell_type": "code",
   "execution_count": 630,
   "metadata": {},
   "outputs": [
    {
     "name": "stdout",
     "output_type": "stream",
     "text": [
      "Average f1 for base for messidor\n"
     ]
    },
    {
     "data": {
      "text/plain": [
       "0.6919226448454628"
      ]
     },
     "execution_count": 630,
     "metadata": {},
     "output_type": "execute_result"
    }
   ],
   "source": [
    "summation = 0\n",
    "for i in range(0, len(base_accuracy)):\n",
    "    summation = summation + base_accuracy[i][1]\n",
    "    \n",
    "print(\"Average f1 for base for messidor\")\n",
    "summation/10"
   ]
  },
  {
   "cell_type": "code",
   "execution_count": 628,
   "metadata": {},
   "outputs": [
    {
     "name": "stdout",
     "output_type": "stream",
     "text": [
      "Fitting 3 folds for each of 81 candidates, totalling 243 fits\n",
      "Accuracy = 70.81%.\n",
      "F1 Score = 0.71.\n",
      "Fitting 3 folds for each of 81 candidates, totalling 243 fits\n",
      "Accuracy = 70.23%.\n",
      "F1 Score = 0.70.\n",
      "Fitting 3 folds for each of 81 candidates, totalling 243 fits\n",
      "Accuracy = 69.36%.\n",
      "F1 Score = 0.69.\n",
      "Fitting 3 folds for each of 81 candidates, totalling 243 fits\n",
      "Accuracy = 70.81%.\n",
      "F1 Score = 0.71.\n",
      "Fitting 3 folds for each of 81 candidates, totalling 243 fits\n",
      "Accuracy = 71.10%.\n",
      "F1 Score = 0.71.\n",
      "Fitting 3 folds for each of 81 candidates, totalling 243 fits\n",
      "Accuracy = 68.79%.\n",
      "F1 Score = 0.69.\n",
      "Fitting 3 folds for each of 81 candidates, totalling 243 fits\n",
      "Accuracy = 69.65%.\n",
      "F1 Score = 0.70.\n",
      "Fitting 3 folds for each of 81 candidates, totalling 243 fits\n",
      "Accuracy = 69.94%.\n",
      "F1 Score = 0.70.\n",
      "Fitting 3 folds for each of 81 candidates, totalling 243 fits\n",
      "Accuracy = 70.81%.\n",
      "F1 Score = 0.71.\n",
      "Fitting 3 folds for each of 81 candidates, totalling 243 fits\n",
      "Accuracy = 69.94%.\n",
      "F1 Score = 0.70.\n"
     ]
    }
   ],
   "source": [
    "for i in seedno:\n",
    "    RandomForestGridCV(X_train, X_test, y_train, y_test, param_grid, i)"
   ]
  },
  {
   "cell_type": "code",
   "execution_count": 629,
   "metadata": {
    "scrolled": true
   },
   "outputs": [
    {
     "data": {
      "text/plain": [
       "[{'max_depth': 30,\n",
       "  'min_samples_leaf': 2,\n",
       "  'min_samples_split': 2,\n",
       "  'n_estimators': 500},\n",
       " {'max_depth': 30,\n",
       "  'min_samples_leaf': 1,\n",
       "  'min_samples_split': 2,\n",
       "  'n_estimators': 500},\n",
       " {'max_depth': 30,\n",
       "  'min_samples_leaf': 1,\n",
       "  'min_samples_split': 2,\n",
       "  'n_estimators': 500},\n",
       " {'max_depth': 10,\n",
       "  'min_samples_leaf': 2,\n",
       "  'min_samples_split': 5,\n",
       "  'n_estimators': 700},\n",
       " {'max_depth': 10,\n",
       "  'min_samples_leaf': 4,\n",
       "  'min_samples_split': 2,\n",
       "  'n_estimators': 700},\n",
       " {'max_depth': 10,\n",
       "  'min_samples_leaf': 1,\n",
       "  'min_samples_split': 2,\n",
       "  'n_estimators': 500},\n",
       " {'max_depth': 10,\n",
       "  'min_samples_leaf': 1,\n",
       "  'min_samples_split': 5,\n",
       "  'n_estimators': 500},\n",
       " {'max_depth': 30,\n",
       "  'min_samples_leaf': 1,\n",
       "  'min_samples_split': 2,\n",
       "  'n_estimators': 500},\n",
       " {'max_depth': 30,\n",
       "  'min_samples_leaf': 2,\n",
       "  'min_samples_split': 5,\n",
       "  'n_estimators': 600},\n",
       " {'max_depth': 20,\n",
       "  'min_samples_leaf': 2,\n",
       "  'min_samples_split': 2,\n",
       "  'n_estimators': 600}]"
      ]
     },
     "execution_count": 629,
     "metadata": {},
     "output_type": "execute_result"
    }
   ],
   "source": [
    "grid_cv_best_param"
   ]
  },
  {
   "cell_type": "code",
   "execution_count": 634,
   "metadata": {},
   "outputs": [
    {
     "data": {
      "text/plain": [
       "[(70.8092485549133, 0.708763705637548),\n",
       " (70.23121387283237, 0.7028171287075003),\n",
       " (69.36416184971098, 0.6942151507193598),\n",
       " (70.8092485549133, 0.7073582466875445),\n",
       " (71.09826589595376, 0.7105963366991661),\n",
       " (68.78612716763006, 0.6874440436350993),\n",
       " (69.65317919075144, 0.6957684742791304),\n",
       " (69.94219653179191, 0.7001459347588287),\n",
       " (70.8092485549133, 0.7086854017192468),\n",
       " (69.94219653179191, 0.6998740378968192)]"
      ]
     },
     "execution_count": 634,
     "metadata": {},
     "output_type": "execute_result"
    }
   ],
   "source": [
    "grid_cv_accuracy"
   ]
  },
  {
   "cell_type": "code",
   "execution_count": 633,
   "metadata": {},
   "outputs": [
    {
     "name": "stdout",
     "output_type": "stream",
     "text": [
      "Average accuracy for grid cv for messidor\n"
     ]
    },
    {
     "data": {
      "text/plain": [
       "70.14450867052022"
      ]
     },
     "execution_count": 633,
     "metadata": {},
     "output_type": "execute_result"
    }
   ],
   "source": [
    "summation = 0\n",
    "for i in range(0, len(grid_cv_accuracy)):\n",
    "    summation = summation + grid_cv_accuracy[i][0]\n",
    "    \n",
    "print(\"Average accuracy for grid cv for messidor\")\n",
    "summation/10"
   ]
  },
  {
   "cell_type": "code",
   "execution_count": 631,
   "metadata": {},
   "outputs": [
    {
     "name": "stdout",
     "output_type": "stream",
     "text": [
      "Average f1 for grid cv for messidor\n"
     ]
    },
    {
     "data": {
      "text/plain": [
       "0.7015668460740242"
      ]
     },
     "execution_count": 631,
     "metadata": {},
     "output_type": "execute_result"
    }
   ],
   "source": [
    "summation = 0\n",
    "for i in range(0, len(grid_cv_accuracy)):\n",
    "    summation = summation + grid_cv_accuracy[i][1]\n",
    "    \n",
    "print(\"Average f1 for grid cv for messidor\")\n",
    "summation/10"
   ]
  },
  {
   "cell_type": "markdown",
   "metadata": {},
   "source": [
    "## Elimination of features"
   ]
  },
  {
   "cell_type": "code",
   "execution_count": 635,
   "metadata": {
    "scrolled": true
   },
   "outputs": [
    {
     "data": {
      "text/plain": [
       "[exudates info 1                             0.099272\n",
       " MA detection 1                              0.091182\n",
       " exudates info 2                             0.071591\n",
       " distance                                    0.067258\n",
       " exudates info 3                             0.066822\n",
       " diameter                                    0.065646\n",
       " MA detection 2                              0.064859\n",
       " exudates info 4                             0.061658\n",
       " MA detection 5                              0.058013\n",
       " exudates info 7                             0.056804\n",
       " MA detection 6                              0.054035\n",
       " MA detection 3                              0.053854\n",
       " MA detection 4                              0.052212\n",
       " exudates info 5                             0.044159\n",
       " exudates info 6                             0.041501\n",
       " exudates info 8                             0.033415\n",
       " pre-screening                               0.008754\n",
       " result of the AM/FM-based classification    0.008230\n",
       " quality assessment                          0.000737\n",
       " dtype: float64,\n",
       " MA detection 1                              0.089590\n",
       " exudates info 1                             0.087555\n",
       " diameter                                    0.072854\n",
       " exudates info 2                             0.072423\n",
       " MA detection 2                              0.070428\n",
       " distance                                    0.068598\n",
       " exudates info 3                             0.066206\n",
       " exudates info 4                             0.061750\n",
       " MA detection 3                              0.057606\n",
       " MA detection 5                              0.053861\n",
       " exudates info 7                             0.053633\n",
       " MA detection 6                              0.051553\n",
       " MA detection 4                              0.049497\n",
       " exudates info 5                             0.045984\n",
       " exudates info 6                             0.041813\n",
       " exudates info 8                             0.039237\n",
       " pre-screening                               0.008493\n",
       " result of the AM/FM-based classification    0.008162\n",
       " quality assessment                          0.000756\n",
       " dtype: float64,\n",
       " exudates info 1                             0.093602\n",
       " MA detection 1                              0.089639\n",
       " exudates info 2                             0.070088\n",
       " MA detection 2                              0.068797\n",
       " exudates info 3                             0.068330\n",
       " diameter                                    0.068265\n",
       " distance                                    0.066044\n",
       " exudates info 4                             0.061570\n",
       " MA detection 6                              0.055331\n",
       " exudates info 7                             0.055212\n",
       " MA detection 4                              0.055032\n",
       " MA detection 3                              0.052508\n",
       " MA detection 5                              0.051340\n",
       " exudates info 5                             0.046677\n",
       " exudates info 6                             0.042178\n",
       " exudates info 8                             0.036510\n",
       " result of the AM/FM-based classification    0.009976\n",
       " pre-screening                               0.008156\n",
       " quality assessment                          0.000743\n",
       " dtype: float64,\n",
       " exudates info 1                             0.093485\n",
       " MA detection 1                              0.089228\n",
       " diameter                                    0.070877\n",
       " exudates info 2                             0.070485\n",
       " distance                                    0.070041\n",
       " MA detection 2                              0.069086\n",
       " exudates info 3                             0.063418\n",
       " exudates info 4                             0.060495\n",
       " MA detection 3                              0.057434\n",
       " exudates info 7                             0.056280\n",
       " MA detection 5                              0.056149\n",
       " MA detection 6                              0.053104\n",
       " MA detection 4                              0.051354\n",
       " exudates info 5                             0.046489\n",
       " exudates info 6                             0.038181\n",
       " exudates info 8                             0.037741\n",
       " pre-screening                               0.008122\n",
       " result of the AM/FM-based classification    0.007753\n",
       " quality assessment                          0.000279\n",
       " dtype: float64,\n",
       " exudates info 1                             0.091848\n",
       " MA detection 1                              0.088610\n",
       " diameter                                    0.070461\n",
       " exudates info 2                             0.069796\n",
       " distance                                    0.066986\n",
       " MA detection 2                              0.066833\n",
       " exudates info 3                             0.064306\n",
       " exudates info 4                             0.063809\n",
       " exudates info 7                             0.061151\n",
       " MA detection 5                              0.056171\n",
       " MA detection 3                              0.052622\n",
       " MA detection 6                              0.051949\n",
       " MA detection 4                              0.051081\n",
       " exudates info 5                             0.048339\n",
       " exudates info 8                             0.043310\n",
       " exudates info 6                             0.036982\n",
       " pre-screening                               0.007576\n",
       " result of the AM/FM-based classification    0.007490\n",
       " quality assessment                          0.000681\n",
       " dtype: float64,\n",
       " exudates info 1                             0.090564\n",
       " MA detection 1                              0.088791\n",
       " exudates info 2                             0.076203\n",
       " diameter                                    0.071098\n",
       " distance                                    0.065641\n",
       " exudates info 3                             0.064895\n",
       " MA detection 2                              0.062860\n",
       " exudates info 4                             0.060506\n",
       " MA detection 3                              0.057096\n",
       " MA detection 6                              0.056978\n",
       " MA detection 5                              0.053990\n",
       " exudates info 7                             0.053757\n",
       " MA detection 4                              0.051766\n",
       " exudates info 5                             0.047527\n",
       " exudates info 8                             0.040435\n",
       " exudates info 6                             0.039927\n",
       " pre-screening                               0.009521\n",
       " result of the AM/FM-based classification    0.007893\n",
       " quality assessment                          0.000552\n",
       " dtype: float64,\n",
       " exudates info 1                             0.094489\n",
       " MA detection 1                              0.087285\n",
       " MA detection 2                              0.074012\n",
       " exudates info 2                             0.073965\n",
       " diameter                                    0.071707\n",
       " exudates info 3                             0.064455\n",
       " distance                                    0.063749\n",
       " exudates info 4                             0.060974\n",
       " MA detection 3                              0.056302\n",
       " MA detection 5                              0.055437\n",
       " exudates info 7                             0.055037\n",
       " MA detection 6                              0.052601\n",
       " MA detection 4                              0.050717\n",
       " exudates info 5                             0.046522\n",
       " exudates info 8                             0.039518\n",
       " exudates info 6                             0.036556\n",
       " result of the AM/FM-based classification    0.008672\n",
       " pre-screening                               0.007535\n",
       " quality assessment                          0.000467\n",
       " dtype: float64,\n",
       " exudates info 1                             0.093622\n",
       " MA detection 1                              0.090111\n",
       " diameter                                    0.071313\n",
       " exudates info 2                             0.069800\n",
       " distance                                    0.066830\n",
       " MA detection 2                              0.066751\n",
       " exudates info 3                             0.066678\n",
       " exudates info 4                             0.060029\n",
       " MA detection 3                              0.057718\n",
       " MA detection 6                              0.056490\n",
       " exudates info 7                             0.056412\n",
       " MA detection 5                              0.053035\n",
       " MA detection 4                              0.052288\n",
       " exudates info 5                             0.044590\n",
       " exudates info 6                             0.044532\n",
       " exudates info 8                             0.032072\n",
       " result of the AM/FM-based classification    0.009607\n",
       " pre-screening                               0.007906\n",
       " quality assessment                          0.000214\n",
       " dtype: float64,\n",
       " exudates info 1                             0.097617\n",
       " MA detection 1                              0.082785\n",
       " exudates info 2                             0.072736\n",
       " MA detection 2                              0.067637\n",
       " diameter                                    0.067178\n",
       " distance                                    0.064893\n",
       " exudates info 3                             0.064595\n",
       " exudates info 4                             0.062658\n",
       " MA detection 3                              0.056664\n",
       " MA detection 5                              0.056408\n",
       " MA detection 6                              0.056363\n",
       " exudates info 7                             0.053496\n",
       " MA detection 4                              0.050594\n",
       " exudates info 5                             0.046518\n",
       " exudates info 8                             0.045136\n",
       " exudates info 6                             0.036089\n",
       " pre-screening                               0.009470\n",
       " result of the AM/FM-based classification    0.008731\n",
       " quality assessment                          0.000434\n",
       " dtype: float64,\n",
       " exudates info 1                             0.096957\n",
       " MA detection 1                              0.085146\n",
       " exudates info 2                             0.071368\n",
       " exudates info 3                             0.071108\n",
       " diameter                                    0.069766\n",
       " MA detection 2                              0.068991\n",
       " distance                                    0.067135\n",
       " exudates info 4                             0.063032\n",
       " MA detection 3                              0.056385\n",
       " exudates info 7                             0.055075\n",
       " MA detection 5                              0.054219\n",
       " MA detection 4                              0.049962\n",
       " exudates info 5                             0.048511\n",
       " MA detection 6                              0.047236\n",
       " exudates info 8                             0.038705\n",
       " exudates info 6                             0.038081\n",
       " pre-screening                               0.008980\n",
       " result of the AM/FM-based classification    0.008825\n",
       " quality assessment                          0.000518\n",
       " dtype: float64]"
      ]
     },
     "execution_count": 635,
     "metadata": {},
     "output_type": "execute_result"
    }
   ],
   "source": [
    "feature_importance"
   ]
  },
  {
   "cell_type": "markdown",
   "metadata": {},
   "source": [
    "From the figure above, we can see the less important features such as: quality_assessment, pre-screening, result of the AM/FM-based classification. We can try eliminating it and see it will affect the accuracy. Moving forward, we will use the best parameters from the GridCV."
   ]
  },
  {
   "cell_type": "code",
   "execution_count": 636,
   "metadata": {},
   "outputs": [],
   "source": [
    "messidor_new = messidor[messidor.columns.difference(['quality_assessment', 'pre-screening', 'result of the AM/FM-based classification'])]"
   ]
  },
  {
   "cell_type": "code",
   "execution_count": 637,
   "metadata": {
    "scrolled": true
   },
   "outputs": [
    {
     "name": "stdout",
     "output_type": "stream",
     "text": [
      "Accuracy = 70.23%.\n",
      "F1 Score = 0.70.\n",
      "Accuracy = 70.52%.\n",
      "F1 Score = 0.71.\n",
      "Accuracy = 71.68%.\n",
      "F1 Score = 0.72.\n",
      "Accuracy = 71.39%.\n",
      "F1 Score = 0.71.\n",
      "Accuracy = 70.52%.\n",
      "F1 Score = 0.71.\n",
      "Accuracy = 71.39%.\n",
      "F1 Score = 0.71.\n",
      "Accuracy = 72.54%.\n",
      "F1 Score = 0.73.\n",
      "Accuracy = 71.39%.\n",
      "F1 Score = 0.71.\n",
      "Accuracy = 70.23%.\n",
      "F1 Score = 0.70.\n",
      "Accuracy = 70.52%.\n",
      "F1 Score = 0.71.\n"
     ]
    }
   ],
   "source": [
    "for i in seedno:\n",
    "    clf_features = RandomForestClassifier(bootstrap= True, max_depth= 10, max_features= 'sqrt', min_samples_leaf= 4, min_samples_split= 2, n_estimators= 700, random_state = i)\n",
    "    EliminationFeatures(messidor_new[messidor_new.columns.difference(['class'])], messidor_new.loc[:, \"class\"], clf_features)\n",
    "\n"
   ]
  },
  {
   "cell_type": "code",
   "execution_count": 638,
   "metadata": {
    "scrolled": false
   },
   "outputs": [
    {
     "data": {
      "text/plain": [
       "[(70.23121387283237, 0.7020211826458158),\n",
       " (70.52023121387283, 0.7050151577659215),\n",
       " (71.67630057803468, 0.7169238928727597),\n",
       " (71.38728323699422, 0.7137843997992342),\n",
       " (70.52023121387283, 0.7050151577659215),\n",
       " (71.38728323699422, 0.7129042069435189),\n",
       " (72.54335260115607, 0.7251651684597329),\n",
       " (71.38728323699422, 0.7137843997992342),\n",
       " (70.23121387283237, 0.7018022757347762),\n",
       " (70.52023121387283, 0.7050151577659215)]"
      ]
     },
     "execution_count": 638,
     "metadata": {},
     "output_type": "execute_result"
    }
   ],
   "source": [
    "elimination_features_accuracy"
   ]
  },
  {
   "cell_type": "code",
   "execution_count": 640,
   "metadata": {},
   "outputs": [
    {
     "name": "stdout",
     "output_type": "stream",
     "text": [
      "Average accuracy for eliminated features for messidor\n"
     ]
    },
    {
     "data": {
      "text/plain": [
       "71.04046242774567"
      ]
     },
     "execution_count": 640,
     "metadata": {},
     "output_type": "execute_result"
    }
   ],
   "source": [
    "summation = 0\n",
    "for i in range(0, len(elimination_features_accuracy)):\n",
    "    summation = summation + elimination_features_accuracy[i][0]\n",
    "    \n",
    "print(\"Average accuracy for eliminated features for messidor\")\n",
    "summation/10"
   ]
  },
  {
   "cell_type": "code",
   "execution_count": 639,
   "metadata": {},
   "outputs": [
    {
     "name": "stdout",
     "output_type": "stream",
     "text": [
      "Average f1 for eliminated features for messidor\n"
     ]
    },
    {
     "data": {
      "text/plain": [
       "0.7101430999552837"
      ]
     },
     "execution_count": 639,
     "metadata": {},
     "output_type": "execute_result"
    }
   ],
   "source": [
    "summation = 0\n",
    "for i in range(0, len(elimination_features_accuracy)):\n",
    "    summation = summation + elimination_features_accuracy[i][1]\n",
    "    \n",
    "print(\"Average f1 for eliminated features for messidor\")\n",
    "summation/10"
   ]
  },
  {
   "cell_type": "markdown",
   "metadata": {},
   "source": [
    "It does not perform as well as the GridCV model's performance."
   ]
  },
  {
   "cell_type": "markdown",
   "metadata": {},
   "source": [
    "# Seeds"
   ]
  },
  {
   "cell_type": "code",
   "execution_count": 641,
   "metadata": {},
   "outputs": [
    {
     "data": {
      "text/html": [
       "<div>\n",
       "<style scoped>\n",
       "    .dataframe tbody tr th:only-of-type {\n",
       "        vertical-align: middle;\n",
       "    }\n",
       "\n",
       "    .dataframe tbody tr th {\n",
       "        vertical-align: top;\n",
       "    }\n",
       "\n",
       "    .dataframe thead th {\n",
       "        text-align: right;\n",
       "    }\n",
       "</style>\n",
       "<table border=\"1\" class=\"dataframe\">\n",
       "  <thead>\n",
       "    <tr style=\"text-align: right;\">\n",
       "      <th></th>\n",
       "      <th>area</th>\n",
       "      <th>perimeter</th>\n",
       "      <th>compactness</th>\n",
       "      <th>length of kernel</th>\n",
       "      <th>width of kernel</th>\n",
       "      <th>asymmetry coefficient</th>\n",
       "      <th>length of kernel groove</th>\n",
       "      <th>class</th>\n",
       "    </tr>\n",
       "  </thead>\n",
       "  <tbody>\n",
       "    <tr>\n",
       "      <th>0</th>\n",
       "      <td>15.26</td>\n",
       "      <td>14.84</td>\n",
       "      <td>0.8710</td>\n",
       "      <td>5.763</td>\n",
       "      <td>3.312</td>\n",
       "      <td>2.221</td>\n",
       "      <td>5.220</td>\n",
       "      <td>1</td>\n",
       "    </tr>\n",
       "    <tr>\n",
       "      <th>1</th>\n",
       "      <td>14.88</td>\n",
       "      <td>14.57</td>\n",
       "      <td>0.8811</td>\n",
       "      <td>5.554</td>\n",
       "      <td>3.333</td>\n",
       "      <td>1.018</td>\n",
       "      <td>4.956</td>\n",
       "      <td>1</td>\n",
       "    </tr>\n",
       "    <tr>\n",
       "      <th>2</th>\n",
       "      <td>14.29</td>\n",
       "      <td>14.09</td>\n",
       "      <td>0.9050</td>\n",
       "      <td>5.291</td>\n",
       "      <td>3.337</td>\n",
       "      <td>2.699</td>\n",
       "      <td>4.825</td>\n",
       "      <td>1</td>\n",
       "    </tr>\n",
       "    <tr>\n",
       "      <th>3</th>\n",
       "      <td>13.84</td>\n",
       "      <td>13.94</td>\n",
       "      <td>0.8955</td>\n",
       "      <td>5.324</td>\n",
       "      <td>3.379</td>\n",
       "      <td>2.259</td>\n",
       "      <td>4.805</td>\n",
       "      <td>1</td>\n",
       "    </tr>\n",
       "    <tr>\n",
       "      <th>4</th>\n",
       "      <td>16.14</td>\n",
       "      <td>14.99</td>\n",
       "      <td>0.9034</td>\n",
       "      <td>5.658</td>\n",
       "      <td>3.562</td>\n",
       "      <td>1.355</td>\n",
       "      <td>5.175</td>\n",
       "      <td>1</td>\n",
       "    </tr>\n",
       "    <tr>\n",
       "      <th>...</th>\n",
       "      <td>...</td>\n",
       "      <td>...</td>\n",
       "      <td>...</td>\n",
       "      <td>...</td>\n",
       "      <td>...</td>\n",
       "      <td>...</td>\n",
       "      <td>...</td>\n",
       "      <td>...</td>\n",
       "    </tr>\n",
       "    <tr>\n",
       "      <th>205</th>\n",
       "      <td>12.19</td>\n",
       "      <td>13.20</td>\n",
       "      <td>0.8783</td>\n",
       "      <td>5.137</td>\n",
       "      <td>2.981</td>\n",
       "      <td>3.631</td>\n",
       "      <td>4.870</td>\n",
       "      <td>3</td>\n",
       "    </tr>\n",
       "    <tr>\n",
       "      <th>206</th>\n",
       "      <td>11.23</td>\n",
       "      <td>12.88</td>\n",
       "      <td>0.8511</td>\n",
       "      <td>5.140</td>\n",
       "      <td>2.795</td>\n",
       "      <td>4.325</td>\n",
       "      <td>5.003</td>\n",
       "      <td>3</td>\n",
       "    </tr>\n",
       "    <tr>\n",
       "      <th>207</th>\n",
       "      <td>13.20</td>\n",
       "      <td>13.66</td>\n",
       "      <td>0.8883</td>\n",
       "      <td>5.236</td>\n",
       "      <td>3.232</td>\n",
       "      <td>8.315</td>\n",
       "      <td>5.056</td>\n",
       "      <td>3</td>\n",
       "    </tr>\n",
       "    <tr>\n",
       "      <th>208</th>\n",
       "      <td>11.84</td>\n",
       "      <td>13.21</td>\n",
       "      <td>0.8521</td>\n",
       "      <td>5.175</td>\n",
       "      <td>2.836</td>\n",
       "      <td>3.598</td>\n",
       "      <td>5.044</td>\n",
       "      <td>3</td>\n",
       "    </tr>\n",
       "    <tr>\n",
       "      <th>209</th>\n",
       "      <td>12.30</td>\n",
       "      <td>13.34</td>\n",
       "      <td>0.8684</td>\n",
       "      <td>5.243</td>\n",
       "      <td>2.974</td>\n",
       "      <td>5.637</td>\n",
       "      <td>5.063</td>\n",
       "      <td>3</td>\n",
       "    </tr>\n",
       "  </tbody>\n",
       "</table>\n",
       "<p>210 rows × 8 columns</p>\n",
       "</div>"
      ],
      "text/plain": [
       "      area  perimeter  compactness  length of kernel  width of kernel  \\\n",
       "0    15.26      14.84       0.8710             5.763            3.312   \n",
       "1    14.88      14.57       0.8811             5.554            3.333   \n",
       "2    14.29      14.09       0.9050             5.291            3.337   \n",
       "3    13.84      13.94       0.8955             5.324            3.379   \n",
       "4    16.14      14.99       0.9034             5.658            3.562   \n",
       "..     ...        ...          ...               ...              ...   \n",
       "205  12.19      13.20       0.8783             5.137            2.981   \n",
       "206  11.23      12.88       0.8511             5.140            2.795   \n",
       "207  13.20      13.66       0.8883             5.236            3.232   \n",
       "208  11.84      13.21       0.8521             5.175            2.836   \n",
       "209  12.30      13.34       0.8684             5.243            2.974   \n",
       "\n",
       "     asymmetry coefficient  length of kernel groove  class  \n",
       "0                    2.221                    5.220      1  \n",
       "1                    1.018                    4.956      1  \n",
       "2                    2.699                    4.825      1  \n",
       "3                    2.259                    4.805      1  \n",
       "4                    1.355                    5.175      1  \n",
       "..                     ...                      ...    ...  \n",
       "205                  3.631                    4.870      3  \n",
       "206                  4.325                    5.003      3  \n",
       "207                  8.315                    5.056      3  \n",
       "208                  3.598                    5.044      3  \n",
       "209                  5.637                    5.063      3  \n",
       "\n",
       "[210 rows x 8 columns]"
      ]
     },
     "execution_count": 641,
     "metadata": {},
     "output_type": "execute_result"
    }
   ],
   "source": [
    "base_accuracy = []\n",
    "grid_cv_accuracy = []\n",
    "feature_importance = []\n",
    "grid_cv_best_param = []\n",
    "elimination_features_accuracy = []\n",
    "\n",
    "seeds"
   ]
  },
  {
   "cell_type": "code",
   "execution_count": 642,
   "metadata": {},
   "outputs": [
    {
     "name": "stdout",
     "output_type": "stream",
     "text": [
      "Parameters currently in use:\n",
      "\n",
      "{'bootstrap': True, 'ccp_alpha': 0.0, 'class_weight': None, 'criterion': 'gini', 'max_depth': None, 'max_features': 'sqrt', 'max_leaf_nodes': None, 'max_samples': None, 'min_impurity_decrease': 0.0, 'min_samples_leaf': 1, 'min_samples_split': 2, 'min_weight_fraction_leaf': 0.0, 'n_estimators': 100, 'n_jobs': None, 'oob_score': False, 'random_state': 1, 'verbose': 0, 'warm_start': False}\n",
      "Accuracy = 88.89%.\n",
      "F1 Score = 0.89.\n",
      "Parameters currently in use:\n",
      "\n",
      "{'bootstrap': True, 'ccp_alpha': 0.0, 'class_weight': None, 'criterion': 'gini', 'max_depth': None, 'max_features': 'sqrt', 'max_leaf_nodes': None, 'max_samples': None, 'min_impurity_decrease': 0.0, 'min_samples_leaf': 1, 'min_samples_split': 2, 'min_weight_fraction_leaf': 0.0, 'n_estimators': 100, 'n_jobs': None, 'oob_score': False, 'random_state': 12, 'verbose': 0, 'warm_start': False}\n",
      "Accuracy = 88.89%.\n",
      "F1 Score = 0.89.\n",
      "Parameters currently in use:\n",
      "\n",
      "{'bootstrap': True, 'ccp_alpha': 0.0, 'class_weight': None, 'criterion': 'gini', 'max_depth': None, 'max_features': 'sqrt', 'max_leaf_nodes': None, 'max_samples': None, 'min_impurity_decrease': 0.0, 'min_samples_leaf': 1, 'min_samples_split': 2, 'min_weight_fraction_leaf': 0.0, 'n_estimators': 100, 'n_jobs': None, 'oob_score': False, 'random_state': 123, 'verbose': 0, 'warm_start': False}\n",
      "Accuracy = 88.89%.\n",
      "F1 Score = 0.89.\n",
      "Parameters currently in use:\n",
      "\n",
      "{'bootstrap': True, 'ccp_alpha': 0.0, 'class_weight': None, 'criterion': 'gini', 'max_depth': None, 'max_features': 'sqrt', 'max_leaf_nodes': None, 'max_samples': None, 'min_impurity_decrease': 0.0, 'min_samples_leaf': 1, 'min_samples_split': 2, 'min_weight_fraction_leaf': 0.0, 'n_estimators': 100, 'n_jobs': None, 'oob_score': False, 'random_state': 1234, 'verbose': 0, 'warm_start': False}\n",
      "Accuracy = 88.89%.\n",
      "F1 Score = 0.89.\n",
      "Parameters currently in use:\n",
      "\n",
      "{'bootstrap': True, 'ccp_alpha': 0.0, 'class_weight': None, 'criterion': 'gini', 'max_depth': None, 'max_features': 'sqrt', 'max_leaf_nodes': None, 'max_samples': None, 'min_impurity_decrease': 0.0, 'min_samples_leaf': 1, 'min_samples_split': 2, 'min_weight_fraction_leaf': 0.0, 'n_estimators': 100, 'n_jobs': None, 'oob_score': False, 'random_state': 12345, 'verbose': 0, 'warm_start': False}\n",
      "Accuracy = 88.89%.\n",
      "F1 Score = 0.89.\n",
      "Parameters currently in use:\n",
      "\n",
      "{'bootstrap': True, 'ccp_alpha': 0.0, 'class_weight': None, 'criterion': 'gini', 'max_depth': None, 'max_features': 'sqrt', 'max_leaf_nodes': None, 'max_samples': None, 'min_impurity_decrease': 0.0, 'min_samples_leaf': 1, 'min_samples_split': 2, 'min_weight_fraction_leaf': 0.0, 'n_estimators': 100, 'n_jobs': None, 'oob_score': False, 'random_state': 123456, 'verbose': 0, 'warm_start': False}\n",
      "Accuracy = 88.89%.\n",
      "F1 Score = 0.89.\n",
      "Parameters currently in use:\n",
      "\n",
      "{'bootstrap': True, 'ccp_alpha': 0.0, 'class_weight': None, 'criterion': 'gini', 'max_depth': None, 'max_features': 'sqrt', 'max_leaf_nodes': None, 'max_samples': None, 'min_impurity_decrease': 0.0, 'min_samples_leaf': 1, 'min_samples_split': 2, 'min_weight_fraction_leaf': 0.0, 'n_estimators': 100, 'n_jobs': None, 'oob_score': False, 'random_state': 1234567, 'verbose': 0, 'warm_start': False}\n",
      "Accuracy = 88.89%.\n",
      "F1 Score = 0.89.\n",
      "Parameters currently in use:\n",
      "\n",
      "{'bootstrap': True, 'ccp_alpha': 0.0, 'class_weight': None, 'criterion': 'gini', 'max_depth': None, 'max_features': 'sqrt', 'max_leaf_nodes': None, 'max_samples': None, 'min_impurity_decrease': 0.0, 'min_samples_leaf': 1, 'min_samples_split': 2, 'min_weight_fraction_leaf': 0.0, 'n_estimators': 100, 'n_jobs': None, 'oob_score': False, 'random_state': 12345678, 'verbose': 0, 'warm_start': False}\n",
      "Accuracy = 90.48%.\n",
      "F1 Score = 0.91.\n",
      "Parameters currently in use:\n",
      "\n",
      "{'bootstrap': True, 'ccp_alpha': 0.0, 'class_weight': None, 'criterion': 'gini', 'max_depth': None, 'max_features': 'sqrt', 'max_leaf_nodes': None, 'max_samples': None, 'min_impurity_decrease': 0.0, 'min_samples_leaf': 1, 'min_samples_split': 2, 'min_weight_fraction_leaf': 0.0, 'n_estimators': 100, 'n_jobs': None, 'oob_score': False, 'random_state': 123456789, 'verbose': 0, 'warm_start': False}\n",
      "Accuracy = 87.30%.\n",
      "F1 Score = 0.88.\n",
      "Parameters currently in use:\n",
      "\n",
      "{'bootstrap': True, 'ccp_alpha': 0.0, 'class_weight': None, 'criterion': 'gini', 'max_depth': None, 'max_features': 'sqrt', 'max_leaf_nodes': None, 'max_samples': None, 'min_impurity_decrease': 0.0, 'min_samples_leaf': 1, 'min_samples_split': 2, 'min_weight_fraction_leaf': 0.0, 'n_estimators': 100, 'n_jobs': None, 'oob_score': False, 'random_state': 1234567890, 'verbose': 0, 'warm_start': False}\n",
      "Accuracy = 88.89%.\n",
      "F1 Score = 0.89.\n"
     ]
    }
   ],
   "source": [
    "X_train, X_test, y_train, y_test = train_test_split(seeds.iloc[:, 0:(len(seeds.columns)-1)], seeds.iloc[:, -1], test_size=0.3, random_state = 42)\n",
    "\n",
    "for i in seedno:\n",
    "    RandomForestBaseModel(X_train, X_test, y_train, y_test, seeds.columns[0:len(seeds.columns)-1], i)\n",
    "    "
   ]
  },
  {
   "cell_type": "code",
   "execution_count": 643,
   "metadata": {
    "scrolled": true
   },
   "outputs": [
    {
     "data": {
      "text/plain": [
       "[(88.88888888888889, 0.8903037108206868),\n",
       " (88.88888888888889, 0.8903037108206868),\n",
       " (88.88888888888889, 0.8903037108206868),\n",
       " (88.88888888888889, 0.8903037108206868),\n",
       " (88.88888888888889, 0.8903037108206868),\n",
       " (88.88888888888889, 0.8903037108206868),\n",
       " (88.88888888888889, 0.8903037108206868),\n",
       " (90.47619047619048, 0.9059130553336858),\n",
       " (87.3015873015873, 0.8757266542980829),\n",
       " (88.88888888888889, 0.8903037108206868)]"
      ]
     },
     "execution_count": 643,
     "metadata": {},
     "output_type": "execute_result"
    }
   ],
   "source": [
    "base_accuracy"
   ]
  },
  {
   "cell_type": "code",
   "execution_count": 644,
   "metadata": {},
   "outputs": [
    {
     "name": "stdout",
     "output_type": "stream",
     "text": [
      "Average accuracy for base for seeds\n"
     ]
    },
    {
     "data": {
      "text/plain": [
       "88.8888888888889"
      ]
     },
     "execution_count": 644,
     "metadata": {},
     "output_type": "execute_result"
    }
   ],
   "source": [
    "summation = 0\n",
    "for i in range(0, len(base_accuracy)):\n",
    "    summation = summation + base_accuracy[i][0]\n",
    "    \n",
    "print(\"Average accuracy for base for seeds\")\n",
    "summation/10"
   ]
  },
  {
   "cell_type": "code",
   "execution_count": 645,
   "metadata": {},
   "outputs": [
    {
     "name": "stdout",
     "output_type": "stream",
     "text": [
      "Average f1 for base for seeds\n"
     ]
    },
    {
     "data": {
      "text/plain": [
       "0.8904069396197265"
      ]
     },
     "execution_count": 645,
     "metadata": {},
     "output_type": "execute_result"
    }
   ],
   "source": [
    "summation = 0\n",
    "for i in range(0, len(base_accuracy)):\n",
    "    summation = summation + base_accuracy[i][1]\n",
    "    \n",
    "print(\"Average f1 for base for seeds\")\n",
    "summation/10"
   ]
  },
  {
   "cell_type": "code",
   "execution_count": 646,
   "metadata": {
    "scrolled": true
   },
   "outputs": [
    {
     "name": "stdout",
     "output_type": "stream",
     "text": [
      "Fitting 3 folds for each of 81 candidates, totalling 243 fits\n",
      "Accuracy = 88.89%.\n",
      "F1 Score = 0.89.\n",
      "Fitting 3 folds for each of 81 candidates, totalling 243 fits\n",
      "Accuracy = 88.89%.\n",
      "F1 Score = 0.89.\n",
      "Fitting 3 folds for each of 81 candidates, totalling 243 fits\n",
      "Accuracy = 88.89%.\n",
      "F1 Score = 0.89.\n",
      "Fitting 3 folds for each of 81 candidates, totalling 243 fits\n",
      "Accuracy = 88.89%.\n",
      "F1 Score = 0.89.\n",
      "Fitting 3 folds for each of 81 candidates, totalling 243 fits\n",
      "Accuracy = 88.89%.\n",
      "F1 Score = 0.89.\n",
      "Fitting 3 folds for each of 81 candidates, totalling 243 fits\n",
      "Accuracy = 88.89%.\n",
      "F1 Score = 0.89.\n",
      "Fitting 3 folds for each of 81 candidates, totalling 243 fits\n",
      "Accuracy = 88.89%.\n",
      "F1 Score = 0.89.\n",
      "Fitting 3 folds for each of 81 candidates, totalling 243 fits\n",
      "Accuracy = 87.30%.\n",
      "F1 Score = 0.87.\n",
      "Fitting 3 folds for each of 81 candidates, totalling 243 fits\n",
      "Accuracy = 88.89%.\n",
      "F1 Score = 0.89.\n",
      "Fitting 3 folds for each of 81 candidates, totalling 243 fits\n",
      "Accuracy = 88.89%.\n",
      "F1 Score = 0.89.\n"
     ]
    }
   ],
   "source": [
    "for i in seedno:\n",
    "    RandomForestGridCV(X_train, X_test, y_train, y_test, param_grid, i)"
   ]
  },
  {
   "cell_type": "code",
   "execution_count": 647,
   "metadata": {
    "scrolled": true
   },
   "outputs": [
    {
     "data": {
      "text/plain": [
       "[(88.88888888888889, 0.8903037108206868),\n",
       " (88.88888888888889, 0.8903037108206868),\n",
       " (88.88888888888889, 0.8903037108206868),\n",
       " (88.88888888888889, 0.8903037108206868),\n",
       " (88.88888888888889, 0.8903037108206868),\n",
       " (88.88888888888889, 0.8903037108206868),\n",
       " (88.88888888888889, 0.8903037108206868),\n",
       " (87.3015873015873, 0.8745292647731672),\n",
       " (88.88888888888889, 0.8903037108206868),\n",
       " (88.88888888888889, 0.8903037108206868)]"
      ]
     },
     "execution_count": 647,
     "metadata": {},
     "output_type": "execute_result"
    }
   ],
   "source": [
    "grid_cv_accuracy"
   ]
  },
  {
   "cell_type": "code",
   "execution_count": 648,
   "metadata": {},
   "outputs": [
    {
     "name": "stdout",
     "output_type": "stream",
     "text": [
      "Average accuracy for gridcv for seeds\n"
     ]
    },
    {
     "data": {
      "text/plain": [
       "88.8888888888889"
      ]
     },
     "execution_count": 648,
     "metadata": {},
     "output_type": "execute_result"
    }
   ],
   "source": [
    "summation = 0\n",
    "for i in range(0, len(grid_cv_accuracy)):\n",
    "    summation = summation + base_accuracy[i][0]\n",
    "    \n",
    "print(\"Average accuracy for gridcv for seeds\")\n",
    "summation/10"
   ]
  },
  {
   "cell_type": "code",
   "execution_count": 650,
   "metadata": {},
   "outputs": [
    {
     "name": "stdout",
     "output_type": "stream",
     "text": [
      "Average f1 for gridcv for seeds\n"
     ]
    },
    {
     "data": {
      "text/plain": [
       "0.8904069396197265"
      ]
     },
     "execution_count": 650,
     "metadata": {},
     "output_type": "execute_result"
    }
   ],
   "source": [
    "summation = 0\n",
    "for i in range(0, len(grid_cv_accuracy)):\n",
    "    summation = summation + base_accuracy[i][1]\n",
    "    \n",
    "print(\"Average f1 for gridcv for seeds\")\n",
    "summation/10"
   ]
  },
  {
   "cell_type": "code",
   "execution_count": 653,
   "metadata": {},
   "outputs": [
    {
     "data": {
      "text/plain": [
       "[(88.88888888888889, 0.8903037108206868),\n",
       " (88.88888888888889, 0.8903037108206868),\n",
       " (88.88888888888889, 0.8903037108206868),\n",
       " (88.88888888888889, 0.8903037108206868),\n",
       " (88.88888888888889, 0.8903037108206868),\n",
       " (88.88888888888889, 0.8903037108206868),\n",
       " (88.88888888888889, 0.8903037108206868),\n",
       " (87.3015873015873, 0.8745292647731672),\n",
       " (88.88888888888889, 0.8903037108206868),\n",
       " (88.88888888888889, 0.8903037108206868)]"
      ]
     },
     "execution_count": 653,
     "metadata": {},
     "output_type": "execute_result"
    }
   ],
   "source": [
    "grid_cv_accuracy"
   ]
  },
  {
   "cell_type": "code",
   "execution_count": 649,
   "metadata": {
    "scrolled": true
   },
   "outputs": [
    {
     "data": {
      "text/plain": [
       "[{'max_depth': 10,\n",
       "  'min_samples_leaf': 1,\n",
       "  'min_samples_split': 2,\n",
       "  'n_estimators': 500},\n",
       " {'max_depth': 10,\n",
       "  'min_samples_leaf': 1,\n",
       "  'min_samples_split': 2,\n",
       "  'n_estimators': 500},\n",
       " {'max_depth': 10,\n",
       "  'min_samples_leaf': 1,\n",
       "  'min_samples_split': 2,\n",
       "  'n_estimators': 600},\n",
       " {'max_depth': 10,\n",
       "  'min_samples_leaf': 1,\n",
       "  'min_samples_split': 2,\n",
       "  'n_estimators': 500},\n",
       " {'max_depth': 10,\n",
       "  'min_samples_leaf': 1,\n",
       "  'min_samples_split': 2,\n",
       "  'n_estimators': 500},\n",
       " {'max_depth': 10,\n",
       "  'min_samples_leaf': 1,\n",
       "  'min_samples_split': 2,\n",
       "  'n_estimators': 500},\n",
       " {'max_depth': 10,\n",
       "  'min_samples_leaf': 1,\n",
       "  'min_samples_split': 2,\n",
       "  'n_estimators': 500},\n",
       " {'max_depth': 10,\n",
       "  'min_samples_leaf': 1,\n",
       "  'min_samples_split': 5,\n",
       "  'n_estimators': 600},\n",
       " {'max_depth': 10,\n",
       "  'min_samples_leaf': 1,\n",
       "  'min_samples_split': 2,\n",
       "  'n_estimators': 500},\n",
       " {'max_depth': 10,\n",
       "  'min_samples_leaf': 1,\n",
       "  'min_samples_split': 2,\n",
       "  'n_estimators': 500}]"
      ]
     },
     "execution_count": 649,
     "metadata": {},
     "output_type": "execute_result"
    }
   ],
   "source": [
    "grid_cv_best_param"
   ]
  },
  {
   "cell_type": "markdown",
   "metadata": {},
   "source": [
    "## Elimination of features"
   ]
  },
  {
   "cell_type": "code",
   "execution_count": 651,
   "metadata": {
    "scrolled": false
   },
   "outputs": [
    {
     "data": {
      "text/plain": [
       "[length of kernel groove    0.215229\n",
       " perimeter                  0.214531\n",
       " area                       0.173712\n",
       " width of kernel            0.172463\n",
       " length of kernel           0.109626\n",
       " asymmetry coefficient      0.064057\n",
       " compactness                0.050381\n",
       " dtype: float64,\n",
       " area                       0.218189\n",
       " length of kernel groove    0.195882\n",
       " width of kernel            0.157909\n",
       " length of kernel           0.156485\n",
       " perimeter                  0.145090\n",
       " compactness                0.064767\n",
       " asymmetry coefficient      0.061678\n",
       " dtype: float64,\n",
       " area                       0.199979\n",
       " perimeter                  0.198147\n",
       " length of kernel groove    0.187925\n",
       " length of kernel           0.138028\n",
       " width of kernel            0.121118\n",
       " asymmetry coefficient      0.081109\n",
       " compactness                0.073695\n",
       " dtype: float64,\n",
       " perimeter                  0.220653\n",
       " area                       0.181722\n",
       " length of kernel groove    0.178744\n",
       " width of kernel            0.144029\n",
       " length of kernel           0.141311\n",
       " asymmetry coefficient      0.068591\n",
       " compactness                0.064951\n",
       " dtype: float64,\n",
       " length of kernel groove    0.202821\n",
       " perimeter                  0.176976\n",
       " area                       0.170948\n",
       " width of kernel            0.149799\n",
       " length of kernel           0.138424\n",
       " asymmetry coefficient      0.089652\n",
       " compactness                0.071379\n",
       " dtype: float64,\n",
       " perimeter                  0.222930\n",
       " length of kernel groove    0.194122\n",
       " area                       0.165524\n",
       " width of kernel            0.148479\n",
       " length of kernel           0.114046\n",
       " asymmetry coefficient      0.082487\n",
       " compactness                0.072413\n",
       " dtype: float64,\n",
       " area                       0.244189\n",
       " length of kernel groove    0.188613\n",
       " perimeter                  0.174921\n",
       " width of kernel            0.131101\n",
       " length of kernel           0.119194\n",
       " asymmetry coefficient      0.082811\n",
       " compactness                0.059171\n",
       " dtype: float64,\n",
       " area                       0.252464\n",
       " length of kernel groove    0.170010\n",
       " length of kernel           0.148086\n",
       " perimeter                  0.142278\n",
       " width of kernel            0.141530\n",
       " asymmetry coefficient      0.075551\n",
       " compactness                0.070081\n",
       " dtype: float64,\n",
       " perimeter                  0.224040\n",
       " length of kernel groove    0.190958\n",
       " area                       0.177819\n",
       " width of kernel            0.160794\n",
       " length of kernel           0.116641\n",
       " asymmetry coefficient      0.074812\n",
       " compactness                0.054937\n",
       " dtype: float64,\n",
       " area                       0.233158\n",
       " length of kernel groove    0.204454\n",
       " perimeter                  0.185344\n",
       " length of kernel           0.129296\n",
       " width of kernel            0.106404\n",
       " compactness                0.076438\n",
       " asymmetry coefficient      0.064906\n",
       " dtype: float64]"
      ]
     },
     "execution_count": 651,
     "metadata": {},
     "output_type": "execute_result"
    }
   ],
   "source": [
    "feature_importance"
   ]
  },
  {
   "cell_type": "markdown",
   "metadata": {},
   "source": [
    "From the figure above, we can see the less important features such as: compactness and asymmetry coefficient. We can try eliminating it and see it will affect the accuracy. Moving forward, we will use the best parameters from the GridCV."
   ]
  },
  {
   "cell_type": "code",
   "execution_count": 652,
   "metadata": {},
   "outputs": [],
   "source": [
    "seeds_new = seeds[seeds.columns.difference(['compactness', 'asymmetry coefficient'])]"
   ]
  },
  {
   "cell_type": "code",
   "execution_count": 654,
   "metadata": {},
   "outputs": [
    {
     "name": "stdout",
     "output_type": "stream",
     "text": [
      "Accuracy = 87.30%.\n",
      "F1 Score = 0.87.\n",
      "Accuracy = 88.89%.\n",
      "F1 Score = 0.89.\n",
      "Accuracy = 85.71%.\n",
      "F1 Score = 0.86.\n",
      "Accuracy = 87.30%.\n",
      "F1 Score = 0.87.\n",
      "Accuracy = 87.30%.\n",
      "F1 Score = 0.87.\n",
      "Accuracy = 88.89%.\n",
      "F1 Score = 0.89.\n",
      "Accuracy = 87.30%.\n",
      "F1 Score = 0.87.\n",
      "Accuracy = 85.71%.\n",
      "F1 Score = 0.86.\n",
      "Accuracy = 85.71%.\n",
      "F1 Score = 0.86.\n",
      "Accuracy = 88.89%.\n",
      "F1 Score = 0.89.\n"
     ]
    }
   ],
   "source": [
    "for i in seedno:\n",
    "    clf_features = RandomForestClassifier(bootstrap= True, max_depth= 10, max_features= 'sqrt', min_samples_leaf= 1, min_samples_split= 2, n_estimators= 500, random_state = i)\n",
    "    EliminationFeatures(seeds_new[seeds_new.columns.difference(['class'])], seeds_new.loc[:, \"class\"], clf_features)\n",
    "\n"
   ]
  },
  {
   "cell_type": "code",
   "execution_count": 655,
   "metadata": {
    "scrolled": true
   },
   "outputs": [
    {
     "data": {
      "text/plain": [
       "[(87.3015873015873, 0.8745537415823454),\n",
       " (88.88888888888889, 0.8900503290747194),\n",
       " (85.71428571428572, 0.8586914440572977),\n",
       " (87.3015873015873, 0.8745537415823454),\n",
       " (87.3015873015873, 0.8740568675528025),\n",
       " (88.88888888888889, 0.8900503290747194),\n",
       " (87.3015873015873, 0.8745537415823454),\n",
       " (85.71428571428572, 0.8589092408880108),\n",
       " (85.71428571428572, 0.8589092408880108),\n",
       " (88.88888888888889, 0.8900503290747194)]"
      ]
     },
     "execution_count": 655,
     "metadata": {},
     "output_type": "execute_result"
    }
   ],
   "source": [
    "elimination_features_accuracy"
   ]
  },
  {
   "cell_type": "code",
   "execution_count": 658,
   "metadata": {},
   "outputs": [
    {
     "name": "stdout",
     "output_type": "stream",
     "text": [
      "Average eliminated features accuracy for seeds\n"
     ]
    },
    {
     "data": {
      "text/plain": [
       "87.30158730158732"
      ]
     },
     "execution_count": 658,
     "metadata": {},
     "output_type": "execute_result"
    }
   ],
   "source": [
    "summation = 0\n",
    "for i in range(0, len(elimination_features_accuracy)):\n",
    "    summation = summation + elimination_features_accuracy[i][0]\n",
    "    \n",
    "print(\"Average eliminated features accuracy for seeds\")\n",
    "summation/10"
   ]
  },
  {
   "cell_type": "code",
   "execution_count": 659,
   "metadata": {},
   "outputs": [
    {
     "name": "stdout",
     "output_type": "stream",
     "text": [
      "Average eliminated features f1 for seeds\n"
     ]
    },
    {
     "data": {
      "text/plain": [
       "0.8744379005357314"
      ]
     },
     "execution_count": 659,
     "metadata": {},
     "output_type": "execute_result"
    }
   ],
   "source": [
    "summation = 0\n",
    "for i in range(0, len(elimination_features_accuracy)):\n",
    "    summation = summation + elimination_features_accuracy[i][1]\n",
    "    \n",
    "print(\"Average eliminated features f1 for seeds\")\n",
    "summation/10"
   ]
  }
 ],
 "metadata": {
  "kernelspec": {
   "display_name": "Python 3",
   "language": "python",
   "name": "python3"
  },
  "language_info": {
   "codemirror_mode": {
    "name": "ipython",
    "version": 3
   },
   "file_extension": ".py",
   "mimetype": "text/x-python",
   "name": "python",
   "nbconvert_exporter": "python",
   "pygments_lexer": "ipython3",
   "version": "3.8.5"
  }
 },
 "nbformat": 4,
 "nbformat_minor": 4
}
