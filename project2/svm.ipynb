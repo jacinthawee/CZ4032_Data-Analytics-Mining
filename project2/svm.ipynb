{
  "nbformat": 4,
  "nbformat_minor": 0,
  "metadata": {
    "colab": {
      "provenance": []
    },
    "kernelspec": {
      "name": "python3",
      "display_name": "Python 3"
    },
    "language_info": {
      "name": "python"
    }
  },
  "cells": [
    {
      "cell_type": "code",
      "execution_count": 250,
      "metadata": {
        "id": "2BT7FsTpnK0S"
      },
      "outputs": [],
      "source": [
        "import pandas as pd\n",
        "import numpy as np\n",
        "import os\n",
        "import matplotlib.pyplot as plt\n",
        "from sklearn import svm\n",
        "from sklearn.model_selection import train_test_split\n",
        "from sklearn.metrics import accuracy_score, f1_score\n",
        "from sklearn.preprocessing import OneHotEncoder, LabelEncoder"
      ]
    },
    {
      "cell_type": "code",
      "source": [
        "from google.colab import drive\n",
        "drive.mount('/content/drive/')"
      ],
      "metadata": {
        "colab": {
          "base_uri": "https://localhost:8080/"
        },
        "id": "lFUS4JGZnzBN",
        "outputId": "f2f7e1fe-af58-4cb7-c1c5-84a000d97cb0"
      },
      "execution_count": 2,
      "outputs": [
        {
          "output_type": "stream",
          "name": "stdout",
          "text": [
            "Mounted at /content/drive/\n"
          ]
        }
      ]
    },
    {
      "cell_type": "code",
      "source": [
        "DATA_HOME = '/content/drive/MyDrive/data/cba'"
      ],
      "metadata": {
        "id": "bnt3CNBbosRU"
      },
      "execution_count": 3,
      "outputs": []
    },
    {
      "cell_type": "code",
      "source": [
        "def create_df(name):\n",
        "  name_path = os.path.join(DATA_HOME, name + '.names')\n",
        "  data_path = os.path.join(DATA_HOME, name + '.data')\n",
        "  df_name = pd.read_csv(name_path)\n",
        "  df_data = pd.read_csv(data_path, names=df_name.columns)\n",
        "  for col in df_data.columns:\n",
        "    if df_data[col].dtype == 'O':\n",
        "      encoder = LabelEncoder()\n",
        "      encoder.fit(df_data[col])\n",
        "      df_data[col] = encoder.transform(df_data[col])\n",
        "  return df_data"
      ],
      "metadata": {
        "id": "Sr-m_8O7qS2V"
      },
      "execution_count": 209,
      "outputs": []
    },
    {
      "cell_type": "code",
      "source": [
        "australian = create_df('australian')\n",
        "german = create_df('german')\n",
        "iris = create_df('iris')\n",
        "tic_tac_toe = create_df('tic-tac-toe')\n",
        "zoo = create_df('zoo')\n",
        "monks = create_df('monks')\n",
        "seeds = create_df('seeds')\n",
        "messidor_features = create_df('messidor_features')"
      ],
      "metadata": {
        "id": "UV0WciPET1v6"
      },
      "execution_count": 241,
      "outputs": []
    },
    {
      "cell_type": "code",
      "source": [
        "australian['class'].unique()"
      ],
      "metadata": {
        "colab": {
          "base_uri": "https://localhost:8080/"
        },
        "id": "XtjUOQ5xnyx7",
        "outputId": "62132554-675e-44f2-cf19-377b52c55a23"
      },
      "execution_count": 212,
      "outputs": [
        {
          "output_type": "execute_result",
          "data": {
            "text/plain": [
              "array([0, 1])"
            ]
          },
          "metadata": {},
          "execution_count": 212
        }
      ]
    },
    {
      "cell_type": "code",
      "source": [
        "german['class'].unique()"
      ],
      "metadata": {
        "colab": {
          "base_uri": "https://localhost:8080/"
        },
        "id": "VRnQtBWpn4dd",
        "outputId": "d902a82b-3de4-40c2-d663-f679c0f0b1bb"
      },
      "execution_count": 214,
      "outputs": [
        {
          "output_type": "execute_result",
          "data": {
            "text/plain": [
              "array([1, 2])"
            ]
          },
          "metadata": {},
          "execution_count": 214
        }
      ]
    },
    {
      "cell_type": "code",
      "source": [
        "iris['class'].unique()"
      ],
      "metadata": {
        "colab": {
          "base_uri": "https://localhost:8080/"
        },
        "id": "mjzqyQFtn4SX",
        "outputId": "5c495109-a8a7-46dc-e8b8-d4b698266751"
      },
      "execution_count": 215,
      "outputs": [
        {
          "output_type": "execute_result",
          "data": {
            "text/plain": [
              "array([0, 1, 2])"
            ]
          },
          "metadata": {},
          "execution_count": 215
        }
      ]
    },
    {
      "cell_type": "code",
      "source": [
        "tic_tac_toe['class'].unique()"
      ],
      "metadata": {
        "colab": {
          "base_uri": "https://localhost:8080/"
        },
        "id": "eDA-v0WLn4Hi",
        "outputId": "3bb08c83-eb4d-4851-d604-25a5abc781c2"
      },
      "execution_count": 242,
      "outputs": [
        {
          "output_type": "execute_result",
          "data": {
            "text/plain": [
              "array([1, 0])"
            ]
          },
          "metadata": {},
          "execution_count": 242
        }
      ]
    },
    {
      "cell_type": "code",
      "source": [
        "zoo['class'].unique()"
      ],
      "metadata": {
        "colab": {
          "base_uri": "https://localhost:8080/"
        },
        "id": "N7WFwwNvn34U",
        "outputId": "595c983a-9607-4b63-f7e9-ebe33642236b"
      },
      "execution_count": 217,
      "outputs": [
        {
          "output_type": "execute_result",
          "data": {
            "text/plain": [
              "array([1, 4, 2, 7, 6, 5, 3])"
            ]
          },
          "metadata": {},
          "execution_count": 217
        }
      ]
    },
    {
      "cell_type": "code",
      "source": [
        "monks['class'].unique()"
      ],
      "metadata": {
        "colab": {
          "base_uri": "https://localhost:8080/"
        },
        "id": "QOj7YKoaPp3l",
        "outputId": "ee6cbfd5-cf27-4cc5-8673-cec9ea4c61d6"
      },
      "execution_count": 218,
      "outputs": [
        {
          "output_type": "execute_result",
          "data": {
            "text/plain": [
              "array([1, 0])"
            ]
          },
          "metadata": {},
          "execution_count": 218
        }
      ]
    },
    {
      "cell_type": "code",
      "source": [
        "seeds['class'].unique()"
      ],
      "metadata": {
        "colab": {
          "base_uri": "https://localhost:8080/"
        },
        "id": "Kd0ibQfWPtpK",
        "outputId": "db17af61-306e-435e-ddc9-180b21b4c213"
      },
      "execution_count": 219,
      "outputs": [
        {
          "output_type": "execute_result",
          "data": {
            "text/plain": [
              "array([1, 2, 3])"
            ]
          },
          "metadata": {},
          "execution_count": 219
        }
      ]
    },
    {
      "cell_type": "code",
      "source": [
        "messidor_features['class'].unique()"
      ],
      "metadata": {
        "colab": {
          "base_uri": "https://localhost:8080/"
        },
        "id": "n6S4ZNxOPv34",
        "outputId": "299ea137-717f-44db-f6cf-0c7c54a15b46"
      },
      "execution_count": 220,
      "outputs": [
        {
          "output_type": "execute_result",
          "data": {
            "text/plain": [
              "array([0, 1])"
            ]
          },
          "metadata": {},
          "execution_count": 220
        }
      ]
    },
    {
      "cell_type": "code",
      "source": [
        "def svm_model(df, test_split, kernel, seed):\n",
        "  X = df.drop('class', axis=1)\n",
        "  y = df['class']\n",
        "  X_train, X_test, y_train, y_test = train_test_split(X, y, test_size=test_split, random_state=seed)\n",
        "  clf = svm.SVC(kernel=kernel)\n",
        "  clf.fit(X_train, y_train)\n",
        "  y_pred = clf.predict(X_test)\n",
        "  return accuracy_score(y_test, y_pred), f1_score(y_test, y_pred, average='weighted')"
      ],
      "metadata": {
        "id": "HsoGLN27Uo8a"
      },
      "execution_count": 247,
      "outputs": []
    },
    {
      "cell_type": "code",
      "source": [
        "def multi_svm_model(df, test_split, kernel, seed):\n",
        "  clfs = []\n",
        "  y_pred = []\n",
        "  y_pred_to_class = []\n",
        "  X = df.drop('class', axis = 1)\n",
        "  y = df[['class']]\n",
        "  X_train, X_test, y_train, y_test = train_test_split(X, y, test_size=test_split, random_state=seed)\n",
        "  for i in df['class'].unique():\n",
        "    y_train_new = [1 if t==i else 0 for t in y_train['class']]\n",
        "    clf = svm.SVC(kernel=kernel)\n",
        "    clf.fit(X_train, y_train_new)\n",
        "    clfs.append(clf)\n",
        "  for clf in clfs:\n",
        "    y_pred.append(clf.predict(X_test))\n",
        "  y_pred_enc = np.transpose(np.array(y_pred)) # y_pred_enc is now an one-hot encoded class\n",
        "  encoder = OneHotEncoder()\n",
        "  encoder.fit(y)\n",
        "  y_test_enc = encoder.transform(y_test).toarray()\n",
        "  return accuracy_score(y_test_enc, y_pred_enc), f1_score(y_test_enc, y_pred_enc, average='weighted')"
      ],
      "metadata": {
        "id": "auUsczP9YWcd"
      },
      "execution_count": 261,
      "outputs": []
    },
    {
      "cell_type": "code",
      "source": [
        "australian = create_df('australian')\n",
        "german = create_df('german')\n",
        "iris = create_df('iris')\n",
        "tic_tac_toc = create_df('tic-tac-toe')\n",
        "zoo = create_df('zoo')\n",
        "monks = create_df('monks')\n",
        "seeds = create_df('seeds')\n",
        "messidor_features = create_df('messidor_features')"
      ],
      "metadata": {
        "id": "w5svUPuyvAYG"
      },
      "execution_count": 262,
      "outputs": []
    },
    {
      "cell_type": "code",
      "source": [
        "multi_svm_model(iris, 0.3, 'linear', 42)"
      ],
      "metadata": {
        "colab": {
          "base_uri": "https://localhost:8080/"
        },
        "id": "HbFqKy0PvAEH",
        "outputId": "c8cfdbb8-6cca-4ebb-f60a-88e45dc5fa23"
      },
      "execution_count": 263,
      "outputs": [
        {
          "output_type": "execute_result",
          "data": {
            "text/plain": [
              "(0.7333333333333333, 0.8266666666666668)"
            ]
          },
          "metadata": {},
          "execution_count": 263
        }
      ]
    },
    {
      "cell_type": "code",
      "source": [
        "multi_svm_model(iris, 0.3, 'poly', 42)"
      ],
      "metadata": {
        "colab": {
          "base_uri": "https://localhost:8080/"
        },
        "id": "Ep4EygaSu_zb",
        "outputId": "7034e8fe-8b75-4e5a-eb1b-479bae691229"
      },
      "execution_count": 264,
      "outputs": [
        {
          "output_type": "execute_result",
          "data": {
            "text/plain": [
              "(0.9777777777777777, 0.9893004115226337)"
            ]
          },
          "metadata": {},
          "execution_count": 264
        }
      ]
    },
    {
      "cell_type": "code",
      "source": [
        "multi_svm_model(iris, 0.3, 'rbf', 42)"
      ],
      "metadata": {
        "colab": {
          "base_uri": "https://localhost:8080/"
        },
        "id": "_F1Bb3Ngu_sZ",
        "outputId": "1c3fc852-ab11-4957-f3a8-6e03e9dd12fa"
      },
      "execution_count": 265,
      "outputs": [
        {
          "output_type": "execute_result",
          "data": {
            "text/plain": [
              "(0.9777777777777777, 0.9893004115226337)"
            ]
          },
          "metadata": {},
          "execution_count": 265
        }
      ]
    },
    {
      "cell_type": "code",
      "source": [
        "multi_svm_model(iris, 0.3, 'sigmoid', 42)"
      ],
      "metadata": {
        "colab": {
          "base_uri": "https://localhost:8080/"
        },
        "id": "HFGhr32lu_kd",
        "outputId": "42a017f4-c509-49a1-8b48-aad4d088b315"
      },
      "execution_count": 266,
      "outputs": [
        {
          "output_type": "execute_result",
          "data": {
            "text/plain": [
              "(0.0, 0.0)"
            ]
          },
          "metadata": {},
          "execution_count": 266
        }
      ]
    },
    {
      "cell_type": "code",
      "source": [],
      "metadata": {
        "id": "-pttbq4Gu_cH"
      },
      "execution_count": null,
      "outputs": []
    },
    {
      "cell_type": "code",
      "source": [
        "multi_svm_model(zoo, 0.3, 'linear', 42)"
      ],
      "metadata": {
        "colab": {
          "base_uri": "https://localhost:8080/"
        },
        "id": "5Tb8eS3uu_Tq",
        "outputId": "faf8a01f-7fe4-41d2-f1bc-c216d16039e1"
      },
      "execution_count": 267,
      "outputs": [
        {
          "output_type": "execute_result",
          "data": {
            "text/plain": [
              "(0.4838709677419355, 0.4838709677419355)"
            ]
          },
          "metadata": {},
          "execution_count": 267
        }
      ]
    },
    {
      "cell_type": "code",
      "source": [
        "multi_svm_model(zoo, 0.3, 'poly', 42)"
      ],
      "metadata": {
        "colab": {
          "base_uri": "https://localhost:8080/"
        },
        "id": "8UJprJsAwiMw",
        "outputId": "fb682592-1983-4415-d41a-71a7bad56d6e"
      },
      "execution_count": 268,
      "outputs": [
        {
          "output_type": "execute_result",
          "data": {
            "text/plain": [
              "(0.45161290322580644, 0.46718576195773087)"
            ]
          },
          "metadata": {},
          "execution_count": 268
        }
      ]
    },
    {
      "cell_type": "code",
      "source": [
        "multi_svm_model(zoo, 0.3, 'rbf', 42)"
      ],
      "metadata": {
        "colab": {
          "base_uri": "https://localhost:8080/"
        },
        "id": "eLOK7CsRwh9s",
        "outputId": "1cfeb331-41d9-4d9a-97f7-f651bb6e07ad"
      },
      "execution_count": 269,
      "outputs": [
        {
          "output_type": "execute_result",
          "data": {
            "text/plain": [
              "(0.4838709677419355, 0.4838709677419355)"
            ]
          },
          "metadata": {},
          "execution_count": 269
        }
      ]
    },
    {
      "cell_type": "code",
      "source": [
        "multi_svm_model(zoo, 0.3, 'sigmoid', 42)"
      ],
      "metadata": {
        "colab": {
          "base_uri": "https://localhost:8080/"
        },
        "id": "MIYgcvDBwhwy",
        "outputId": "02248256-1035-4368-ef62-01831e9918c3"
      },
      "execution_count": 270,
      "outputs": [
        {
          "output_type": "execute_result",
          "data": {
            "text/plain": [
              "(0.4838709677419355, 0.37220843672456577)"
            ]
          },
          "metadata": {},
          "execution_count": 270
        }
      ]
    },
    {
      "cell_type": "code",
      "source": [],
      "metadata": {
        "id": "G8SRQxT0u_HI"
      },
      "execution_count": null,
      "outputs": []
    },
    {
      "cell_type": "code",
      "source": [
        "multi_svm_model(seeds, 0.3, 'linear', 42)"
      ],
      "metadata": {
        "colab": {
          "base_uri": "https://localhost:8080/"
        },
        "id": "M0BZte5sl-px",
        "outputId": "211f390c-f2b5-423f-c0e4-f63131952fc9"
      },
      "execution_count": 271,
      "outputs": [
        {
          "output_type": "execute_result",
          "data": {
            "text/plain": [
              "(0.8888888888888888, 0.9298404095152063)"
            ]
          },
          "metadata": {},
          "execution_count": 271
        }
      ]
    },
    {
      "cell_type": "code",
      "source": [
        "multi_svm_model(seeds, 0.3, 'poly', 42)"
      ],
      "metadata": {
        "colab": {
          "base_uri": "https://localhost:8080/"
        },
        "id": "PYvVbfngp0ge",
        "outputId": "86e76f1e-e9e0-480a-da35-96b24bae82e1"
      },
      "execution_count": 272,
      "outputs": [
        {
          "output_type": "execute_result",
          "data": {
            "text/plain": [
              "(0.7936507936507936, 0.8694253750317822)"
            ]
          },
          "metadata": {},
          "execution_count": 272
        }
      ]
    },
    {
      "cell_type": "code",
      "source": [
        "multi_svm_model(seeds, 0.3, 'rbf', 42)"
      ],
      "metadata": {
        "colab": {
          "base_uri": "https://localhost:8080/"
        },
        "id": "TYZR1wAYqTf1",
        "outputId": "949bcb71-8d4a-4b98-aac9-148cc48ef3d8"
      },
      "execution_count": 273,
      "outputs": [
        {
          "output_type": "execute_result",
          "data": {
            "text/plain": [
              "(0.7936507936507936, 0.8558097833460152)"
            ]
          },
          "metadata": {},
          "execution_count": 273
        }
      ]
    },
    {
      "cell_type": "code",
      "source": [
        "multi_svm_model(seeds, 0.3, 'sigmoid', 42)"
      ],
      "metadata": {
        "colab": {
          "base_uri": "https://localhost:8080/"
        },
        "id": "NmLeCBPtqV7M",
        "outputId": "e1b25319-0d34-4352-a42c-270116964880"
      },
      "execution_count": 274,
      "outputs": [
        {
          "output_type": "execute_result",
          "data": {
            "text/plain": [
              "(0.0, 0.0)"
            ]
          },
          "metadata": {},
          "execution_count": 274
        }
      ]
    },
    {
      "cell_type": "code",
      "source": [],
      "metadata": {
        "id": "3iH9gGoXqi5e"
      },
      "execution_count": null,
      "outputs": []
    },
    {
      "cell_type": "code",
      "source": [
        "svm_model(australian, 0.3, 'linear', 42)"
      ],
      "metadata": {
        "colab": {
          "base_uri": "https://localhost:8080/"
        },
        "id": "yX4ZX8o7xGhm",
        "outputId": "fa68fb67-58ba-4e83-c0f5-320e30957466"
      },
      "execution_count": 275,
      "outputs": [
        {
          "output_type": "execute_result",
          "data": {
            "text/plain": [
              "(0.8695652173913043, 0.8687570512495865)"
            ]
          },
          "metadata": {},
          "execution_count": 275
        }
      ]
    },
    {
      "cell_type": "code",
      "source": [
        "svm_model(australian, 0.3, 'poly', 42)"
      ],
      "metadata": {
        "colab": {
          "base_uri": "https://localhost:8080/"
        },
        "id": "50FfUiU-xGa-",
        "outputId": "da442cfb-96e5-45dd-d325-c268927392e0"
      },
      "execution_count": 276,
      "outputs": [
        {
          "output_type": "execute_result",
          "data": {
            "text/plain": [
              "(0.6376811594202898, 0.5230595711318653)"
            ]
          },
          "metadata": {},
          "execution_count": 276
        }
      ]
    },
    {
      "cell_type": "code",
      "source": [
        "svm_model(australian, 0.3, 'rbf', 42)"
      ],
      "metadata": {
        "colab": {
          "base_uri": "https://localhost:8080/"
        },
        "id": "XWXLu8Y9xGT-",
        "outputId": "5001fba1-2556-4187-ac97-e5de6014a4d5"
      },
      "execution_count": 277,
      "outputs": [
        {
          "output_type": "execute_result",
          "data": {
            "text/plain": [
              "(0.6859903381642513, 0.6369313463286405)"
            ]
          },
          "metadata": {},
          "execution_count": 277
        }
      ]
    },
    {
      "cell_type": "code",
      "source": [
        "svm_model(australian, 0.3, 'sigmoid', 42)"
      ],
      "metadata": {
        "colab": {
          "base_uri": "https://localhost:8080/"
        },
        "id": "qxeufxbIxGQl",
        "outputId": "9c9baeb9-12a9-4b6e-9cd7-19537b640f07"
      },
      "execution_count": 278,
      "outputs": [
        {
          "output_type": "execute_result",
          "data": {
            "text/plain": [
              "(0.6859903381642513, 0.676137275206744)"
            ]
          },
          "metadata": {},
          "execution_count": 278
        }
      ]
    },
    {
      "cell_type": "code",
      "source": [],
      "metadata": {
        "id": "IgBerZCPxGJw"
      },
      "execution_count": null,
      "outputs": []
    },
    {
      "cell_type": "code",
      "source": [
        "svm_model(german, 0.3, 'linear', 42)"
      ],
      "metadata": {
        "colab": {
          "base_uri": "https://localhost:8080/"
        },
        "id": "WWIDSV_TxGCh",
        "outputId": "b56aaf41-9f36-49b9-f72f-74c9b8039a7c"
      },
      "execution_count": 279,
      "outputs": [
        {
          "output_type": "execute_result",
          "data": {
            "text/plain": [
              "(0.7633333333333333, 0.7511683992082548)"
            ]
          },
          "metadata": {},
          "execution_count": 279
        }
      ]
    },
    {
      "cell_type": "code",
      "source": [
        "svm_model(german, 0.3, 'poly', 42)"
      ],
      "metadata": {
        "colab": {
          "base_uri": "https://localhost:8080/"
        },
        "id": "CTLK4UT_y7f3",
        "outputId": "007ccf64-1495-4d4c-9d56-7ce1bb61b1ce"
      },
      "execution_count": 280,
      "outputs": [
        {
          "output_type": "execute_result",
          "data": {
            "text/plain": [
              "(0.7, 0.5798356727148237)"
            ]
          },
          "metadata": {},
          "execution_count": 280
        }
      ]
    },
    {
      "cell_type": "code",
      "source": [
        "svm_model(german, 0.3, 'rbf', 42)"
      ],
      "metadata": {
        "colab": {
          "base_uri": "https://localhost:8080/"
        },
        "id": "SqQJwTUcy71Z",
        "outputId": "a058affd-8644-4ee1-f5f4-07579d0c5e36"
      },
      "execution_count": 281,
      "outputs": [
        {
          "output_type": "execute_result",
          "data": {
            "text/plain": [
              "(0.7133333333333334, 0.6093882275132274)"
            ]
          },
          "metadata": {},
          "execution_count": 281
        }
      ]
    },
    {
      "cell_type": "code",
      "source": [
        "svm_model(german, 0.3, 'sigmoid', 42)"
      ],
      "metadata": {
        "colab": {
          "base_uri": "https://localhost:8080/"
        },
        "id": "29LJ43Dty8OQ",
        "outputId": "ece278b1-2acb-40a6-e30b-fce1cdd11cd9"
      },
      "execution_count": 282,
      "outputs": [
        {
          "output_type": "execute_result",
          "data": {
            "text/plain": [
              "(0.58, 0.5812729933110368)"
            ]
          },
          "metadata": {},
          "execution_count": 282
        }
      ]
    },
    {
      "cell_type": "code",
      "source": [],
      "metadata": {
        "id": "whjTE8S6xF9D"
      },
      "execution_count": null,
      "outputs": []
    },
    {
      "cell_type": "code",
      "source": [
        "svm_model(tic_tac_toe, 0.3, 'linear', 42)"
      ],
      "metadata": {
        "colab": {
          "base_uri": "https://localhost:8080/"
        },
        "id": "u8yjzpUz0yQe",
        "outputId": "bac1993b-5e83-4ff7-df4e-a8c943e2564a"
      },
      "execution_count": 283,
      "outputs": [
        {
          "output_type": "execute_result",
          "data": {
            "text/plain": [
              "(0.6701388888888888, 0.5377829752829753)"
            ]
          },
          "metadata": {},
          "execution_count": 283
        }
      ]
    },
    {
      "cell_type": "code",
      "source": [
        "svm_model(tic_tac_toe, 0.3, 'poly', 42)"
      ],
      "metadata": {
        "colab": {
          "base_uri": "https://localhost:8080/"
        },
        "id": "JiUaB7Xl0yFZ",
        "outputId": "b9434412-896e-4cb7-fa5f-37511f977dc3"
      },
      "execution_count": 284,
      "outputs": [
        {
          "output_type": "execute_result",
          "data": {
            "text/plain": [
              "(0.9479166666666666, 0.9473843838206872)"
            ]
          },
          "metadata": {},
          "execution_count": 284
        }
      ]
    },
    {
      "cell_type": "code",
      "source": [
        "svm_model(tic_tac_toe, 0.3, 'rbf', 42)"
      ],
      "metadata": {
        "colab": {
          "base_uri": "https://localhost:8080/"
        },
        "id": "Y25JPh4g0x6Q",
        "outputId": "16d720df-fe93-42f4-a344-c4031cfee2e4"
      },
      "execution_count": 285,
      "outputs": [
        {
          "output_type": "execute_result",
          "data": {
            "text/plain": [
              "(0.875, 0.8671264611471141)"
            ]
          },
          "metadata": {},
          "execution_count": 285
        }
      ]
    },
    {
      "cell_type": "code",
      "source": [
        "svm_model(tic_tac_toe, 0.3, 'sigmoid', 42)"
      ],
      "metadata": {
        "colab": {
          "base_uri": "https://localhost:8080/"
        },
        "id": "iYsckeES0xu0",
        "outputId": "82c21599-5a01-4546-fb91-209f1a5d3085"
      },
      "execution_count": 286,
      "outputs": [
        {
          "output_type": "execute_result",
          "data": {
            "text/plain": [
              "(0.6354166666666666, 0.5506710518965421)"
            ]
          },
          "metadata": {},
          "execution_count": 286
        }
      ]
    },
    {
      "cell_type": "code",
      "source": [],
      "metadata": {
        "id": "y6HXFXX10xd1"
      },
      "execution_count": null,
      "outputs": []
    },
    {
      "cell_type": "code",
      "source": [
        "svm_model(monks, 0.3, 'linear', 42)"
      ],
      "metadata": {
        "colab": {
          "base_uri": "https://localhost:8080/"
        },
        "id": "2x5XOcBIUUoC",
        "outputId": "51e9a423-d316-4519-9654-4fd0e1f02b1c"
      },
      "execution_count": 287,
      "outputs": [
        {
          "output_type": "execute_result",
          "data": {
            "text/plain": [
              "(0.7153846153846154, 0.7152330360922585)"
            ]
          },
          "metadata": {},
          "execution_count": 287
        }
      ]
    },
    {
      "cell_type": "code",
      "source": [
        "svm_model(monks, 0.3, 'poly', 42)"
      ],
      "metadata": {
        "colab": {
          "base_uri": "https://localhost:8080/"
        },
        "id": "E_27aG7bVsg5",
        "outputId": "18bf57d5-b0aa-4f75-ea83-105d9677237b"
      },
      "execution_count": 288,
      "outputs": [
        {
          "output_type": "execute_result",
          "data": {
            "text/plain": [
              "(0.9307692307692308, 0.9307321847544217)"
            ]
          },
          "metadata": {},
          "execution_count": 288
        }
      ]
    },
    {
      "cell_type": "code",
      "source": [
        "svm_model(monks, 0.3, 'rbf', 42)"
      ],
      "metadata": {
        "colab": {
          "base_uri": "https://localhost:8080/"
        },
        "id": "pyJX7t-CqaKK",
        "outputId": "af01ca4a-32a9-48d1-aa98-cf6b3357bee5"
      },
      "execution_count": 289,
      "outputs": [
        {
          "output_type": "execute_result",
          "data": {
            "text/plain": [
              "(0.9384615384615385, 0.9384615384615385)"
            ]
          },
          "metadata": {},
          "execution_count": 289
        }
      ]
    },
    {
      "cell_type": "code",
      "source": [
        "svm_model(monks, 0.3, 'sigmoid', 42)"
      ],
      "metadata": {
        "colab": {
          "base_uri": "https://localhost:8080/"
        },
        "id": "z_eXQHakqea5",
        "outputId": "5d5d4c89-52bc-410e-c638-785a469f0ddd"
      },
      "execution_count": 290,
      "outputs": [
        {
          "output_type": "execute_result",
          "data": {
            "text/plain": [
              "(0.46923076923076923, 0.29971808296415625)"
            ]
          },
          "metadata": {},
          "execution_count": 290
        }
      ]
    },
    {
      "cell_type": "code",
      "source": [],
      "metadata": {
        "id": "4Y6zOqalqkF_"
      },
      "execution_count": null,
      "outputs": []
    },
    {
      "cell_type": "code",
      "source": [
        "svm_model(messidor_features, 0.3, 'linear', 42)"
      ],
      "metadata": {
        "colab": {
          "base_uri": "https://localhost:8080/"
        },
        "id": "ylDoy_JcV3ql",
        "outputId": "d8e5d8ea-3270-400d-a293-a0326cf57383"
      },
      "execution_count": 291,
      "outputs": [
        {
          "output_type": "execute_result",
          "data": {
            "text/plain": [
              "(0.7485549132947977, 0.7481242523196652)"
            ]
          },
          "metadata": {},
          "execution_count": 291
        }
      ]
    },
    {
      "cell_type": "code",
      "source": [
        "svm_model(messidor_features, 0.3, 'poly', 42)"
      ],
      "metadata": {
        "colab": {
          "base_uri": "https://localhost:8080/"
        },
        "id": "bjYd6L2iV-ZB",
        "outputId": "886a94a8-a41f-4db3-f24e-94cab8123091"
      },
      "execution_count": 292,
      "outputs": [
        {
          "output_type": "execute_result",
          "data": {
            "text/plain": [
              "(0.6705202312138728, 0.6568107134373267)"
            ]
          },
          "metadata": {},
          "execution_count": 292
        }
      ]
    },
    {
      "cell_type": "code",
      "source": [
        "svm_model(messidor_features, 0.3, 'rbf', 42)"
      ],
      "metadata": {
        "colab": {
          "base_uri": "https://localhost:8080/"
        },
        "id": "oRL5fThqo4QJ",
        "outputId": "ae344da7-08a5-4ed0-fef2-01e24f5effe8"
      },
      "execution_count": 293,
      "outputs": [
        {
          "output_type": "execute_result",
          "data": {
            "text/plain": [
              "(0.6589595375722543, 0.6538209330867456)"
            ]
          },
          "metadata": {},
          "execution_count": 293
        }
      ]
    },
    {
      "cell_type": "code",
      "source": [
        "svm_model(messidor_features, 0.3, 'sigmoid', 42)"
      ],
      "metadata": {
        "colab": {
          "base_uri": "https://localhost:8080/"
        },
        "id": "DYLrrSnwqlrP",
        "outputId": "5d0266f4-c3de-43bc-dcb6-361e61daf7d7"
      },
      "execution_count": 294,
      "outputs": [
        {
          "output_type": "execute_result",
          "data": {
            "text/plain": [
              "(0.41329479768786126, 0.41488158945477177)"
            ]
          },
          "metadata": {},
          "execution_count": 294
        }
      ]
    },
    {
      "cell_type": "code",
      "source": [],
      "metadata": {
        "id": "5viHQKlMqnsX"
      },
      "execution_count": null,
      "outputs": []
    },
    {
      "cell_type": "code",
      "source": [],
      "metadata": {
        "id": "r8p5sfbCqoSg"
      },
      "execution_count": null,
      "outputs": []
    }
  ]
}